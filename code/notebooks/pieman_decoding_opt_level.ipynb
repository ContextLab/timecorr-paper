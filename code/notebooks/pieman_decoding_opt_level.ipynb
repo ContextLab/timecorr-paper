{
 "cells": [
  {
   "cell_type": "code",
   "execution_count": 44,
   "metadata": {},
   "outputs": [],
   "source": [
    "\n",
    "import numpy as np\n",
    "import sys\n",
    "import os\n",
    "import pandas as pd\n",
    "import glob as glob\n",
    "import seaborn as sns\n",
    "import matplotlib.pyplot as plt\n",
    "\n",
    "%matplotlib inline"
   ]
  },
  {
   "cell_type": "code",
   "execution_count": 90,
   "metadata": {},
   "outputs": [],
   "source": [
    "def grouped_barplot(df, x, y, hue, ymin=0, ymax=1, title=None, outfile=None):\n",
    "    #fig, ax = plt.subplots()\n",
    "    g = sns.factorplot(x=x, y=y, hue=hue, data=df, size=8, kind=\"bar\", estimator=np.mean, ci=95, n_boot=1000,\n",
    "                       palette=\"cubehelix\", ax=ax, order=['intact', 'paragraph', 'word', 'rest'])\n",
    "\n",
    "    sns.despine(ax=ax, left=True)\n",
    "    g.set_title(title)\n",
    "    ax.set_ylabel(y)\n",
    "    ax.set_xlabel(x)\n",
    "    ax.set_ylim(ymin, ymax)\n",
    "    l = ax.legend(loc='center right', bbox_to_anchor=(1.75, 0.75), ncol=2)\n",
    "    l.set_title(hue)\n",
    "    if not outfile:\n",
    "        fig.show()\n",
    "    else:\n",
    "        fig.savefig(outfile, bbox_inches='tight')"
   ]
  },
  {
   "cell_type": "code",
   "execution_count": 45,
   "metadata": {},
   "outputs": [],
   "source": [
    "figdir = '../figs'\n",
    "if not os.path.isdir(figdir):\n",
    "    os.mkdir(figdir)"
   ]
  },
  {
   "cell_type": "code",
   "execution_count": 46,
   "metadata": {},
   "outputs": [],
   "source": [
    "resultsdir = '/Users/lucyowen/Desktop/timecorr_env/timecorr_paper/pieman/results/wisfc_eigenvector_centrality_10_mexican_hat_5/level_10'"
   ]
  },
  {
   "cell_type": "markdown",
   "metadata": {},
   "source": [
    "## find maximum level computed for optimization"
   ]
  },
  {
   "cell_type": "code",
   "execution_count": 51,
   "metadata": {},
   "outputs": [],
   "source": [
    "max_level = int(os.path.basename(os.path.splitext(resultsdir)[0]).split('_')[1])"
   ]
  },
  {
   "cell_type": "markdown",
   "metadata": {},
   "source": [
    "## compile to one dataframe"
   ]
  },
  {
   "cell_type": "code",
   "execution_count": 48,
   "metadata": {},
   "outputs": [],
   "source": [
    "conds =glob.glob(os.path.join(resultsdir, '*.csv'))"
   ]
  },
  {
   "cell_type": "code",
   "execution_count": 49,
   "metadata": {},
   "outputs": [],
   "source": [
    "full_data = pd.DataFrame()\n",
    "for c in conds:\n",
    "    data = pd.read_csv(c)\n",
    "    data['cond'] = os.path.basename(os.path.splitext(c)[0])\n",
    "\n",
    "    if full_data.empty:\n",
    "        full_data = data\n",
    "    else:\n",
    "        full_data = full_data.append(data)"
   ]
  },
  {
   "cell_type": "markdown",
   "metadata": {},
   "source": [
    "## create column with max level computed"
   ]
  },
  {
   "cell_type": "code",
   "execution_count": 52,
   "metadata": {},
   "outputs": [],
   "source": [
    "full_data['max_level'] = max_level - full_data.isnull().sum(axis=1)"
   ]
  },
  {
   "cell_type": "code",
   "execution_count": 54,
   "metadata": {},
   "outputs": [
    {
     "data": {
      "text/html": [
       "<div>\n",
       "<style scoped>\n",
       "    .dataframe tbody tr th:only-of-type {\n",
       "        vertical-align: middle;\n",
       "    }\n",
       "\n",
       "    .dataframe tbody tr th {\n",
       "        vertical-align: top;\n",
       "    }\n",
       "\n",
       "    .dataframe thead th {\n",
       "        text-align: right;\n",
       "    }\n",
       "</style>\n",
       "<table border=\"1\" class=\"dataframe\">\n",
       "  <thead>\n",
       "    <tr style=\"text-align: right;\">\n",
       "      <th></th>\n",
       "      <th>Unnamed: 0</th>\n",
       "      <th>accuracy</th>\n",
       "      <th>error</th>\n",
       "      <th>folds</th>\n",
       "      <th>level</th>\n",
       "      <th>level_0</th>\n",
       "      <th>level_1</th>\n",
       "      <th>level_10</th>\n",
       "      <th>level_2</th>\n",
       "      <th>level_3</th>\n",
       "      <th>level_4</th>\n",
       "      <th>level_5</th>\n",
       "      <th>level_6</th>\n",
       "      <th>level_7</th>\n",
       "      <th>level_8</th>\n",
       "      <th>level_9</th>\n",
       "      <th>rank</th>\n",
       "      <th>iteration</th>\n",
       "      <th>cond</th>\n",
       "      <th>max_level</th>\n",
       "    </tr>\n",
       "  </thead>\n",
       "  <tbody>\n",
       "    <tr>\n",
       "      <th>0</th>\n",
       "      <td>0</td>\n",
       "      <td>0.323333</td>\n",
       "      <td>0.035767</td>\n",
       "      <td>0</td>\n",
       "      <td>10</td>\n",
       "      <td>1.000000</td>\n",
       "      <td>NaN</td>\n",
       "      <td>NaN</td>\n",
       "      <td>NaN</td>\n",
       "      <td>NaN</td>\n",
       "      <td>NaN</td>\n",
       "      <td>NaN</td>\n",
       "      <td>NaN</td>\n",
       "      <td>NaN</td>\n",
       "      <td>NaN</td>\n",
       "      <td>NaN</td>\n",
       "      <td>0.987244</td>\n",
       "      <td>0</td>\n",
       "      <td>intact</td>\n",
       "      <td>0</td>\n",
       "    </tr>\n",
       "    <tr>\n",
       "      <th>1</th>\n",
       "      <td>0</td>\n",
       "      <td>0.350000</td>\n",
       "      <td>0.039444</td>\n",
       "      <td>0</td>\n",
       "      <td>10</td>\n",
       "      <td>0.824257</td>\n",
       "      <td>0.175743</td>\n",
       "      <td>NaN</td>\n",
       "      <td>NaN</td>\n",
       "      <td>NaN</td>\n",
       "      <td>NaN</td>\n",
       "      <td>NaN</td>\n",
       "      <td>NaN</td>\n",
       "      <td>NaN</td>\n",
       "      <td>NaN</td>\n",
       "      <td>NaN</td>\n",
       "      <td>0.987711</td>\n",
       "      <td>0</td>\n",
       "      <td>intact</td>\n",
       "      <td>1</td>\n",
       "    </tr>\n",
       "    <tr>\n",
       "      <th>2</th>\n",
       "      <td>0</td>\n",
       "      <td>0.356667</td>\n",
       "      <td>0.039433</td>\n",
       "      <td>0</td>\n",
       "      <td>10</td>\n",
       "      <td>0.819030</td>\n",
       "      <td>0.159728</td>\n",
       "      <td>NaN</td>\n",
       "      <td>0.021242</td>\n",
       "      <td>NaN</td>\n",
       "      <td>NaN</td>\n",
       "      <td>NaN</td>\n",
       "      <td>NaN</td>\n",
       "      <td>NaN</td>\n",
       "      <td>NaN</td>\n",
       "      <td>NaN</td>\n",
       "      <td>0.987733</td>\n",
       "      <td>0</td>\n",
       "      <td>intact</td>\n",
       "      <td>2</td>\n",
       "    </tr>\n",
       "    <tr>\n",
       "      <th>3</th>\n",
       "      <td>0</td>\n",
       "      <td>0.343333</td>\n",
       "      <td>0.037878</td>\n",
       "      <td>0</td>\n",
       "      <td>10</td>\n",
       "      <td>0.776313</td>\n",
       "      <td>0.152645</td>\n",
       "      <td>NaN</td>\n",
       "      <td>0.035197</td>\n",
       "      <td>0.035845</td>\n",
       "      <td>NaN</td>\n",
       "      <td>NaN</td>\n",
       "      <td>NaN</td>\n",
       "      <td>NaN</td>\n",
       "      <td>NaN</td>\n",
       "      <td>NaN</td>\n",
       "      <td>0.987933</td>\n",
       "      <td>0</td>\n",
       "      <td>intact</td>\n",
       "      <td>3</td>\n",
       "    </tr>\n",
       "    <tr>\n",
       "      <th>4</th>\n",
       "      <td>0</td>\n",
       "      <td>0.213333</td>\n",
       "      <td>0.091344</td>\n",
       "      <td>0</td>\n",
       "      <td>10</td>\n",
       "      <td>0.161911</td>\n",
       "      <td>0.287369</td>\n",
       "      <td>NaN</td>\n",
       "      <td>0.209105</td>\n",
       "      <td>0.238255</td>\n",
       "      <td>0.10336</td>\n",
       "      <td>NaN</td>\n",
       "      <td>NaN</td>\n",
       "      <td>NaN</td>\n",
       "      <td>NaN</td>\n",
       "      <td>NaN</td>\n",
       "      <td>0.979722</td>\n",
       "      <td>0</td>\n",
       "      <td>intact</td>\n",
       "      <td>4</td>\n",
       "    </tr>\n",
       "  </tbody>\n",
       "</table>\n",
       "</div>"
      ],
      "text/plain": [
       "   Unnamed: 0  accuracy     error  folds  level   level_0   level_1  level_10  \\\n",
       "0           0  0.323333  0.035767      0     10  1.000000       NaN       NaN   \n",
       "1           0  0.350000  0.039444      0     10  0.824257  0.175743       NaN   \n",
       "2           0  0.356667  0.039433      0     10  0.819030  0.159728       NaN   \n",
       "3           0  0.343333  0.037878      0     10  0.776313  0.152645       NaN   \n",
       "4           0  0.213333  0.091344      0     10  0.161911  0.287369       NaN   \n",
       "\n",
       "    level_2   level_3  level_4  level_5  level_6  level_7  level_8  level_9  \\\n",
       "0       NaN       NaN      NaN      NaN      NaN      NaN      NaN      NaN   \n",
       "1       NaN       NaN      NaN      NaN      NaN      NaN      NaN      NaN   \n",
       "2  0.021242       NaN      NaN      NaN      NaN      NaN      NaN      NaN   \n",
       "3  0.035197  0.035845      NaN      NaN      NaN      NaN      NaN      NaN   \n",
       "4  0.209105  0.238255  0.10336      NaN      NaN      NaN      NaN      NaN   \n",
       "\n",
       "       rank  iteration    cond  max_level  \n",
       "0  0.987244          0  intact          0  \n",
       "1  0.987711          0  intact          1  \n",
       "2  0.987733          0  intact          2  \n",
       "3  0.987933          0  intact          3  \n",
       "4  0.979722          0  intact          4  "
      ]
     },
     "execution_count": 54,
     "metadata": {},
     "output_type": "execute_result"
    }
   ],
   "source": [
    "full_data.head()"
   ]
  },
  {
   "cell_type": "code",
   "execution_count": 87,
   "metadata": {},
   "outputs": [],
   "source": [
    "melted_temp_df = pd.DataFrame()\n",
    "melted_temp_df['max_level'] = full_data['max_level']\n",
    "melted_temp_df['accuracy'] = full_data['accuracy']\n",
    "melted_temp_df['cond'] = full_data['cond']\n",
    "melted_temp_df['1 - error'] = 1-full_data['error']"
   ]
  },
  {
   "cell_type": "code",
   "execution_count": 88,
   "metadata": {},
   "outputs": [
    {
     "data": {
      "text/html": [
       "<div>\n",
       "<style scoped>\n",
       "    .dataframe tbody tr th:only-of-type {\n",
       "        vertical-align: middle;\n",
       "    }\n",
       "\n",
       "    .dataframe tbody tr th {\n",
       "        vertical-align: top;\n",
       "    }\n",
       "\n",
       "    .dataframe thead th {\n",
       "        text-align: right;\n",
       "    }\n",
       "</style>\n",
       "<table border=\"1\" class=\"dataframe\">\n",
       "  <thead>\n",
       "    <tr style=\"text-align: right;\">\n",
       "      <th></th>\n",
       "      <th>max_level</th>\n",
       "      <th>accuracy</th>\n",
       "      <th>cond</th>\n",
       "      <th>1 - error</th>\n",
       "    </tr>\n",
       "  </thead>\n",
       "  <tbody>\n",
       "    <tr>\n",
       "      <th>0</th>\n",
       "      <td>0</td>\n",
       "      <td>0.323333</td>\n",
       "      <td>intact</td>\n",
       "      <td>0.964233</td>\n",
       "    </tr>\n",
       "    <tr>\n",
       "      <th>1</th>\n",
       "      <td>1</td>\n",
       "      <td>0.350000</td>\n",
       "      <td>intact</td>\n",
       "      <td>0.960556</td>\n",
       "    </tr>\n",
       "    <tr>\n",
       "      <th>2</th>\n",
       "      <td>2</td>\n",
       "      <td>0.356667</td>\n",
       "      <td>intact</td>\n",
       "      <td>0.960567</td>\n",
       "    </tr>\n",
       "    <tr>\n",
       "      <th>3</th>\n",
       "      <td>3</td>\n",
       "      <td>0.343333</td>\n",
       "      <td>intact</td>\n",
       "      <td>0.962122</td>\n",
       "    </tr>\n",
       "    <tr>\n",
       "      <th>4</th>\n",
       "      <td>4</td>\n",
       "      <td>0.213333</td>\n",
       "      <td>intact</td>\n",
       "      <td>0.908656</td>\n",
       "    </tr>\n",
       "  </tbody>\n",
       "</table>\n",
       "</div>"
      ],
      "text/plain": [
       "   max_level  accuracy    cond  1 - error\n",
       "0          0  0.323333  intact   0.964233\n",
       "1          1  0.350000  intact   0.960556\n",
       "2          2  0.356667  intact   0.960567\n",
       "3          3  0.343333  intact   0.962122\n",
       "4          4  0.213333  intact   0.908656"
      ]
     },
     "execution_count": 88,
     "metadata": {},
     "output_type": "execute_result"
    }
   ],
   "source": [
    "melted_temp_df.head()"
   ]
  },
  {
   "cell_type": "code",
   "execution_count": 91,
   "metadata": {},
   "outputs": [
    {
     "ename": "NameError",
     "evalue": "name 'ax' is not defined",
     "output_type": "error",
     "traceback": [
      "\u001b[0;31m---------------------------------------------------------------------------\u001b[0m",
      "\u001b[0;31mNameError\u001b[0m                                 Traceback (most recent call last)",
      "\u001b[0;32m<ipython-input-91-3280266dba7e>\u001b[0m in \u001b[0;36m<module>\u001b[0;34m()\u001b[0m\n\u001b[1;32m      1\u001b[0m \u001b[0mplt\u001b[0m\u001b[0;34m.\u001b[0m\u001b[0mclf\u001b[0m\u001b[0;34m(\u001b[0m\u001b[0;34m)\u001b[0m\u001b[0;34m\u001b[0m\u001b[0m\n\u001b[0;32m----> 2\u001b[0;31m \u001b[0mgrouped_barplot\u001b[0m\u001b[0;34m(\u001b[0m\u001b[0mmelted_temp_df\u001b[0m\u001b[0;34m,\u001b[0m \u001b[0;34m'cond'\u001b[0m\u001b[0;34m,\u001b[0m \u001b[0;34m'accuracy'\u001b[0m\u001b[0;34m,\u001b[0m \u001b[0;34m'max_level'\u001b[0m\u001b[0;34m,\u001b[0m \u001b[0mymin\u001b[0m\u001b[0;34m=\u001b[0m\u001b[0;36m0\u001b[0m\u001b[0;34m,\u001b[0m \u001b[0mymax\u001b[0m\u001b[0;34m=\u001b[0m\u001b[0;36m.3\u001b[0m\u001b[0;34m,\u001b[0m \u001b[0mtitle\u001b[0m\u001b[0;34m=\u001b[0m\u001b[0;34m'optimizing weights'\u001b[0m\u001b[0;34m)\u001b[0m\u001b[0;34m\u001b[0m\u001b[0m\n\u001b[0m",
      "\u001b[0;32m<ipython-input-90-9cf7258f0120>\u001b[0m in \u001b[0;36mgrouped_barplot\u001b[0;34m(df, x, y, hue, ymin, ymax, title, outfile)\u001b[0m\n\u001b[1;32m      2\u001b[0m     \u001b[0;31m#fig, ax = plt.subplots()\u001b[0m\u001b[0;34m\u001b[0m\u001b[0;34m\u001b[0m\u001b[0m\n\u001b[1;32m      3\u001b[0m     g = sns.factorplot(x=x, y=y, hue=hue, data=df, size=8, kind=\"bar\", estimator=np.mean, ci=95, n_boot=1000,\n\u001b[0;32m----> 4\u001b[0;31m                        palette=\"cubehelix\", ax=ax, order=['intact', 'paragraph', 'word', 'rest'])\n\u001b[0m\u001b[1;32m      5\u001b[0m \u001b[0;34m\u001b[0m\u001b[0m\n\u001b[1;32m      6\u001b[0m     \u001b[0msns\u001b[0m\u001b[0;34m.\u001b[0m\u001b[0mdespine\u001b[0m\u001b[0;34m(\u001b[0m\u001b[0max\u001b[0m\u001b[0;34m=\u001b[0m\u001b[0max\u001b[0m\u001b[0;34m,\u001b[0m \u001b[0mleft\u001b[0m\u001b[0;34m=\u001b[0m\u001b[0;32mTrue\u001b[0m\u001b[0;34m)\u001b[0m\u001b[0;34m\u001b[0m\u001b[0m\n",
      "\u001b[0;31mNameError\u001b[0m: name 'ax' is not defined"
     ]
    },
    {
     "data": {
      "text/plain": [
       "<Figure size 432x288 with 0 Axes>"
      ]
     },
     "metadata": {},
     "output_type": "display_data"
    }
   ],
   "source": [
    "plt.clf()\n",
    "grouped_barplot(melted_temp_df, 'cond', 'accuracy', 'max_level', ymin=0, ymax=.3, title='optimizing weights')"
   ]
  },
  {
   "cell_type": "code",
   "execution_count": 89,
   "metadata": {},
   "outputs": [
    {
     "name": "stderr",
     "output_type": "stream",
     "text": [
      "/usr/local/lib/python3.6/site-packages/seaborn/categorical.py:3666: UserWarning: The `factorplot` function has been renamed to `catplot`. The original name will be removed in a future release. Please update your code. Note that the default `kind` in `factorplot` (`'point'`) has changed `'strip'` in `catplot`.\n",
      "  warnings.warn(msg)\n",
      "/usr/local/lib/python3.6/site-packages/seaborn/categorical.py:3672: UserWarning: The `size` paramter has been renamed to `height`; please update your code.\n",
      "  warnings.warn(msg, UserWarning)\n",
      "/usr/local/lib/python3.6/site-packages/matplotlib/figure.py:457: UserWarning: matplotlib is currently using a non-GUI backend, so cannot show the figure\n",
      "  \"matplotlib is currently using a non-GUI backend, \"\n"
     ]
    },
    {
     "data": {
      "image/png": "[encoded data removed]",
      "text/plain": [
       "<Figure size 432x288 with 1 Axes>"
      ]
     },
     "metadata": {
      "needs_background": "light"
     },
     "output_type": "display_data"
    },
    {
     "data": {
      "image/png": "[encoded data removed]",
      "text/plain": [
       "<Figure size 681.15x576 with 1 Axes>"
      ]
     },
     "metadata": {
      "needs_background": "light"
     },
     "output_type": "display_data"
    }
   ],
   "source": [
    "grouped_barplot(melted_temp_df, 'cond', '1 - error', 'max_level', ymin=.65, ymax=1, title='optimizing weights')"
   ]
  }
 ],
 "metadata": {
  "kernelspec": {
   "display_name": "Python 3",
   "language": "python",
   "name": "python3"
  },
  "language_info": {
   "codemirror_mode": {
    "name": "ipython",
    "version": 3
   },
   "file_extension": ".py",
   "mimetype": "text/x-python",
   "name": "python",
   "nbconvert_exporter": "python",
   "pygments_lexer": "ipython3",
   "version": "3.6.5"
  }
 },
 "nbformat": 4,
 "nbformat_minor": 2
}
