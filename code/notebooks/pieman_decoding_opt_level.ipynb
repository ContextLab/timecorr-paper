{
 "cells": [
  {
   "cell_type": "code",
   "execution_count": 10,
   "metadata": {},
   "outputs": [],
   "source": [
    "\n",
    "import numpy as np\n",
    "import sys\n",
    "import os\n",
    "import pandas as pd\n",
    "import glob as glob\n",
    "import seaborn as sns\n",
    "import matplotlib.pyplot as plt\n",
    "\n",
    "%matplotlib inline"
   ]
  },
  {
   "cell_type": "code",
   "execution_count": 11,
   "metadata": {},
   "outputs": [],
   "source": [
    "def grouped_barplot(df, x, y, hue, ymin=0, ymax=1, title=None, outfile=None):\n",
    "    fig, ax = plt.subplots()\n",
    "    g = sns.factorplot(x=x, y=y, hue=hue, data=df, size=8, kind=\"bar\", estimator=np.mean, ci=95, n_boot=1000,\n",
    "                       palette=\"cubehelix\", ax=ax, order=['intact', 'paragraph', 'word', 'rest'])\n",
    "\n",
    "    sns.despine(ax=ax, left=True)\n",
    "    ax.set_title(title)\n",
    "    ax.set_ylabel(y)\n",
    "    ax.set_xlabel(x)\n",
    "    ax.set_ylim(ymin, ymax)\n",
    "    l = ax.legend(loc='center right', bbox_to_anchor=(1.75, 0.75), ncol=2)\n",
    "    l.set_title(hue)\n",
    "    if not outfile:\n",
    "        fig.show()\n",
    "    else:\n",
    "        fig.savefig(outfile, bbox_inches='tight')"
   ]
  },
  {
   "cell_type": "code",
   "execution_count": 12,
   "metadata": {},
   "outputs": [],
   "source": [
    "figdir = '../figs'\n",
    "if not os.path.isdir(figdir):\n",
    "    os.mkdir(figdir)"
   ]
  },
  {
   "cell_type": "code",
   "execution_count": 13,
   "metadata": {},
   "outputs": [],
   "source": [
    "step_size = '1'"
   ]
  },
  {
   "cell_type": "code",
   "execution_count": 14,
   "metadata": {},
   "outputs": [],
   "source": [
    "resultsdir = '/Users/lucyowen/Desktop/timecorr_env/timecorr_paper/pieman/results/wisfc_eigenvector_centrality_mexican_hat_5/level_15'"
   ]
  },
  {
   "cell_type": "code",
   "execution_count": 15,
   "metadata": {},
   "outputs": [],
   "source": [
    "#resultsdir = resultsdir + '_' + step_size"
   ]
  },
  {
   "cell_type": "markdown",
   "metadata": {},
   "source": [
    "## find maximum level computed for optimization"
   ]
  },
  {
   "cell_type": "code",
   "execution_count": 16,
   "metadata": {},
   "outputs": [],
   "source": [
    "max_level = int(os.path.basename(os.path.splitext(resultsdir)[0]).split('_')[1])"
   ]
  },
  {
   "cell_type": "markdown",
   "metadata": {},
   "source": [
    "## compile to one dataframe"
   ]
  },
  {
   "cell_type": "code",
   "execution_count": 17,
   "metadata": {},
   "outputs": [],
   "source": [
    "conds =glob.glob(os.path.join(resultsdir, '*.csv'))"
   ]
  },
  {
   "cell_type": "code",
   "execution_count": 18,
   "metadata": {},
   "outputs": [
    {
     "data": {
      "text/plain": [
       "['/Users/lucyowen/Desktop/timecorr_env/timecorr_paper/pieman/results/wisfc_eigenvector_centrality_mexican_hat_5/level_15/intact.csv',\n",
       " '/Users/lucyowen/Desktop/timecorr_env/timecorr_paper/pieman/results/wisfc_eigenvector_centrality_mexican_hat_5/level_15/paragraph.csv',\n",
       " '/Users/lucyowen/Desktop/timecorr_env/timecorr_paper/pieman/results/wisfc_eigenvector_centrality_mexican_hat_5/level_15/rest.csv',\n",
       " '/Users/lucyowen/Desktop/timecorr_env/timecorr_paper/pieman/results/wisfc_eigenvector_centrality_mexican_hat_5/level_15/word.csv']"
      ]
     },
     "execution_count": 18,
     "metadata": {},
     "output_type": "execute_result"
    }
   ],
   "source": [
    "conds"
   ]
  },
  {
   "cell_type": "code",
   "execution_count": 19,
   "metadata": {},
   "outputs": [],
   "source": [
    "full_data = pd.DataFrame()\n",
    "for c in conds:\n",
    "    data = pd.read_csv(c)\n",
    "    data['cond'] = os.path.basename(os.path.splitext(c)[0])\n",
    "\n",
    "    if full_data.empty:\n",
    "        full_data = data\n",
    "    else:\n",
    "        full_data = full_data.append(data)"
   ]
  },
  {
   "cell_type": "markdown",
   "metadata": {},
   "source": [
    "## create column with max level computed"
   ]
  },
  {
   "cell_type": "code",
   "execution_count": 20,
   "metadata": {},
   "outputs": [],
   "source": [
    "full_data['max_level'] = max_level - full_data.isnull().sum(axis=1)"
   ]
  },
  {
   "cell_type": "code",
   "execution_count": 21,
   "metadata": {},
   "outputs": [
    {
     "data": {
      "text/html": [
       "<div>\n",
       "<style scoped>\n",
       "    .dataframe tbody tr th:only-of-type {\n",
       "        vertical-align: middle;\n",
       "    }\n",
       "\n",
       "    .dataframe tbody tr th {\n",
       "        vertical-align: top;\n",
       "    }\n",
       "\n",
       "    .dataframe thead th {\n",
       "        text-align: right;\n",
       "    }\n",
       "</style>\n",
       "<table border=\"1\" class=\"dataframe\">\n",
       "  <thead>\n",
       "    <tr style=\"text-align: right;\">\n",
       "      <th></th>\n",
       "      <th>Unnamed: 0</th>\n",
       "      <th>accuracy</th>\n",
       "      <th>error</th>\n",
       "      <th>folds</th>\n",
       "      <th>level</th>\n",
       "      <th>level_0</th>\n",
       "      <th>level_1</th>\n",
       "      <th>level_10</th>\n",
       "      <th>level_11</th>\n",
       "      <th>level_12</th>\n",
       "      <th>...</th>\n",
       "      <th>level_4</th>\n",
       "      <th>level_5</th>\n",
       "      <th>level_6</th>\n",
       "      <th>level_7</th>\n",
       "      <th>level_8</th>\n",
       "      <th>level_9</th>\n",
       "      <th>rank</th>\n",
       "      <th>iteration</th>\n",
       "      <th>cond</th>\n",
       "      <th>max_level</th>\n",
       "    </tr>\n",
       "  </thead>\n",
       "  <tbody>\n",
       "    <tr>\n",
       "      <th>0</th>\n",
       "      <td>0</td>\n",
       "      <td>0.306667</td>\n",
       "      <td>0.015378</td>\n",
       "      <td>0</td>\n",
       "      <td>15</td>\n",
       "      <td>1.000000</td>\n",
       "      <td>NaN</td>\n",
       "      <td>NaN</td>\n",
       "      <td>NaN</td>\n",
       "      <td>NaN</td>\n",
       "      <td>...</td>\n",
       "      <td>NaN</td>\n",
       "      <td>NaN</td>\n",
       "      <td>NaN</td>\n",
       "      <td>NaN</td>\n",
       "      <td>NaN</td>\n",
       "      <td>NaN</td>\n",
       "      <td>0.987167</td>\n",
       "      <td>7</td>\n",
       "      <td>intact</td>\n",
       "      <td>0</td>\n",
       "    </tr>\n",
       "    <tr>\n",
       "      <th>1</th>\n",
       "      <td>0</td>\n",
       "      <td>0.303333</td>\n",
       "      <td>0.015267</td>\n",
       "      <td>0</td>\n",
       "      <td>15</td>\n",
       "      <td>0.949901</td>\n",
       "      <td>5.009915e-02</td>\n",
       "      <td>NaN</td>\n",
       "      <td>NaN</td>\n",
       "      <td>NaN</td>\n",
       "      <td>...</td>\n",
       "      <td>NaN</td>\n",
       "      <td>NaN</td>\n",
       "      <td>NaN</td>\n",
       "      <td>NaN</td>\n",
       "      <td>NaN</td>\n",
       "      <td>NaN</td>\n",
       "      <td>0.987411</td>\n",
       "      <td>7</td>\n",
       "      <td>intact</td>\n",
       "      <td>1</td>\n",
       "    </tr>\n",
       "    <tr>\n",
       "      <th>2</th>\n",
       "      <td>0</td>\n",
       "      <td>0.343333</td>\n",
       "      <td>0.014867</td>\n",
       "      <td>0</td>\n",
       "      <td>15</td>\n",
       "      <td>0.603446</td>\n",
       "      <td>1.998163e-01</td>\n",
       "      <td>NaN</td>\n",
       "      <td>NaN</td>\n",
       "      <td>NaN</td>\n",
       "      <td>...</td>\n",
       "      <td>NaN</td>\n",
       "      <td>NaN</td>\n",
       "      <td>NaN</td>\n",
       "      <td>NaN</td>\n",
       "      <td>NaN</td>\n",
       "      <td>NaN</td>\n",
       "      <td>0.988878</td>\n",
       "      <td>7</td>\n",
       "      <td>intact</td>\n",
       "      <td>2</td>\n",
       "    </tr>\n",
       "    <tr>\n",
       "      <th>3</th>\n",
       "      <td>0</td>\n",
       "      <td>0.326667</td>\n",
       "      <td>0.016978</td>\n",
       "      <td>0</td>\n",
       "      <td>15</td>\n",
       "      <td>0.647308</td>\n",
       "      <td>8.320485e-17</td>\n",
       "      <td>NaN</td>\n",
       "      <td>NaN</td>\n",
       "      <td>NaN</td>\n",
       "      <td>...</td>\n",
       "      <td>NaN</td>\n",
       "      <td>NaN</td>\n",
       "      <td>NaN</td>\n",
       "      <td>NaN</td>\n",
       "      <td>NaN</td>\n",
       "      <td>NaN</td>\n",
       "      <td>0.988022</td>\n",
       "      <td>7</td>\n",
       "      <td>intact</td>\n",
       "      <td>3</td>\n",
       "    </tr>\n",
       "    <tr>\n",
       "      <th>4</th>\n",
       "      <td>0</td>\n",
       "      <td>0.336667</td>\n",
       "      <td>0.011889</td>\n",
       "      <td>0</td>\n",
       "      <td>15</td>\n",
       "      <td>0.743405</td>\n",
       "      <td>6.608317e-02</td>\n",
       "      <td>NaN</td>\n",
       "      <td>NaN</td>\n",
       "      <td>NaN</td>\n",
       "      <td>...</td>\n",
       "      <td>0.012165</td>\n",
       "      <td>NaN</td>\n",
       "      <td>NaN</td>\n",
       "      <td>NaN</td>\n",
       "      <td>NaN</td>\n",
       "      <td>NaN</td>\n",
       "      <td>0.987744</td>\n",
       "      <td>7</td>\n",
       "      <td>intact</td>\n",
       "      <td>4</td>\n",
       "    </tr>\n",
       "  </tbody>\n",
       "</table>\n",
       "<p>5 rows × 25 columns</p>\n",
       "</div>"
      ],
      "text/plain": [
       "   Unnamed: 0  accuracy     error  folds  level   level_0       level_1  \\\n",
       "0           0  0.306667  0.015378      0     15  1.000000           NaN   \n",
       "1           0  0.303333  0.015267      0     15  0.949901  5.009915e-02   \n",
       "2           0  0.343333  0.014867      0     15  0.603446  1.998163e-01   \n",
       "3           0  0.326667  0.016978      0     15  0.647308  8.320485e-17   \n",
       "4           0  0.336667  0.011889      0     15  0.743405  6.608317e-02   \n",
       "\n",
       "   level_10  level_11  level_12    ...       level_4  level_5  level_6  \\\n",
       "0       NaN       NaN       NaN    ...           NaN      NaN      NaN   \n",
       "1       NaN       NaN       NaN    ...           NaN      NaN      NaN   \n",
       "2       NaN       NaN       NaN    ...           NaN      NaN      NaN   \n",
       "3       NaN       NaN       NaN    ...           NaN      NaN      NaN   \n",
       "4       NaN       NaN       NaN    ...      0.012165      NaN      NaN   \n",
       "\n",
       "   level_7  level_8  level_9      rank  iteration    cond  max_level  \n",
       "0      NaN      NaN      NaN  0.987167          7  intact          0  \n",
       "1      NaN      NaN      NaN  0.987411          7  intact          1  \n",
       "2      NaN      NaN      NaN  0.988878          7  intact          2  \n",
       "3      NaN      NaN      NaN  0.988022          7  intact          3  \n",
       "4      NaN      NaN      NaN  0.987744          7  intact          4  \n",
       "\n",
       "[5 rows x 25 columns]"
      ]
     },
     "execution_count": 21,
     "metadata": {},
     "output_type": "execute_result"
    }
   ],
   "source": [
    "full_data.head()"
   ]
  },
  {
   "cell_type": "code",
   "execution_count": 22,
   "metadata": {},
   "outputs": [],
   "source": [
    "melted_temp_df = pd.DataFrame()\n",
    "melted_temp_df['max_level'] = full_data['max_level']\n",
    "melted_temp_df['accuracy'] = full_data['accuracy']\n",
    "melted_temp_df['cond'] = full_data['cond']\n",
    "melted_temp_df['1 - error'] = 1-full_data['error']"
   ]
  },
  {
   "cell_type": "code",
   "execution_count": 23,
   "metadata": {},
   "outputs": [
    {
     "data": {
      "text/html": [
       "<div>\n",
       "<style scoped>\n",
       "    .dataframe tbody tr th:only-of-type {\n",
       "        vertical-align: middle;\n",
       "    }\n",
       "\n",
       "    .dataframe tbody tr th {\n",
       "        vertical-align: top;\n",
       "    }\n",
       "\n",
       "    .dataframe thead th {\n",
       "        text-align: right;\n",
       "    }\n",
       "</style>\n",
       "<table border=\"1\" class=\"dataframe\">\n",
       "  <thead>\n",
       "    <tr style=\"text-align: right;\">\n",
       "      <th></th>\n",
       "      <th>max_level</th>\n",
       "      <th>accuracy</th>\n",
       "      <th>cond</th>\n",
       "      <th>1 - error</th>\n",
       "    </tr>\n",
       "  </thead>\n",
       "  <tbody>\n",
       "    <tr>\n",
       "      <th>0</th>\n",
       "      <td>0</td>\n",
       "      <td>0.306667</td>\n",
       "      <td>intact</td>\n",
       "      <td>0.984622</td>\n",
       "    </tr>\n",
       "    <tr>\n",
       "      <th>1</th>\n",
       "      <td>1</td>\n",
       "      <td>0.303333</td>\n",
       "      <td>intact</td>\n",
       "      <td>0.984733</td>\n",
       "    </tr>\n",
       "    <tr>\n",
       "      <th>2</th>\n",
       "      <td>2</td>\n",
       "      <td>0.343333</td>\n",
       "      <td>intact</td>\n",
       "      <td>0.985133</td>\n",
       "    </tr>\n",
       "    <tr>\n",
       "      <th>3</th>\n",
       "      <td>3</td>\n",
       "      <td>0.326667</td>\n",
       "      <td>intact</td>\n",
       "      <td>0.983022</td>\n",
       "    </tr>\n",
       "    <tr>\n",
       "      <th>4</th>\n",
       "      <td>4</td>\n",
       "      <td>0.336667</td>\n",
       "      <td>intact</td>\n",
       "      <td>0.988111</td>\n",
       "    </tr>\n",
       "  </tbody>\n",
       "</table>\n",
       "</div>"
      ],
      "text/plain": [
       "   max_level  accuracy    cond  1 - error\n",
       "0          0  0.306667  intact   0.984622\n",
       "1          1  0.303333  intact   0.984733\n",
       "2          2  0.343333  intact   0.985133\n",
       "3          3  0.326667  intact   0.983022\n",
       "4          4  0.336667  intact   0.988111"
      ]
     },
     "execution_count": 23,
     "metadata": {},
     "output_type": "execute_result"
    }
   ],
   "source": [
    "melted_temp_df.head()"
   ]
  },
  {
   "cell_type": "code",
   "execution_count": 24,
   "metadata": {},
   "outputs": [],
   "source": [
    "outfile = '/Users/lucyowen/Desktop/timecorr_figs/' + 'accuracy_eps=1e-' + step_size"
   ]
  },
  {
   "cell_type": "code",
   "execution_count": 25,
   "metadata": {},
   "outputs": [
    {
     "data": {
      "text/plain": [
       "'/Users/lucyowen/Desktop/timecorr_figs/accuracy_eps=1e-1'"
      ]
     },
     "execution_count": 25,
     "metadata": {},
     "output_type": "execute_result"
    }
   ],
   "source": [
    "outfile\n"
   ]
  },
  {
   "cell_type": "code",
   "execution_count": 26,
   "metadata": {},
   "outputs": [
    {
     "name": "stderr",
     "output_type": "stream",
     "text": [
      "/usr/local/lib/python3.6/site-packages/seaborn/categorical.py:3666: UserWarning: The `factorplot` function has been renamed to `catplot`. The original name will be removed in a future release. Please update your code. Note that the default `kind` in `factorplot` (`'point'`) has changed `'strip'` in `catplot`.\n",
      "  warnings.warn(msg)\n",
      "/usr/local/lib/python3.6/site-packages/seaborn/categorical.py:3672: UserWarning: The `size` paramter has been renamed to `height`; please update your code.\n",
      "  warnings.warn(msg, UserWarning)\n"
     ]
    },
    {
     "data": {
      "text/plain": [
       "<Figure size 432x288 with 0 Axes>"
      ]
     },
     "metadata": {},
     "output_type": "display_data"
    },
    {
     "data": {
      "image/png": "[encoded data removed]",
      "text/plain": [
       "<Figure size 432x288 with 1 Axes>"
      ]
     },
     "metadata": {
      "needs_background": "light"
     },
     "output_type": "display_data"
    },
    {
     "data": {
      "image/png": "[encoded data removed]",
      "text/plain": [
       "<Figure size 634.5x576 with 1 Axes>"
      ]
     },
     "metadata": {
      "needs_background": "light"
     },
     "output_type": "display_data"
    }
   ],
   "source": [
    "plt.clf()\n",
    "grouped_barplot(melted_temp_df, 'cond', 'accuracy', 'max_level', ymin=0, ymax=.4, title='optimizing weights', outfile = outfile)"
   ]
  },
  {
   "cell_type": "code",
   "execution_count": 27,
   "metadata": {},
   "outputs": [],
   "source": [
    "outfile = '/Users/lucyowen/Desktop/timecorr_figs/' + 'error_eps=1e-' + step_size"
   ]
  },
  {
   "cell_type": "code",
   "execution_count": 28,
   "metadata": {},
   "outputs": [
    {
     "name": "stderr",
     "output_type": "stream",
     "text": [
      "/usr/local/lib/python3.6/site-packages/seaborn/categorical.py:3666: UserWarning: The `factorplot` function has been renamed to `catplot`. The original name will be removed in a future release. Please update your code. Note that the default `kind` in `factorplot` (`'point'`) has changed `'strip'` in `catplot`.\n",
      "  warnings.warn(msg)\n",
      "/usr/local/lib/python3.6/site-packages/seaborn/categorical.py:3672: UserWarning: The `size` paramter has been renamed to `height`; please update your code.\n",
      "  warnings.warn(msg, UserWarning)\n"
     ]
    },
    {
     "data": {
      "image/png": "[encoded data removed]",
      "text/plain": [
       "<Figure size 432x288 with 1 Axes>"
      ]
     },
     "metadata": {
      "needs_background": "light"
     },
     "output_type": "display_data"
    },
    {
     "data": {
      "image/png": "[encoded data removed]",
      "text/plain": [
       "<Figure size 634.5x576 with 1 Axes>"
      ]
     },
     "metadata": {
      "needs_background": "light"
     },
     "output_type": "display_data"
    }
   ],
   "source": [
    "grouped_barplot(melted_temp_df, 'cond', '1 - error', 'max_level', ymin=.65, ymax=1, title='optimizing weights', outfile = outfile)"
   ]
  },
  {
   "cell_type": "code",
   "execution_count": null,
   "metadata": {},
   "outputs": [],
   "source": []
  }
 ],
 "metadata": {
  "kernelspec": {
   "display_name": "Python 3",
   "language": "python",
   "name": "python3"
  },
  "language_info": {
   "codemirror_mode": {
    "name": "ipython",
    "version": 3
   },
   "file_extension": ".py",
   "mimetype": "text/x-python",
   "name": "python",
   "nbconvert_exporter": "python",
   "pygments_lexer": "ipython3",
   "version": "3.6.5"
  }
 },
 "nbformat": 4,
 "nbformat_minor": 2
}
