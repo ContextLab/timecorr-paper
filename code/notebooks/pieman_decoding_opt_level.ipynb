{
 "cells": [
  {
   "cell_type": "code",
   "execution_count": 3,
   "metadata": {},
   "outputs": [],
   "source": [
    "\n",
    "import numpy as np\n",
    "import sys\n",
    "import os\n",
    "import pandas as pd\n",
    "import glob as glob\n",
    "import seaborn as sns\n",
    "import matplotlib.pyplot as plt\n",
    "\n",
    "%matplotlib inline"
   ]
  },
  {
   "cell_type": "code",
   "execution_count": 4,
   "metadata": {},
   "outputs": [],
   "source": [
    "data_dir = '/Users/lucyowen/Desktop/timecorr_env/timecorr_paper/pieman/results/param_search'"
   ]
  },
  {
   "cell_type": "code",
   "execution_count": 24,
   "metadata": {},
   "outputs": [],
   "source": [
    "    tmp_data = pd.DataFrame()\n",
    "    tmp_data['param'] = param_name\n",
    "    tmp_data['acc'] = data['accuracy'].mean()"
   ]
  },
  {
   "cell_type": "code",
   "execution_count": 27,
   "metadata": {},
   "outputs": [],
   "source": [
    "tmp_data['param'] = param_name"
   ]
  },
  {
   "cell_type": "code",
   "execution_count": 29,
   "metadata": {},
   "outputs": [
    {
     "data": {
      "text/plain": [
       "'wisfc_UMAP_mexican_hat_5'"
      ]
     },
     "execution_count": 29,
     "metadata": {},
     "output_type": "execute_result"
    }
   ],
   "source": [
    "param_name"
   ]
  },
  {
   "cell_type": "code",
   "execution_count": 22,
   "metadata": {},
   "outputs": [],
   "source": [
    "\n",
    "params =glob.glob(os.path.join(data_dir, '*'))\n",
    "\n",
    "acc_data = pd.DataFrame()\n",
    "for p in params:\n",
    "    param_name = os.path.basename(os.path.splitext(p)[0])\n",
    "    cond =os.path.join(p, 'intact.csv')\n",
    "    data = pd.read_csv(cond)\n",
    "    tmp_data = pd.DataFrame()\n",
    "    tmp_data['param'] = param_name\n",
    "    tmp_data['acc'] = data['accuracy'].mean()\n",
    "    if acc_data.empty:\n",
    "        acc_data = tmp_data\n",
    "    else:\n",
    "        acc_data = acc_data.append(tmp_data)\n",
    "\n",
    "\n"
   ]
  },
  {
   "cell_type": "code",
   "execution_count": 23,
   "metadata": {},
   "outputs": [
    {
     "data": {
      "text/html": [
       "<div>\n",
       "<style scoped>\n",
       "    .dataframe tbody tr th:only-of-type {\n",
       "        vertical-align: middle;\n",
       "    }\n",
       "\n",
       "    .dataframe tbody tr th {\n",
       "        vertical-align: top;\n",
       "    }\n",
       "\n",
       "    .dataframe thead th {\n",
       "        text-align: right;\n",
       "    }\n",
       "</style>\n",
       "<table border=\"1\" class=\"dataframe\">\n",
       "  <thead>\n",
       "    <tr style=\"text-align: right;\">\n",
       "      <th></th>\n",
       "      <th>param</th>\n",
       "      <th>acc</th>\n",
       "    </tr>\n",
       "  </thead>\n",
       "  <tbody>\n",
       "  </tbody>\n",
       "</table>\n",
       "</div>"
      ],
      "text/plain": [
       "Empty DataFrame\n",
       "Columns: [param, acc]\n",
       "Index: []"
      ]
     },
     "execution_count": 23,
     "metadata": {},
     "output_type": "execute_result"
    }
   ],
   "source": [
    "acc_data"
   ]
  },
  {
   "cell_type": "code",
   "execution_count": 2,
   "metadata": {},
   "outputs": [],
   "source": [
    "def grouped_barplot(df, x, y, hue, ymin=0, ymax=1, title=None, outfile=None):\n",
    "    fig, ax = plt.subplots()\n",
    "    g = sns.factorplot(x=x, y=y, hue=hue, data=df, size=8, kind=\"bar\", estimator=np.mean, ci=95, n_boot=1000,\n",
    "                       palette=\"cubehelix\", ax=ax, order=['intact', 'paragraph', 'word', 'rest'])\n",
    "\n",
    "    sns.despine(ax=ax, left=True)\n",
    "    ax.set_title(title)\n",
    "    ax.set_ylabel(y)\n",
    "    ax.set_xlabel(x)\n",
    "    ax.set_ylim(ymin, ymax)\n",
    "    l = ax.legend(loc='center right', bbox_to_anchor=(1.75, 0.75), ncol=2)\n",
    "    l.set_title(hue)\n",
    "    if not outfile:\n",
    "        fig.show()\n",
    "    else:\n",
    "        fig.savefig(outfile, bbox_inches='tight')"
   ]
  },
  {
   "cell_type": "code",
   "execution_count": 3,
   "metadata": {},
   "outputs": [],
   "source": [
    "figdir = '../figs'\n",
    "if not os.path.isdir(figdir):\n",
    "    os.mkdir(figdir)"
   ]
  },
  {
   "cell_type": "code",
   "execution_count": 4,
   "metadata": {},
   "outputs": [],
   "source": [
    "step_size = '1'"
   ]
  },
  {
   "cell_type": "code",
   "execution_count": 11,
   "metadata": {},
   "outputs": [],
   "source": [
    "resultsdir = '/Users/lucyowen/Desktop/timecorr_env/timecorr_paper/pieman/results/wisfc_PCA_mexican_hat_5/level_5'"
   ]
  },
  {
   "cell_type": "code",
   "execution_count": 12,
   "metadata": {},
   "outputs": [],
   "source": [
    "#resultsdir = resultsdir + '_' + step_size"
   ]
  },
  {
   "cell_type": "markdown",
   "metadata": {},
   "source": [
    "## find maximum level computed for optimization"
   ]
  },
  {
   "cell_type": "code",
   "execution_count": 13,
   "metadata": {},
   "outputs": [],
   "source": [
    "max_level = int(os.path.basename(os.path.splitext(resultsdir)[0]).split('_')[1])"
   ]
  },
  {
   "cell_type": "markdown",
   "metadata": {},
   "source": [
    "## compile to one dataframe"
   ]
  },
  {
   "cell_type": "code",
   "execution_count": 14,
   "metadata": {},
   "outputs": [],
   "source": [
    "conds =glob.glob(os.path.join(resultsdir, '*.csv'))"
   ]
  },
  {
   "cell_type": "code",
   "execution_count": 15,
   "metadata": {},
   "outputs": [
    {
     "data": {
      "text/plain": [
       "['/Users/lucyowen/Desktop/timecorr_env/timecorr_paper/pieman/results/wisfc_PCA_mexican_hat_5/level_5/intact.csv',\n",
       " '/Users/lucyowen/Desktop/timecorr_env/timecorr_paper/pieman/results/wisfc_PCA_mexican_hat_5/level_5/paragraph.csv',\n",
       " '/Users/lucyowen/Desktop/timecorr_env/timecorr_paper/pieman/results/wisfc_PCA_mexican_hat_5/level_5/rest.csv',\n",
       " '/Users/lucyowen/Desktop/timecorr_env/timecorr_paper/pieman/results/wisfc_PCA_mexican_hat_5/level_5/word.csv']"
      ]
     },
     "execution_count": 15,
     "metadata": {},
     "output_type": "execute_result"
    }
   ],
   "source": [
    "conds"
   ]
  },
  {
   "cell_type": "code",
   "execution_count": 16,
   "metadata": {},
   "outputs": [],
   "source": [
    "full_data = pd.DataFrame()\n",
    "for c in conds:\n",
    "    data = pd.read_csv(c)\n",
    "    data['cond'] = os.path.basename(os.path.splitext(c)[0])\n",
    "\n",
    "    if full_data.empty:\n",
    "        full_data = data\n",
    "    else:\n",
    "        full_data = full_data.append(data)"
   ]
  },
  {
   "cell_type": "markdown",
   "metadata": {},
   "source": [
    "## create column with max level computed"
   ]
  },
  {
   "cell_type": "code",
   "execution_count": 17,
   "metadata": {},
   "outputs": [],
   "source": [
    "full_data['max_level'] = max_level - full_data.isnull().sum(axis=1)"
   ]
  },
  {
   "cell_type": "code",
   "execution_count": 18,
   "metadata": {},
   "outputs": [
    {
     "data": {
      "text/html": [
       "<div>\n",
       "<style scoped>\n",
       "    .dataframe tbody tr th:only-of-type {\n",
       "        vertical-align: middle;\n",
       "    }\n",
       "\n",
       "    .dataframe tbody tr th {\n",
       "        vertical-align: top;\n",
       "    }\n",
       "\n",
       "    .dataframe thead th {\n",
       "        text-align: right;\n",
       "    }\n",
       "</style>\n",
       "<table border=\"1\" class=\"dataframe\">\n",
       "  <thead>\n",
       "    <tr style=\"text-align: right;\">\n",
       "      <th></th>\n",
       "      <th>Unnamed: 0</th>\n",
       "      <th>accuracy</th>\n",
       "      <th>error</th>\n",
       "      <th>folds</th>\n",
       "      <th>level</th>\n",
       "      <th>level_0</th>\n",
       "      <th>level_1</th>\n",
       "      <th>level_2</th>\n",
       "      <th>level_3</th>\n",
       "      <th>level_4</th>\n",
       "      <th>level_5</th>\n",
       "      <th>rank</th>\n",
       "      <th>iteration</th>\n",
       "      <th>cond</th>\n",
       "      <th>max_level</th>\n",
       "    </tr>\n",
       "  </thead>\n",
       "  <tbody>\n",
       "    <tr>\n",
       "      <th>0</th>\n",
       "      <td>0</td>\n",
       "      <td>0.300000</td>\n",
       "      <td>0.045633</td>\n",
       "      <td>0</td>\n",
       "      <td>5</td>\n",
       "      <td>1.000000</td>\n",
       "      <td>NaN</td>\n",
       "      <td>NaN</td>\n",
       "      <td>NaN</td>\n",
       "      <td>NaN</td>\n",
       "      <td>NaN</td>\n",
       "      <td>0.986489</td>\n",
       "      <td>0</td>\n",
       "      <td>intact</td>\n",
       "      <td>0</td>\n",
       "    </tr>\n",
       "    <tr>\n",
       "      <th>1</th>\n",
       "      <td>0</td>\n",
       "      <td>0.276667</td>\n",
       "      <td>0.038911</td>\n",
       "      <td>0</td>\n",
       "      <td>5</td>\n",
       "      <td>0.412328</td>\n",
       "      <td>0.587672</td>\n",
       "      <td>NaN</td>\n",
       "      <td>NaN</td>\n",
       "      <td>NaN</td>\n",
       "      <td>NaN</td>\n",
       "      <td>0.988600</td>\n",
       "      <td>0</td>\n",
       "      <td>intact</td>\n",
       "      <td>1</td>\n",
       "    </tr>\n",
       "    <tr>\n",
       "      <th>2</th>\n",
       "      <td>0</td>\n",
       "      <td>0.290000</td>\n",
       "      <td>0.034144</td>\n",
       "      <td>0</td>\n",
       "      <td>5</td>\n",
       "      <td>0.425369</td>\n",
       "      <td>0.417038</td>\n",
       "      <td>0.157592</td>\n",
       "      <td>NaN</td>\n",
       "      <td>NaN</td>\n",
       "      <td>NaN</td>\n",
       "      <td>0.988944</td>\n",
       "      <td>0</td>\n",
       "      <td>intact</td>\n",
       "      <td>2</td>\n",
       "    </tr>\n",
       "    <tr>\n",
       "      <th>3</th>\n",
       "      <td>0</td>\n",
       "      <td>0.296667</td>\n",
       "      <td>0.033111</td>\n",
       "      <td>0</td>\n",
       "      <td>5</td>\n",
       "      <td>0.522327</td>\n",
       "      <td>0.391381</td>\n",
       "      <td>0.000003</td>\n",
       "      <td>0.086289</td>\n",
       "      <td>NaN</td>\n",
       "      <td>NaN</td>\n",
       "      <td>0.988878</td>\n",
       "      <td>0</td>\n",
       "      <td>intact</td>\n",
       "      <td>3</td>\n",
       "    </tr>\n",
       "    <tr>\n",
       "      <th>4</th>\n",
       "      <td>0</td>\n",
       "      <td>0.300000</td>\n",
       "      <td>0.036267</td>\n",
       "      <td>0</td>\n",
       "      <td>5</td>\n",
       "      <td>0.607340</td>\n",
       "      <td>0.158042</td>\n",
       "      <td>0.128057</td>\n",
       "      <td>0.105301</td>\n",
       "      <td>0.001261</td>\n",
       "      <td>NaN</td>\n",
       "      <td>0.988322</td>\n",
       "      <td>0</td>\n",
       "      <td>intact</td>\n",
       "      <td>4</td>\n",
       "    </tr>\n",
       "  </tbody>\n",
       "</table>\n",
       "</div>"
      ],
      "text/plain": [
       "   Unnamed: 0  accuracy     error  folds  level   level_0   level_1   level_2  \\\n",
       "0           0  0.300000  0.045633      0      5  1.000000       NaN       NaN   \n",
       "1           0  0.276667  0.038911      0      5  0.412328  0.587672       NaN   \n",
       "2           0  0.290000  0.034144      0      5  0.425369  0.417038  0.157592   \n",
       "3           0  0.296667  0.033111      0      5  0.522327  0.391381  0.000003   \n",
       "4           0  0.300000  0.036267      0      5  0.607340  0.158042  0.128057   \n",
       "\n",
       "    level_3   level_4  level_5      rank  iteration    cond  max_level  \n",
       "0       NaN       NaN      NaN  0.986489          0  intact          0  \n",
       "1       NaN       NaN      NaN  0.988600          0  intact          1  \n",
       "2       NaN       NaN      NaN  0.988944          0  intact          2  \n",
       "3  0.086289       NaN      NaN  0.988878          0  intact          3  \n",
       "4  0.105301  0.001261      NaN  0.988322          0  intact          4  "
      ]
     },
     "execution_count": 18,
     "metadata": {},
     "output_type": "execute_result"
    }
   ],
   "source": [
    "full_data.head()"
   ]
  },
  {
   "cell_type": "code",
   "execution_count": 19,
   "metadata": {},
   "outputs": [],
   "source": [
    "melted_temp_df = pd.DataFrame()\n",
    "melted_temp_df['max_level'] = full_data['max_level']\n",
    "melted_temp_df['accuracy'] = full_data['accuracy']\n",
    "melted_temp_df['cond'] = full_data['cond']\n",
    "melted_temp_df['1 - error'] = 1-full_data['error']"
   ]
  },
  {
   "cell_type": "code",
   "execution_count": 20,
   "metadata": {},
   "outputs": [
    {
     "data": {
      "text/html": [
       "<div>\n",
       "<style scoped>\n",
       "    .dataframe tbody tr th:only-of-type {\n",
       "        vertical-align: middle;\n",
       "    }\n",
       "\n",
       "    .dataframe tbody tr th {\n",
       "        vertical-align: top;\n",
       "    }\n",
       "\n",
       "    .dataframe thead th {\n",
       "        text-align: right;\n",
       "    }\n",
       "</style>\n",
       "<table border=\"1\" class=\"dataframe\">\n",
       "  <thead>\n",
       "    <tr style=\"text-align: right;\">\n",
       "      <th></th>\n",
       "      <th>max_level</th>\n",
       "      <th>accuracy</th>\n",
       "      <th>cond</th>\n",
       "      <th>1 - error</th>\n",
       "    </tr>\n",
       "  </thead>\n",
       "  <tbody>\n",
       "    <tr>\n",
       "      <th>0</th>\n",
       "      <td>0</td>\n",
       "      <td>0.300000</td>\n",
       "      <td>intact</td>\n",
       "      <td>0.954367</td>\n",
       "    </tr>\n",
       "    <tr>\n",
       "      <th>1</th>\n",
       "      <td>1</td>\n",
       "      <td>0.276667</td>\n",
       "      <td>intact</td>\n",
       "      <td>0.961089</td>\n",
       "    </tr>\n",
       "    <tr>\n",
       "      <th>2</th>\n",
       "      <td>2</td>\n",
       "      <td>0.290000</td>\n",
       "      <td>intact</td>\n",
       "      <td>0.965856</td>\n",
       "    </tr>\n",
       "    <tr>\n",
       "      <th>3</th>\n",
       "      <td>3</td>\n",
       "      <td>0.296667</td>\n",
       "      <td>intact</td>\n",
       "      <td>0.966889</td>\n",
       "    </tr>\n",
       "    <tr>\n",
       "      <th>4</th>\n",
       "      <td>4</td>\n",
       "      <td>0.300000</td>\n",
       "      <td>intact</td>\n",
       "      <td>0.963733</td>\n",
       "    </tr>\n",
       "  </tbody>\n",
       "</table>\n",
       "</div>"
      ],
      "text/plain": [
       "   max_level  accuracy    cond  1 - error\n",
       "0          0  0.300000  intact   0.954367\n",
       "1          1  0.276667  intact   0.961089\n",
       "2          2  0.290000  intact   0.965856\n",
       "3          3  0.296667  intact   0.966889\n",
       "4          4  0.300000  intact   0.963733"
      ]
     },
     "execution_count": 20,
     "metadata": {},
     "output_type": "execute_result"
    }
   ],
   "source": [
    "melted_temp_df.head()"
   ]
  },
  {
   "cell_type": "code",
   "execution_count": 21,
   "metadata": {},
   "outputs": [],
   "source": [
    "outfile = '/Users/lucyowen/Desktop/timecorr_figs/' + 'accuracy_eps=1e-' + step_size"
   ]
  },
  {
   "cell_type": "code",
   "execution_count": 22,
   "metadata": {},
   "outputs": [
    {
     "data": {
      "text/plain": [
       "'/Users/lucyowen/Desktop/timecorr_figs/accuracy_eps=1e-1'"
      ]
     },
     "execution_count": 22,
     "metadata": {},
     "output_type": "execute_result"
    }
   ],
   "source": [
    "outfile\n"
   ]
  },
  {
   "cell_type": "code",
   "execution_count": 23,
   "metadata": {},
   "outputs": [
    {
     "name": "stderr",
     "output_type": "stream",
     "text": [
      "/usr/local/lib/python3.6/site-packages/seaborn/categorical.py:3666: UserWarning: The `factorplot` function has been renamed to `catplot`. The original name will be removed in a future release. Please update your code. Note that the default `kind` in `factorplot` (`'point'`) has changed `'strip'` in `catplot`.\n",
      "  warnings.warn(msg)\n",
      "/usr/local/lib/python3.6/site-packages/seaborn/categorical.py:3672: UserWarning: The `size` paramter has been renamed to `height`; please update your code.\n",
      "  warnings.warn(msg, UserWarning)\n"
     ]
    },
    {
     "data": {
      "text/plain": [
       "<Figure size 432x288 with 0 Axes>"
      ]
     },
     "metadata": {},
     "output_type": "display_data"
    },
    {
     "data": {
      "image/png": "[encoded data removed]",
      "text/plain": [
       "<Figure size 432x288 with 1 Axes>"
      ]
     },
     "metadata": {
      "needs_background": "light"
     },
     "output_type": "display_data"
    },
    {
     "data": {
      "image/png": "[encoded data removed]",
      "text/plain": [
       "<Figure size 634.5x576 with 1 Axes>"
      ]
     },
     "metadata": {
      "needs_background": "light"
     },
     "output_type": "display_data"
    }
   ],
   "source": [
    "plt.clf()\n",
    "grouped_barplot(melted_temp_df, 'cond', 'accuracy', 'max_level', ymin=0, ymax=.4, title='optimizing weights', outfile = outfile)"
   ]
  },
  {
   "cell_type": "code",
   "execution_count": 24,
   "metadata": {},
   "outputs": [],
   "source": [
    "outfile = '/Users/lucyowen/Desktop/timecorr_figs/' + 'error_eps=1e-' + step_size"
   ]
  },
  {
   "cell_type": "code",
   "execution_count": 28,
   "metadata": {},
   "outputs": [
    {
     "name": "stderr",
     "output_type": "stream",
     "text": [
      "/usr/local/lib/python3.6/site-packages/seaborn/categorical.py:3666: UserWarning: The `factorplot` function has been renamed to `catplot`. The original name will be removed in a future release. Please update your code. Note that the default `kind` in `factorplot` (`'point'`) has changed `'strip'` in `catplot`.\n",
      "  warnings.warn(msg)\n",
      "/usr/local/lib/python3.6/site-packages/seaborn/categorical.py:3672: UserWarning: The `size` paramter has been renamed to `height`; please update your code.\n",
      "  warnings.warn(msg, UserWarning)\n"
     ]
    },
    {
     "data": {
      "image/png": "[encoded data removed]",
      "text/plain": [
       "<Figure size 432x288 with 1 Axes>"
      ]
     },
     "metadata": {
      "needs_background": "light"
     },
     "output_type": "display_data"
    },
    {
     "data": {
      "image/png": "[encoded data removed]",
      "text/plain": [
       "<Figure size 634.5x576 with 1 Axes>"
      ]
     },
     "metadata": {
      "needs_background": "light"
     },
     "output_type": "display_data"
    }
   ],
   "source": [
    "grouped_barplot(melted_temp_df, 'cond', '1 - error', 'max_level', ymin=.65, ymax=1, title='optimizing weights', outfile = outfile)"
   ]
  },
  {
   "cell_type": "code",
   "execution_count": null,
   "metadata": {},
   "outputs": [],
   "source": []
  }
 ],
 "metadata": {
  "kernelspec": {
   "display_name": "Python 3",
   "language": "python",
   "name": "python3"
  },
  "language_info": {
   "codemirror_mode": {
    "name": "ipython",
    "version": 3
   },
   "file_extension": ".py",
   "mimetype": "text/x-python",
   "name": "python",
   "nbconvert_exporter": "python",
   "pygments_lexer": "ipython3",
   "version": "3.6.5"
  }
 },
 "nbformat": 4,
 "nbformat_minor": 2
}
