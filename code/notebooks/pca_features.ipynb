{
 "cells": [
  {
   "cell_type": "code",
   "execution_count": 1,
   "metadata": {},
   "outputs": [],
   "source": [
    "\n",
    "import numpy as np\n",
    "from numpy import matlib as mb\n",
    "import sys\n",
    "import os\n",
    "import pandas as pd\n",
    "import glob as glob\n",
    "import seaborn as sns\n",
    "import matplotlib.pyplot as plt\n",
    "from scipy.stats import ttest_ind\n",
    "import itertools\n",
    "from sklearn.decomposition import PCA, IncrementalPCA\n",
    "from scipy import stats\n",
    "from matplotlib.colors import ListedColormap\n",
    "from mpl_toolkits.axes_grid1 import make_axes_locatable\n",
    "\n",
    "%matplotlib inline"
   ]
  },
  {
   "cell_type": "code",
   "execution_count": 2,
   "metadata": {},
   "outputs": [],
   "source": [
    "cmap = 'husl'"
   ]
  },
  {
   "cell_type": "code",
   "execution_count": 3,
   "metadata": {},
   "outputs": [],
   "source": [
    "fileDir = os.path.dirname(os.path.realpath('__file__'))"
   ]
  },
  {
   "cell_type": "code",
   "execution_count": 4,
   "metadata": {},
   "outputs": [],
   "source": [
    "# figdir = '../figs'\n",
    "# if not os.path.exists(figdir):\n",
    "#     os.mkdir(figdir)\n",
    "figdir ='../figs/replication/'\n",
    "if not os.path.exists(figdir):\n",
    "    os.mkdir(figdir)"
   ]
  },
  {
   "cell_type": "code",
   "execution_count": 5,
   "metadata": {},
   "outputs": [],
   "source": [
    "results_dir = os.path.join(fileDir, '../../data/', 'results')"
   ]
  },
  {
   "cell_type": "code",
   "execution_count": 6,
   "metadata": {},
   "outputs": [],
   "source": [
    "analysis_name = 'corrs_ordered_up_for_PCA'"
   ]
  },
  {
   "cell_type": "code",
   "execution_count": 7,
   "metadata": {},
   "outputs": [],
   "source": [
    "data_dir = os.path.join(results_dir, analysis_name, 'corrs_results')"
   ]
  },
  {
   "cell_type": "code",
   "execution_count": 8,
   "metadata": {},
   "outputs": [
    {
     "data": {
      "text/plain": [
       "'/Users/lucyowen/repos/timecorr-paper-1/code/notebooks/../../data/results/corrs_ordered_up_for_PCA/corrs_results'"
      ]
     },
     "execution_count": 8,
     "metadata": {},
     "output_type": "execute_result"
    }
   ],
   "source": [
    "data_dir"
   ]
  },
  {
   "cell_type": "code",
   "execution_count": 9,
   "metadata": {},
   "outputs": [],
   "source": [
    "corrsdir = os.path.join(results_dir, analysis_name)"
   ]
  },
  {
   "cell_type": "code",
   "execution_count": 10,
   "metadata": {},
   "outputs": [
    {
     "data": {
      "text/plain": [
       "'/Users/lucyowen/repos/timecorr-paper-1/code/notebooks/../../data/results/corrs_ordered_up_for_PCA'"
      ]
     },
     "execution_count": 10,
     "metadata": {},
     "output_type": "execute_result"
    }
   ],
   "source": [
    "corrsdir"
   ]
  },
  {
   "cell_type": "code",
   "execution_count": 11,
   "metadata": {},
   "outputs": [],
   "source": [
    "cmap = 'husl'"
   ]
  },
  {
   "cell_type": "code",
   "execution_count": 12,
   "metadata": {},
   "outputs": [],
   "source": [
    "levels = np.arange(0,4,1)\n",
    "conditions = ['intact', 'paragraph', 'rest', 'word']\n",
    "Reduction_type = ['PCA','eigenvector_centrality']"
   ]
  },
  {
   "cell_type": "code",
   "execution_count": 13,
   "metadata": {},
   "outputs": [],
   "source": [
    "levels = np.arange(0,4,1)\n",
    "conditions = ['intact', 'paragraph', 'rest', 'word']\n",
    "\n",
    "#colors = sns.color_palette(\"cubehelix\", 4)\n",
    "\n",
    "for r in Reduction_type:\n",
    "    param_corrs = glob.glob(os.path.join(corrsdir, 'isfc_' + r + '*'))\n",
    "    for l in levels:\n",
    "\n",
    "        full_pca_data = pd.DataFrame()\n",
    "\n",
    "        for e, cond in enumerate(conditions):\n",
    "\n",
    "            #con = os.path.join(param_corrs[r], f'd_{l}' + f'_r_{cond}' + '.npy')\n",
    "            con = os.path.join(param_corrs[0], f'd_{l}' + f'_r_{cond}' + '.npy')\n",
    "            corrs = np.load(con)\n",
    "\n",
    "            for p in np.arange(corrs.shape[0]):\n",
    "\n",
    "                x = corrs[p]\n",
    "                pca = PCA(n_components=corrs.shape[1])\n",
    "                pca.fit_transform(x)\n",
    "\n",
    "                pc_data = pd.DataFrame()\n",
    "                pc_data['variance'] = np.cumsum(pca.explained_variance_ratio_)\n",
    "                pc_data['condition'] = mb.repmat(cond, np.cumsum(pca.explained_variance_ratio_).shape[0], 1)\n",
    "                pc_data['subject'] = mb.repmat(p, np.cumsum(pca.explained_variance_ratio_).shape[0], 1)\n",
    "                pc_data['components'] = pc_data.index \n",
    "                if full_pca_data.empty:\n",
    "                    full_pca_data = pc_data\n",
    "                else:\n",
    "                    full_pca_data = full_pca_data.append(pc_data)\n",
    "                    \n",
    "    full_pca_data.to_csv(os.path.join(corrsdir, 'full_pca_data_'+ f'{r}'+'.csv'))"
   ]
  },
  {
   "cell_type": "code",
   "execution_count": 14,
   "metadata": {},
   "outputs": [
    {
     "data": {
      "text/plain": [
       "'/Users/lucyowen/repos/timecorr-paper-1/code/notebooks/../../data/results/corrs_ordered_up_for_PCA'"
      ]
     },
     "execution_count": 14,
     "metadata": {},
     "output_type": "execute_result"
    }
   ],
   "source": [
    "corrsdir"
   ]
  },
  {
   "cell_type": "code",
   "execution_count": null,
   "metadata": {
    "scrolled": true
   },
   "outputs": [
    {
     "name": "stdout",
     "output_type": "stream",
     "text": [
      "0\n",
      "1\n",
      "2\n",
      "3\n",
      "0\n",
      "1\n",
      "2\n",
      "3\n"
     ]
    }
   ],
   "source": [
    "levels = np.arange(0,4,1)\n",
    "conditions = ['intact', 'paragraph', 'rest', 'word']\n",
    "\n",
    "for r in Reduction_type:\n",
    "    for l in levels:\n",
    "        full_pca_data = pd.read_csv(os.path.join(corrsdir, 'full_pca_data_'+ f'{r}')+'.csv')\n",
    "        print(str(l))            \n",
    "        fig, ax = plt.subplots()\n",
    "        sns.lineplot(x=\"components\", y=\"variance\",\n",
    "                     hue=\"condition\",\n",
    "                     data=full_pca_data, ax=ax, palette=cmap, hue_order=['intact', 'paragraph', 'word', 'rest'])\n",
    "        sns.despine(ax=ax, left=True)\n",
    "        ax.set_ylabel('Cumulative \\n variance explained',fontsize=24)\n",
    "        ax.set_xlabel('Number of components',fontsize=24)\n",
    "        ax.tick_params(axis='both', which='major', labelsize=24)\n",
    "        ax.tick_params(axis='both', which='minor', labelsize=20)\n",
    "        ax.set_ylim(0, 1)\n",
    "        ax.legend().set_visible(False)\n",
    "\n",
    "        outfile = os.path.join(figdir, 'pca_700_nodes_level_' + str(l+1) + '_' + r + '.pdf')\n",
    "        plt.tight_layout()\n",
    "        plt.savefig(outfile)\n",
    "        plt.clf()"
   ]
  }
 ],
 "metadata": {
  "kernelspec": {
   "display_name": "Python 3",
   "language": "python",
   "name": "python3"
  },
  "language_info": {
   "codemirror_mode": {
    "name": "ipython",
    "version": 3
   },
   "file_extension": ".py",
   "mimetype": "text/x-python",
   "name": "python",
   "nbconvert_exporter": "python",
   "pygments_lexer": "ipython3",
   "version": "3.7.2"
  }
 },
 "nbformat": 4,
 "nbformat_minor": 2
}
