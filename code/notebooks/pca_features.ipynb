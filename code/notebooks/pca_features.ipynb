{
 "cells": [
  {
   "cell_type": "code",
   "execution_count": 1,
   "metadata": {},
   "outputs": [],
   "source": [
    "\n",
    "import numpy as np\n",
    "import sys\n",
    "import os\n",
    "import pandas as pd\n",
    "import glob as glob\n",
    "import seaborn as sns\n",
    "import matplotlib.pyplot as plt\n",
    "from scipy.stats import ttest_ind\n",
    "import itertools\n",
    "from sklearn.decomposition import PCA, IncrementalPCA\n",
    "from scipy import stats\n",
    "from matplotlib.colors import ListedColormap\n",
    "from mpl_toolkits.axes_grid1 import make_axes_locatable\n",
    "\n",
    "%matplotlib inline"
   ]
  },
  {
   "cell_type": "code",
   "execution_count": 2,
   "metadata": {},
   "outputs": [],
   "source": [
    "cmap = 'husl'"
   ]
  },
  {
   "cell_type": "code",
   "execution_count": 3,
   "metadata": {},
   "outputs": [],
   "source": [
    "figdir = '../figs'\n",
    "if not os.path.isdir(figdir):\n",
    "    os.mkdir(figdir)"
   ]
  },
  {
   "cell_type": "code",
   "execution_count": 4,
   "metadata": {},
   "outputs": [],
   "source": [
    "results_dir = os.path.join(os.getenv('HOME'), 'Desktop', 'timecorr_env', 'timecorr_paper', 'pieman', 'results')\n",
    "#results_dir = os.path.join('../../data/', 'results')"
   ]
  },
  {
   "cell_type": "code",
   "execution_count": 5,
   "metadata": {},
   "outputs": [],
   "source": [
    "analysis_name = 'corrs_ordered_up_for_PCA'"
   ]
  },
  {
   "cell_type": "code",
   "execution_count": 6,
   "metadata": {},
   "outputs": [],
   "source": [
    "data_dir = os.path.join(results_dir, analysis_name, 'corrs_results')"
   ]
  },
  {
   "cell_type": "code",
   "execution_count": 7,
   "metadata": {},
   "outputs": [
    {
     "data": {
      "text/plain": [
       "'/Users/lucyowen/Desktop/timecorr_env/timecorr_paper/pieman/results/corrs_ordered_up_for_PCA/corrs_results'"
      ]
     },
     "execution_count": 7,
     "metadata": {},
     "output_type": "execute_result"
    }
   ],
   "source": [
    "data_dir"
   ]
  },
  {
   "cell_type": "code",
   "execution_count": 8,
   "metadata": {},
   "outputs": [],
   "source": [
    "corrsdir = os.path.join(results_dir, analysis_name)"
   ]
  },
  {
   "cell_type": "code",
   "execution_count": 9,
   "metadata": {},
   "outputs": [],
   "source": [
    "param_corrs = glob.glob(os.path.join(corrsdir, 'isfc_*'))"
   ]
  },
  {
   "cell_type": "code",
   "execution_count": 10,
   "metadata": {},
   "outputs": [
    {
     "data": {
      "text/plain": [
       "['/Users/lucyowen/Desktop/timecorr_env/timecorr_paper/pieman/results/corrs_ordered_up_for_PCA/isfc_eigenvector_centrality_laplace_50',\n",
       " '/Users/lucyowen/Desktop/timecorr_env/timecorr_paper/pieman/results/corrs_ordered_up_for_PCA/isfc_PCA_laplace_50']"
      ]
     },
     "execution_count": 10,
     "metadata": {},
     "output_type": "execute_result"
    }
   ],
   "source": [
    "param_corrs"
   ]
  },
  {
   "cell_type": "code",
   "execution_count": 11,
   "metadata": {},
   "outputs": [],
   "source": [
    "levels = np.arange(0,4,1)\n",
    "conditions = ['intact', 'paragraph', 'rest', 'word']\n",
    "Reduction_type = ['PCA', 'eigenvector_centrality']"
   ]
  },
  {
   "cell_type": "code",
   "execution_count": 12,
   "metadata": {},
   "outputs": [],
   "source": [
    "# levels = np.arange(0,4,1)\n",
    "# conditions = ['intact', 'paragraph', 'rest', 'word']\n",
    "\n",
    "# colors = sns.color_palette(\"cubehelix\", 4)\n",
    "\n",
    "# for l in levels:\n",
    "\n",
    "#     for e, cond in enumerate(conditions):\n",
    "#         #con = os.path.join(corrsdir, f'lev_{l}'+ f'_{cond}'+ '.npy')\n",
    "#         con = os.path.join(param_corrs[0], f'd_{l}' + f'_r_{cond}' + '.npy')\n",
    "\n",
    "#         corrs = np.load(con)\n",
    "#         split = np.cumsum([len(xi) for xi in corrs])[:-1]\n",
    "#         stacked = np.vstack(corrs)\n",
    "#         pca = IncrementalPCA(n_components=np.shape(stacked)[1])\n",
    "#         x_r = np.vsplit(pca.fit_transform(np.vstack(stacked)), split)\n",
    "        \n",
    "#         plt.plot(np.cumsum(pca.explained_variance_ratio_), color = colors[e])\n",
    "#         plt.xlabel('number of components')\n",
    "#         plt.ylabel('cumulative explained variance')\n",
    "        \n",
    "#     plt.show()\n",
    "#     plt.clf()"
   ]
  },
  {
   "cell_type": "code",
   "execution_count": 13,
   "metadata": {},
   "outputs": [],
   "source": [
    "cmap = 'husl'"
   ]
  },
  {
   "cell_type": "code",
   "execution_count": 106,
   "metadata": {
    "scrolled": false
   },
   "outputs": [
    {
     "name": "stdout",
     "output_type": "stream",
     "text": [
      "0\n"
     ]
    },
    {
     "name": "stderr",
     "output_type": "stream",
     "text": [
      "/Users/lucyowen/Library/Python/3.6/lib/python/site-packages/ipykernel_launcher.py:38: SettingWithCopyWarning: \n",
      "A value is trying to be set on a copy of a slice from a DataFrame.\n",
      "Try using .loc[row_indexer,col_indexer] = value instead\n",
      "\n",
      "See the caveats in the documentation: http://pandas.pydata.org/pandas-docs/stable/indexing.html#indexing-view-versus-copy\n",
      "/Users/lucyowen/Library/Python/3.6/lib/python/site-packages/ipykernel_launcher.py:39: SettingWithCopyWarning: \n",
      "A value is trying to be set on a copy of a slice from a DataFrame.\n",
      "Try using .loc[row_indexer,col_indexer] = value instead\n",
      "\n",
      "See the caveats in the documentation: http://pandas.pydata.org/pandas-docs/stable/indexing.html#indexing-view-versus-copy\n",
      "/Users/lucyowen/Library/Python/3.6/lib/python/site-packages/ipykernel_launcher.py:40: SettingWithCopyWarning: \n",
      "A value is trying to be set on a copy of a slice from a DataFrame.\n",
      "Try using .loc[row_indexer,col_indexer] = value instead\n",
      "\n",
      "See the caveats in the documentation: http://pandas.pydata.org/pandas-docs/stable/indexing.html#indexing-view-versus-copy\n"
     ]
    },
    {
     "name": "stdout",
     "output_type": "stream",
     "text": [
      "0\n",
      "1\n",
      "2\n",
      "3\n",
      "1\n",
      "0\n",
      "1\n",
      "2\n",
      "3\n"
     ]
    },
    {
     "data": {
      "text/plain": [
       "<Figure size 432x288 with 0 Axes>"
      ]
     },
     "metadata": {},
     "output_type": "display_data"
    },
    {
     "data": {
      "text/plain": [
       "<Figure size 432x288 with 0 Axes>"
      ]
     },
     "metadata": {},
     "output_type": "display_data"
    },
    {
     "data": {
      "text/plain": [
       "<Figure size 432x288 with 0 Axes>"
      ]
     },
     "metadata": {},
     "output_type": "display_data"
    },
    {
     "data": {
      "text/plain": [
       "<Figure size 432x288 with 0 Axes>"
      ]
     },
     "metadata": {},
     "output_type": "display_data"
    },
    {
     "data": {
      "text/plain": [
       "<Figure size 432x288 with 0 Axes>"
      ]
     },
     "metadata": {},
     "output_type": "display_data"
    },
    {
     "data": {
      "text/plain": [
       "<Figure size 432x288 with 0 Axes>"
      ]
     },
     "metadata": {},
     "output_type": "display_data"
    },
    {
     "data": {
      "text/plain": [
       "<Figure size 432x288 with 0 Axes>"
      ]
     },
     "metadata": {},
     "output_type": "display_data"
    },
    {
     "data": {
      "text/plain": [
       "<Figure size 432x288 with 0 Axes>"
      ]
     },
     "metadata": {},
     "output_type": "display_data"
    }
   ],
   "source": [
    "levels = np.arange(0,4,1)\n",
    "conditions = ['intact', 'paragraph', 'rest', 'word']\n",
    "\n",
    "#colors = sns.color_palette(\"cubehelix\", 4)\n",
    "\n",
    "thres_data = pd.DataFrame()\n",
    "\n",
    "for r in np.arange(2):\n",
    "    print(r)\n",
    "    for l in levels:\n",
    "\n",
    "        full_pca_data = pd.DataFrame()\n",
    "\n",
    "        for e, cond in enumerate(conditions):\n",
    "            #con = os.path.join(corrsdir, f'lev_{l}'+ f'_{cond}'+ '.npy')\n",
    "            con = os.path.join(param_corrs[r], f'd_{l}' + f'_r_{cond}' + '.npy')\n",
    "            corrs = np.load(con)\n",
    "\n",
    "            for p in np.arange(corrs.shape[0]):\n",
    "                \n",
    "                x = corrs[p]\n",
    "                pca = PCA(n_components=corrs.shape[1])\n",
    "                pca.fit_transform(x)\n",
    "\n",
    "                pc_data = pd.DataFrame()\n",
    "                pc_data['variance'] = np.cumsum(pca.explained_variance_ratio_)\n",
    "                pc_data['condition'] = np.matlib.repmat(cond, np.cumsum(pca.explained_variance_ratio_).shape[0], 1)\n",
    "                pc_data['subject'] = np.matlib.repmat(p, np.cumsum(pca.explained_variance_ratio_).shape[0], 1)\n",
    "                pc_data['components'] = pc_data.index \n",
    "                pc_data['total components'] = pc_data.components.max() + 1\n",
    "                pc_data['percent components'] = pc_data['components']/pc_data['total components']\n",
    "                \n",
    "                absolute_val_array = np.abs(pc_data.variance.values - .85)\n",
    "                smallest_difference_index = absolute_val_array.argmin()\n",
    "                closest_element = pc_data.variance.values[smallest_difference_index]\n",
    "                mask = pc_data.variance.values == closest_element\n",
    "                pc_data_thres = pc_data[mask]\n",
    "                pc_data_thres['level'] = l\n",
    "                pc_data_thres['reduction'] = Reduction_type[r]\n",
    "                pc_data_thres['total components'] = pc_data.components.max() + 1\n",
    "                if thres_data.empty:\n",
    "                    thres_data = pc_data_thres\n",
    "                else:\n",
    "                    thres_data = thres_data.append(pc_data_thres)\n",
    "\n",
    "                    \n",
    "                if full_pca_data.empty:\n",
    "                    full_pca_data = pc_data\n",
    "                else:\n",
    "                    full_pca_data = full_pca_data.append(pc_data)\n",
    "        print(str(l))\n",
    "\n",
    "\n",
    "        fig, ax = plt.subplots()\n",
    "#         sns.lineplot(x=\"components\", y=\"variance\",\n",
    "#                      hue=\"condition\",\n",
    "#                      data=full_pca_data, ax=ax, palette=cmap, hue_order=['intact', 'paragraph', 'word', 'rest'])\n",
    "        sns.lineplot(x='percent components', y=\"variance\",\n",
    "                     hue=\"condition\",\n",
    "                     data=full_pca_data, ax=ax, palette=cmap, hue_order=['intact', 'paragraph', 'word', 'rest'])\n",
    "        sns.despine(ax=ax, left=True)\n",
    "        if r == 1:\n",
    "            ax.lines[0].set_linestyle(\"--\")\n",
    "            ax.lines[1].set_linestyle(\"--\")\n",
    "            ax.lines[2].set_linestyle(\"--\")\n",
    "            ax.lines[3].set_linestyle(\"--\")\n",
    "        #ax.set_title('Cumulative varince explained')\n",
    "        ax.set_ylabel('Cumulative \\n varince explained',fontsize=24)\n",
    "        #ax.set_xlabel('Number of components',fontsize=24)\n",
    "        ax.set_xlabel('Proportion of components',fontsize=24)\n",
    "        ax.tick_params(axis='both', which='major', labelsize=24)\n",
    "        ax.tick_params(axis='both', which='minor', labelsize=20)\n",
    "        ax.set_ylim(0, 1)\n",
    "        ax.legend().set_visible(False)\n",
    "\n",
    "    #     ax.hlines(y=50, xmin=0, xmax=100, linewidth=2, color='r')\n",
    "    #     #ax.legend(loc='center right', bbox_to_anchor=(1.6, 0.75), ncol=1)\n",
    "    #     leg = ax.legend(loc='center right', bbox_to_anchor=(1.75, 0.75), ncol=1,fontsize=24)\n",
    "    #     for line in leg.get_lines():\n",
    "    #         line.set_linewidth(4.0)\n",
    "\n",
    "        outfile = os.path.join(figdir, 'pca_700_nodes_level_' + str(l+1) + '_' + Reduction_type[r] + '.pdf')\n",
    "        plt.tight_layout()\n",
    "        #plt.show()\n",
    "        plt.savefig(outfile)\n",
    "        plt.clf()"
   ]
  },
  {
   "cell_type": "code",
   "execution_count": 107,
   "metadata": {},
   "outputs": [],
   "source": [
    "thres_data['percent components'] = thres_data['components']/thres_data['total components']"
   ]
  },
  {
   "cell_type": "code",
   "execution_count": 135,
   "metadata": {},
   "outputs": [
    {
     "data": {
      "image/png": "[encoded data removed]",
      "text/plain": [
       "<Figure size 432x288 with 1 Axes>"
      ]
     },
     "metadata": {
      "needs_background": "light"
     },
     "output_type": "display_data"
    }
   ],
   "source": [
    "fig, ax = plt.subplots()\n",
    "ax = sns.scatterplot(x = 'level', y = 'percent components', hue='condition', style = 'reduction', palette=cmap, \n",
    "                hue_order=['intact', 'paragraph', 'word', 'rest'], data = thres_data)\n",
    "sns.lineplot(x = 'level', y = 'percent components', hue='condition', ax=ax, style = 'reduction', palette=cmap, \n",
    "             hue_order=['intact', 'paragraph', 'word', 'rest'], data = thres_data)\n",
    "sns.despine(ax=ax, left=True)\n",
    "#ax.set_title('Cumulative varince explained')\n",
    "ax.set_ylabel('Prop. of components\\nfor 85% variance',fontsize=24)\n",
    "ax.set_xlabel('Orders',fontsize=24)\n",
    "ax.tick_params(axis='both', which='major', labelsize=24)\n",
    "ax.tick_params(axis='both', which='minor', labelsize=20)\n",
    "ax.legend().set_visible(False)\n",
    "plt.tight_layout()\n",
    "#ax.set_ylim(0, .7)\n",
    "# legend_elements = [Line2D([0], [0], color='black', linestyle = 'solid', lw=2, label='PCA'),\n",
    "#                    Line2D([0], [0], linestyle = 'dashed', color='black', lw=2, label='Eigenvector centrality')]\n",
    "# ax.legend(handles=legend_elements, loc='lower right', fontsize=18, bbox_to_anchor=(1.95, 0.75))\n",
    "outfile = os.path.join(figdir, 'pca_700_nodes_across_levels.pdf')\n",
    "plt.savefig(outfile)\n"
   ]
  },
  {
   "cell_type": "code",
   "execution_count": null,
   "metadata": {},
   "outputs": [],
   "source": [
    "fig, ax = plt.subplots()\n",
    "ax = sns.scatterplot(x = 'level', y = 'components', hue='condition', style = 'reduction', palette=cmap, \n",
    "                hue_order=['intact', 'paragraph', 'word', 'rest'], data = thres_data)\n",
    "sns.lineplot(x = 'level', y = 'components', hue='condition', ax=ax, style = 'reduction', palette=cmap, \n",
    "             hue_order=['intact', 'paragraph', 'word', 'rest'], data = thres_data)\n",
    "sns.despine(ax=ax, left=True)\n",
    "#ax.set_title('Cumulative varince explained')\n",
    "ax.set_ylabel('Number of components',fontsize=24)\n",
    "ax.set_xlabel('Levels',fontsize=24)\n",
    "ax.tick_params(axis='both', which='major', labelsize=24)\n",
    "ax.tick_params(axis='both', which='minor', labelsize=20)\n",
    "\n",
    "ax.legend().set_visible(False)"
   ]
  },
  {
   "cell_type": "code",
   "execution_count": 129,
   "metadata": {},
   "outputs": [
    {
     "data": {
      "image/png": "[encoded data removed]",
      "text/plain": [
       "<Figure size 432x144 with 1 Axes>"
      ]
     },
     "metadata": {
      "needs_background": "light"
     },
     "output_type": "display_data"
    }
   ],
   "source": [
    "from matplotlib.patches import Patch\n",
    "from matplotlib.lines import Line2D\n",
    "fig, ax = plt.subplots(figsize=(6,2))\n",
    "legend_elements = [Line2D([0], [0], color='black', linestyle = 'solid', lw=2, label='PCA'),\n",
    "                   Line2D([0], [0], linestyle = 'dashed', color='black', lw=2, label='Eigenvector \\ncentrality')]\n",
    "ax.legend(handles=legend_elements, loc='center', fontsize=18)\n",
    "outfile = os.path.join(figdir, 'pca_700_nodes_legend.pdf')\n",
    "plt.tight_layout()\n",
    "plt.savefig(outfile)\n"
   ]
  },
  {
   "cell_type": "code",
   "execution_count": null,
   "metadata": {},
   "outputs": [],
   "source": []
  }
 ],
 "metadata": {
  "kernelspec": {
   "display_name": "Python 3",
   "language": "python",
   "name": "python3"
  },
  "language_info": {
   "codemirror_mode": {
    "name": "ipython",
    "version": 3
   },
   "file_extension": ".py",
   "mimetype": "text/x-python",
   "name": "python",
   "nbconvert_exporter": "python",
   "pygments_lexer": "ipython3",
   "version": "3.6.5"
  }
 },
 "nbformat": 4,
 "nbformat_minor": 2
}
