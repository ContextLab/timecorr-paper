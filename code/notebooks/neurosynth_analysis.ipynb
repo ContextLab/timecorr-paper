{
 "cells": [
  {
   "cell_type": "code",
   "execution_count": 1,
   "metadata": {},
   "outputs": [],
   "source": [
    "import numpy as np\n",
    "import pandas as pd\n",
    "import timecorr as tc\n",
    "import hypertools as hyp\n",
    "import supereeg as se\n",
    "from matplotlib import pyplot as plt\n",
    "from matplotlib import animation as ani\n",
    "import seaborn as sns\n",
    "import os\n",
    "import glob as glob\n",
    "from scipy.io import loadmat as load\n",
    "import numba\n",
    "import copy\n",
    "import nilearn as nl\n",
    "import nibabel as nib\n",
    "from nilearn.input_data import NiftiMasker\n",
    "from scipy.spatial.distance import pdist, cdist, squareform\n",
    "from collections import deque\n",
    "from IPython.display import HTML\n",
    "import matlab.engine as mlab\n",
    "import matlab\n",
    "\n",
    "# Core functionality for managing and accessing data\n",
    "from neurosynth import Dataset\n",
    "# Analysis tools for meta-analysis, image decoding, and coactivation analysis\n",
    "from neurosynth import meta, decode, network\n",
    "\n",
    "%matplotlib inline"
   ]
  },
  {
   "cell_type": "code",
   "execution_count": 2,
   "metadata": {},
   "outputs": [],
   "source": [
    "### only do this once:\n",
    "# import neurosynth as ns\n",
    "# ns.dataset.download(path='../figs/neurosynth_data/', unpack=True)\n",
    "# dataset = Dataset('../figs/neurosynth_data/database.txt')\n",
    "# dataset.add_features('../figs/neurosynth_data/features.txt')\n",
    "# dataset.save('../figs/neurosynth_data/dataset.pkl')"
   ]
  },
  {
   "cell_type": "code",
   "execution_count": 3,
   "metadata": {},
   "outputs": [],
   "source": [
    "def largest_indices(ary, n):\n",
    "    \"\"\"Returns the n largest indices from a numpy array.\"\"\"\n",
    "    flat = ary.flatten()\n",
    "    indices = np.argpartition(flat, -n)[-n:]\n",
    "    indices = indices[np.argsort(-flat[indices])]\n",
    "    return np.unravel_index(indices, ary.shape)"
   ]
  },
  {
   "cell_type": "code",
   "execution_count": 4,
   "metadata": {},
   "outputs": [],
   "source": [
    "def get_sphere(coords, r=4, vox_dims=(2, 2, 2), dims=(91, 109, 91)):\n",
    "    \"\"\" # Return all points within r mm of coordinates. Generates a cube\n",
    "    and then discards all points outside sphere. Only returns values that\n",
    "    fall within the dimensions of the image.\"\"\"\n",
    "    r = float(r)\n",
    "    xx, yy, zz = [slice(-r / vox_dims[i], r / vox_dims[\n",
    "                        i] + 0.01, 1) for i in range(len(coords))]\n",
    "    cube = np.vstack([row.ravel() for row in np.mgrid[xx, yy, zz]])\n",
    "    sphere = cube[:, np.sum(np.dot(np.diag(\n",
    "        vox_dims), cube) ** 2, 0) ** .5 <= r]\n",
    "    sphere = np.round(sphere.T + coords)\n",
    "    return sphere"
   ]
  },
  {
   "cell_type": "code",
   "execution_count": 8,
   "metadata": {},
   "outputs": [],
   "source": [
    "figdir = '../figs'\n",
    "if not os.path.exists(figdir):\n",
    "    os.mkdir(figdir)"
   ]
  },
  {
   "cell_type": "code",
   "execution_count": 9,
   "metadata": {},
   "outputs": [],
   "source": [
    "ddir = '../../data/'"
   ]
  },
  {
   "cell_type": "code",
   "execution_count": 10,
   "metadata": {},
   "outputs": [],
   "source": [
    "neurosynth_dir ='../figs/neurosynth_data/'\n",
    "## on cluster:\n",
    "neurosynth_dir ='../figs/neurosynth_data/'"
   ]
  },
  {
   "cell_type": "code",
   "execution_count": 11,
   "metadata": {},
   "outputs": [],
   "source": [
    "results_dir = os.path.join(os.getenv('HOME'), 'Desktop', 'timecorr_env', 'timecorr_paper', 'pieman', 'results')"
   ]
  },
  {
   "cell_type": "code",
   "execution_count": 12,
   "metadata": {},
   "outputs": [],
   "source": [
    "posterior = load(os.path.join(results_dir, '../data/pieman_posterior_K700.mat'))\n",
    "centers = posterior['posterior']['centers'][0][0][0][0][0]\n",
    "widths = np.array(list(posterior['posterior']['widths'][0][0][0][0][0][:, 0].T))"
   ]
  },
  {
   "cell_type": "code",
   "execution_count": 13,
   "metadata": {},
   "outputs": [],
   "source": [
    "levels = np.arange(0,16,1)\n",
    "conditions = ['intact', 'paragraph', 'rest', 'word']"
   ]
  },
  {
   "cell_type": "code",
   "execution_count": 14,
   "metadata": {},
   "outputs": [],
   "source": [
    "data_dir = os.path.join(results_dir, 'mean_corrs')\n",
    "corrs_dir = os.path.join(data_dir, 'corrs')"
   ]
  },
  {
   "cell_type": "code",
   "execution_count": 16,
   "metadata": {},
   "outputs": [],
   "source": [
    "top_n = 10\n",
    "\n",
    "top_coors = np.array([])\n",
    "cond_labels = []\n",
    "\n",
    "for l in [0,1,2,3,14]:\n",
    "    for c in conditions:\n",
    "        conds = glob.glob(os.path.join(data_dir, f'level_{l}', f'{c}.npy'))\n",
    "        g_m = np.load(conds[0])\n",
    "\n",
    "        networks = copy.copy(g_m)\n",
    "        np.fill_diagonal(networks, 0)\n",
    "        net_inds = largest_indices(np.triu(networks), top_n)\n",
    "        net_inds = np.concatenate((net_inds[0], net_inds[1]))\n",
    "        temp_locs = centers[net_inds]\n",
    "        temp_widths = widths[net_inds]\n",
    "        \n",
    "        temp_array = np.array([])\n",
    "        \n",
    "        for t in np.arange(temp_locs.shape[0]):\n",
    "            if temp_array.shape[0]==0:\n",
    "                temp_array = get_sphere(temp_locs[t], r=5)\n",
    "            else:\n",
    "                temp_array = np.vstack((temp_array, get_sphere(temp_locs[t], r=5)))\n",
    "        \n",
    "        if top_coors.shape[0]==0:\n",
    "            top_coors = temp_array\n",
    "        else:\n",
    "            top_coors = np.dstack((top_coors, temp_array))\n",
    "            \n",
    "        cond_labels.append((l, c))\n",
    "        \n",
    "np.savez(os.path.join(neurosynth_dir, 'top_10_corrs.npz'), cond_labels=cond_labels, top_coors=top_coors)"
   ]
  },
  {
   "cell_type": "code",
   "execution_count": 18,
   "metadata": {},
   "outputs": [
    {
     "data": {
      "text/plain": [
       "(1120, 3, 20)"
      ]
     },
     "execution_count": 18,
     "metadata": {},
     "output_type": "execute_result"
    }
   ],
   "source": [
    "top_coors.shape"
   ]
  },
  {
   "cell_type": "code",
   "execution_count": 111,
   "metadata": {},
   "outputs": [],
   "source": [
    "# top_n = 10\n",
    "\n",
    "# top_coors = np.array([])\n",
    "# cond_labels = []\n",
    "\n",
    "# for l in [0,1,2,3,14]:\n",
    "#     for c in conditions:\n",
    "#         conds = glob.glob(os.path.join(data_dir, f'level_{l}', f'{c}.npy'))\n",
    "#         g_m = np.load(conds[0])\n",
    "\n",
    "#         networks = copy.copy(g_m)\n",
    "#         np.fill_diagonal(networks, 0)\n",
    "#         net_inds = largest_indices(np.triu(networks), top_n)\n",
    "#         net_inds = np.concatenate((net_inds[0], net_inds[1]))\n",
    "#         temp_locs = centers[net_inds]\n",
    "#         temp_widths = widths[net_inds]\n",
    "        \n",
    "#         temp_array = np.array([])\n",
    "        \n",
    "#         for t in np.arange(temp_locs.shape[0]):\n",
    "#             if temp_array.shape[0]==0:\n",
    "#                 temp_array = get_sphere(temp_locs[t])\n",
    "#             else:\n",
    "#                 temp_array = np.vstack((temp_array, get_sphere(temp_locs[t])))\n",
    "        \n",
    "#         if top_coors.shape[0]==0:\n",
    "#             top_coors = temp_array\n",
    "#         else:\n",
    "#             top_coors = np.dstack((top_coors, temp_array))\n",
    "            \n",
    "#         cond_labels.append((l, c))\n",
    "        \n",
    "# np.savez(os.path.join(neurosynth_dir, 'top_10_corrs.npz'), cond_labels=cond_labels, top_coors=top_coors)"
   ]
  },
  {
   "cell_type": "code",
   "execution_count": null,
   "metadata": {},
   "outputs": [],
   "source": [
    "# hdr = nii_template.get_header()\n",
    "# temp_v_size = hdr.get_zooms()[0:3]\n",
    "\n",
    "# R = bo.get_locs()\n",
    "# Y = bo.data.as_matrix()\n",
    "# Y = np.array(Y, ndmin=2)\n",
    "# S = nii_template.affine\n",
    "# locs = np.array(np.dot(R - S[:3, 3], np.linalg.inv(S[0:3, 0:3])), dtype='int')\n",
    "\n",
    "# shape = np.max(np.vstack([np.max(locs, axis=0) + 1, nii_template.shape[0:3]]), axis=0)\n",
    "# data = np.zeros(tuple(list(shape) + [Y.shape[0]]))\n",
    "# counts = np.zeros(data.shape)\n",
    "\n",
    "# for i in range(R.shape[0]):\n",
    "#     data[locs[i, 0], locs[i, 1], locs[i, 2], :] += Y[:, i]\n",
    "#     counts[locs[i, 0], locs[i, 1], locs[i, 2], :] += 1\n",
    "\n",
    "# with np.errstate(invalid='ignore'):\n",
    "#     for i in range(R.shape[0]):\n",
    "#         data[locs[i, 0], locs[i, 1], locs[i, 2], :] = np.divide(data[locs[i, 0], locs[i, 1], locs[i, 2], :], counts[locs[i, 0], locs[i, 1], locs[i, 2], :])\n"
   ]
  },
  {
   "cell_type": "code",
   "execution_count": 19,
   "metadata": {},
   "outputs": [],
   "source": [
    "neurosynth_dir ='../figs/neurosynth_data/' ## change to cluster loc"
   ]
  },
  {
   "cell_type": "code",
   "execution_count": 20,
   "metadata": {},
   "outputs": [],
   "source": [
    "coors = np.load(os.path.join(neurosynth_dir, 'top_10_corrs.npz'))"
   ]
  },
  {
   "cell_type": "code",
   "execution_count": 21,
   "metadata": {},
   "outputs": [],
   "source": [
    "cond_labels = coors['cond_labels']\n",
    "top_coors = coors['top_coors']\n"
   ]
  },
  {
   "cell_type": "code",
   "execution_count": 22,
   "metadata": {},
   "outputs": [],
   "source": [
    "dataset = Dataset.load(os.path.join(neurosynth_dir, 'dataset.pkl'))\n",
    "decoder = decode.Decoder(dataset=dataset, threshold=0.1, features=['taste', 'disgust', 'emotion', 'auditory', 'pain', 'somatosensory', 'conflict', 'switching', 'inhibition'])\n"
   ]
  },
  {
   "cell_type": "code",
   "execution_count": 177,
   "metadata": {
    "scrolled": false
   },
   "outputs": [],
   "source": [
    "### DO THIS ON THE CLUSTER for coactivateion maps\n",
    "### only do this once\n",
    "# import neurosynth as ns\n",
    "# ns.dataset.download(path='neurosynth_dir', unpack=True)\n",
    "# dataset = Dataset(os.path.join(neurosynth_dir,'database.txt'))\n",
    "# dataset.add_features(os.path.join(neurosynth_dir, 'features.txt'))\n",
    "# dataset.save(os.path.join(neurosynth_dir,'dataset.pkl'))\n",
    "\n",
    "# dataset = Dataset.load(os.path.join(neurosynth_dir, 'dataset.pkl'))\n",
    "# decoder = decode.Decoder(dataset=dataset, threshold=0.1, features=['taste', 'disgust', 'emotion', 'auditory', 'pain', 'somatosensory', 'conflict', 'switching', 'inhibition'])\n",
    "\n",
    "# for e, label in enumerate(cond_labels):\n",
    "#     order = label[0]\n",
    "#     con = label[1]\n",
    "#     top_10 = top_coors[:, :, e]\n",
    "\n",
    "#     network.coactivation(dataset, top_10.tolist(), threshold=0.1, r=10, output_dir=neurosynth_dir, prefix=con+ '_' + str(order))\n",
    "    \n",
    "# for e, label in enumerate(cond_labels):\n",
    "#     list_files = glob.glob(os.path.join(neurosynth_dir, con+ '_' + str(order + '*')))\n",
    "#     decoder = decode.Decoder(dataset=dataset, threshold=0.1, features=['taste', 'disgust', 'emotion', 'auditory', 'pain', 'somatosensory', 'conflict', 'switching', 'inhibition'])  # can also pass other useful args\n",
    "#     results_df = decoder.decode(images=list_files, save=None)  # can also pass names specific for the images\n"
   ]
  },
  {
   "cell_type": "code",
   "execution_count": 179,
   "metadata": {},
   "outputs": [
    {
     "data": {
      "text/plain": [
       "['../figs/neurosynth_data/word_14_association-test_z.nii.gz',\n",
       " '../figs/neurosynth_data/word_14_association-test_z_FDR_0.01.nii.gz',\n",
       " '../figs/neurosynth_data/word_14_pA.nii.gz',\n",
       " '../figs/neurosynth_data/word_14_pA_given_pF=0.50.nii.gz',\n",
       " '../figs/neurosynth_data/word_14_pAgF.nii.gz',\n",
       " '../figs/neurosynth_data/word_14_pFgA.nii.gz',\n",
       " '../figs/neurosynth_data/word_14_pFgA_given_pF=0.50.nii.gz',\n",
       " '../figs/neurosynth_data/word_14_uniformity-test_z.nii.gz',\n",
       " '../figs/neurosynth_data/word_14_uniformity-test_z_FDR_0.01.nii.gz']"
      ]
     },
     "execution_count": 179,
     "metadata": {},
     "output_type": "execute_result"
    }
   ],
   "source": [
    "#glob.glob(os.path.join(neurosynth_dir, con+ '_' + str(order + '*')))"
   ]
  },
  {
   "cell_type": "code",
   "execution_count": 104,
   "metadata": {},
   "outputs": [],
   "source": [
    "# for e, label in enumerate(cond_labels):\n",
    "#     order = label[0]\n",
    "#     con = label[1]\n",
    "#     top_10 = top_coors[:, :, e]\n",
    "    "
   ]
  },
  {
   "cell_type": "code",
   "execution_count": 121,
   "metadata": {},
   "outputs": [],
   "source": [
    "#network.coactivation(dataset, top_10.tolist(), threshold=0.1, r=10, output_dir='neurosynth_dir', prefix='lev_1_intact')"
   ]
  },
  {
   "cell_type": "code",
   "execution_count": 23,
   "metadata": {},
   "outputs": [],
   "source": [
    "import supereeg as se"
   ]
  },
  {
   "cell_type": "code",
   "execution_count": 25,
   "metadata": {},
   "outputs": [],
   "source": [
    "top_10 = top_coors[:, :, 1]"
   ]
  },
  {
   "cell_type": "code",
   "execution_count": 26,
   "metadata": {},
   "outputs": [
    {
     "data": {
      "text/plain": [
       "1120"
      ]
     },
     "execution_count": 26,
     "metadata": {},
     "output_type": "execute_result"
    }
   ],
   "source": [
    "top_10.shape[0]"
   ]
  },
  {
   "cell_type": "code",
   "execution_count": 27,
   "metadata": {},
   "outputs": [],
   "source": [
    "tray_brain = se.Brain(data=np.ones((1, top_10.shape[0])), locs=top_10, minimum_voxel_size=2)\n",
    "tray_brain.filter=None"
   ]
  },
  {
   "cell_type": "code",
   "execution_count": 28,
   "metadata": {},
   "outputs": [
    {
     "name": "stderr",
     "output_type": "stream",
     "text": [
      "/usr/local/lib/python3.6/site-packages/supereeg/helpers.py:1384: FutureWarning: Method .as_matrix will be removed in a future version. Use .values instead.\n",
      "  Y = bo.data.as_matrix()\n"
     ]
    }
   ],
   "source": [
    "nifi = se.Nifti(tray_brain, vox_size=2)"
   ]
  },
  {
   "cell_type": "code",
   "execution_count": 29,
   "metadata": {},
   "outputs": [
    {
     "data": {
      "image/png": "[encoded data removed]",
      "text/plain": [
       "<Figure size 475.2x187.2 with 4 Axes>"
      ]
     },
     "metadata": {},
     "output_type": "display_data"
    }
   ],
   "source": [
    "nifi.plot_glass_brain()"
   ]
  },
  {
   "cell_type": "code",
   "execution_count": 27,
   "metadata": {},
   "outputs": [],
   "source": [
    "coords = top_10[3]"
   ]
  },
  {
   "cell_type": "code",
   "execution_count": 90,
   "metadata": {},
   "outputs": [],
   "source": [
    "nifi.save(os.path.join(neurosynth_dir, 'try_it'))"
   ]
  },
  {
   "cell_type": "code",
   "execution_count": 91,
   "metadata": {},
   "outputs": [],
   "source": [
    "data = decoder.decode([os.path.join(neurosynth_dir, 'try_it.nii')], save='../figs/neurosynth_data/decoding_results.txt')"
   ]
  },
  {
   "cell_type": "code",
   "execution_count": 92,
   "metadata": {},
   "outputs": [
    {
     "data": {
      "text/html": [
       "<div>\n",
       "<style scoped>\n",
       "    .dataframe tbody tr th:only-of-type {\n",
       "        vertical-align: middle;\n",
       "    }\n",
       "\n",
       "    .dataframe tbody tr th {\n",
       "        vertical-align: top;\n",
       "    }\n",
       "\n",
       "    .dataframe thead th {\n",
       "        text-align: right;\n",
       "    }\n",
       "</style>\n",
       "<table border=\"1\" class=\"dataframe\">\n",
       "  <thead>\n",
       "    <tr style=\"text-align: right;\">\n",
       "      <th></th>\n",
       "      <th>../figs/neurosynth_data/try_it.nii</th>\n",
       "    </tr>\n",
       "  </thead>\n",
       "  <tbody>\n",
       "    <tr>\n",
       "      <th>taste</th>\n",
       "      <td>-0.0067</td>\n",
       "    </tr>\n",
       "    <tr>\n",
       "      <th>disgust</th>\n",
       "      <td>-0.0055</td>\n",
       "    </tr>\n",
       "    <tr>\n",
       "      <th>emotion</th>\n",
       "      <td>0.0031</td>\n",
       "    </tr>\n",
       "    <tr>\n",
       "      <th>auditory</th>\n",
       "      <td>0.0440</td>\n",
       "    </tr>\n",
       "    <tr>\n",
       "      <th>pain</th>\n",
       "      <td>-0.0084</td>\n",
       "    </tr>\n",
       "    <tr>\n",
       "      <th>somatosensory</th>\n",
       "      <td>-0.0068</td>\n",
       "    </tr>\n",
       "    <tr>\n",
       "      <th>conflict</th>\n",
       "      <td>0.0019</td>\n",
       "    </tr>\n",
       "    <tr>\n",
       "      <th>switching</th>\n",
       "      <td>-0.0022</td>\n",
       "    </tr>\n",
       "    <tr>\n",
       "      <th>inhibition</th>\n",
       "      <td>-0.0013</td>\n",
       "    </tr>\n",
       "  </tbody>\n",
       "</table>\n",
       "</div>"
      ],
      "text/plain": [
       "               ../figs/neurosynth_data/try_it.nii\n",
       "taste                                     -0.0067\n",
       "disgust                                   -0.0055\n",
       "emotion                                    0.0031\n",
       "auditory                                   0.0440\n",
       "pain                                      -0.0084\n",
       "somatosensory                             -0.0068\n",
       "conflict                                   0.0019\n",
       "switching                                 -0.0022\n",
       "inhibition                                -0.0013"
      ]
     },
     "execution_count": 92,
     "metadata": {},
     "output_type": "execute_result"
    }
   ],
   "source": [
    "data"
   ]
  },
  {
   "cell_type": "code",
   "execution_count": null,
   "metadata": {},
   "outputs": [],
   "source": []
  }
 ],
 "metadata": {
  "kernelspec": {
   "display_name": "Python 3",
   "language": "python",
   "name": "python3"
  },
  "language_info": {
   "codemirror_mode": {
    "name": "ipython",
    "version": 3
   },
   "file_extension": ".py",
   "mimetype": "text/x-python",
   "name": "python",
   "nbconvert_exporter": "python",
   "pygments_lexer": "ipython3",
   "version": "3.6.5"
  }
 },
 "nbformat": 4,
 "nbformat_minor": 2
}
