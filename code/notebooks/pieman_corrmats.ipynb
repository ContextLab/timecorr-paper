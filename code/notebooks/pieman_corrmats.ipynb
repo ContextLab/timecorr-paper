{
 "cells": [
  {
   "cell_type": "code",
   "execution_count": 7,
   "metadata": {},
   "outputs": [],
   "source": [
    "import os\n",
    "import glob\n",
    "import numpy as np\n",
    "from scipy.io import loadmat\n",
    "import seaborn as sns\n",
    "import pandas as pd\n",
    "import matplotlib.pyplot as plt\n",
    "import timecorr as tc\n",
    "import math\n",
    "import scipy.spatial.distance as sd\n",
    "from timecorr.helpers import isfc, autofc, mean_combine, corrmean_combine, vec2mat, reduce\n",
    "corrsdir = '/Users/lucyowen/Desktop/corrs_for_j'\n",
    "factors = 100\n",
    "\n",
    "if factors == 100:\n",
    "    pieman_name = '../../data/pieman_ica100.mat'\n",
    "else:\n",
    "    pieman_name = '../../data/pieman_data.mat'\n",
    "    \n",
    "\n",
    "pieman_data = loadmat(pieman_name)  \n",
    "\n",
    "pieman_conds = ['word']\n",
    "data = []\n",
    "conds = []\n",
    "for c in pieman_conds:\n",
    "    if c == 'paragraph':\n",
    "        if factors == 700:\n",
    "            next_data = list(map(lambda i: pieman_data[c][:, i][0], np.where(np.arange(pieman_data[c].shape[1]) != 3)[0]))\n",
    "        else:\n",
    "            next_data = list(map(lambda i: pieman_data[c][:, i][0], np.where(np.arange(pieman_data[c].shape[1]) != 0)[0]))\n",
    "    else:\n",
    "        next_data = list(map(lambda i: pieman_data[c][:, i][0], np.arange(pieman_data[c].shape[1])))\n",
    "    data.extend(next_data)\n",
    "    conds.extend([c]*len(next_data))\n",
    "\n",
    "all_data = np.array(data)\n",
    "conds = np.array(conds)\n",
    "cfun = isfc\n",
    "rfun = 'eigenvector_centrality'\n",
    "width = 10\n",
    "wp = 'gaussian'\n",
    "cond = 'intact'\n",
    "level = 1\n",
    "\n",
    "gaussian = {'name': 'Gaussian', 'weights': tc.gaussian_weights, 'params': {'var': width}}\n",
    "\n",
    "weights_paramter = eval(wp)\n",
    "\n",
    "\n",
    "weights_fun=weights_paramter['weights']\n",
    "weights_params=weights_paramter['params']\n",
    "combine = corrmean_combine  \n",
    "group_chunks = 2\n",
    "\n",
    "\n",
    "## just for word group 2\n",
    "#### RUN FOR 700 FACTORS ON CLUSTER\n",
    "for c in pieman_conds:\n",
    "    g_inds = np.array_split(list(range(np.shape(all_data[conds == c])[0])), group_chunks)\n",
    "    for i in range(2):\n",
    "        data_1 = np.asarray(tc.timecorr([x for x in all_data[conds == c][g_inds[i]]], cfun=isfc, rfun=rfun,\n",
    "                                                     weights_function=weights_fun, weights_params=weights_params))\n",
    "        lev = np.asarray(tc.timecorr([x for x in data_1], cfun=isfc, rfun=None,\n",
    "                                                     weights_function=weights_fun, weights_params=weights_params))\n",
    "        corr = tc.helpers.z2r(np.mean(tc.helpers.r2z(np.stack(lev, axis=2)), axis=2))\n",
    "        np.save(os.path.join(corrsdir, 'lev_2_'+c+'_'+str(i+1)+'.npy'), corr)\n",
    "\n",
    "\n"
   ]
  },
  {
   "cell_type": "code",
   "execution_count": 21,
   "metadata": {},
   "outputs": [
    {
     "data": {
      "text/plain": [
       "(18, 300, 100)"
      ]
     },
     "execution_count": 21,
     "metadata": {},
     "output_type": "execute_result"
    }
   ],
   "source": [
    "data_1.shape"
   ]
  },
  {
   "cell_type": "code",
   "execution_count": 19,
   "metadata": {},
   "outputs": [
    {
     "ename": "IndexError",
     "evalue": "invalid index to scalar variable.",
     "output_type": "error",
     "traceback": [
      "\u001b[0;31m---------------------------------------------------------------------------\u001b[0m",
      "\u001b[0;31mIndexError\u001b[0m                                Traceback (most recent call last)",
      "\u001b[0;32m<ipython-input-19-e38de72a2a4d>\u001b[0m in \u001b[0;36m<module>\u001b[0;34m()\u001b[0m\n\u001b[1;32m     79\u001b[0m \u001b[0;31m#             np.save(os.path.join(corrsdir, 'd_2_lev_3_'+c+'_'+str(i+1)+'.npy'), data_2)\u001b[0m\u001b[0;34m\u001b[0m\u001b[0;34m\u001b[0m\u001b[0m\n\u001b[1;32m     80\u001b[0m         lev = np.asarray(tc.timecorr([x for x in data_2], cfun=isfc, rfun=None,\n\u001b[0;32m---> 81\u001b[0;31m                                                      weights_function=weights_fun, weights_params=weights_params))\n\u001b[0m\u001b[1;32m     82\u001b[0m         \u001b[0mcorr\u001b[0m \u001b[0;34m=\u001b[0m \u001b[0mtc\u001b[0m\u001b[0;34m.\u001b[0m\u001b[0mhelpers\u001b[0m\u001b[0;34m.\u001b[0m\u001b[0mz2r\u001b[0m\u001b[0;34m(\u001b[0m\u001b[0mnp\u001b[0m\u001b[0;34m.\u001b[0m\u001b[0mmean\u001b[0m\u001b[0;34m(\u001b[0m\u001b[0mtc\u001b[0m\u001b[0;34m.\u001b[0m\u001b[0mhelpers\u001b[0m\u001b[0;34m.\u001b[0m\u001b[0mr2z\u001b[0m\u001b[0;34m(\u001b[0m\u001b[0mnp\u001b[0m\u001b[0;34m.\u001b[0m\u001b[0mstack\u001b[0m\u001b[0;34m(\u001b[0m\u001b[0mlev\u001b[0m\u001b[0;34m,\u001b[0m \u001b[0maxis\u001b[0m\u001b[0;34m=\u001b[0m\u001b[0;36m2\u001b[0m\u001b[0;34m)\u001b[0m\u001b[0;34m)\u001b[0m\u001b[0;34m,\u001b[0m \u001b[0maxis\u001b[0m\u001b[0;34m=\u001b[0m\u001b[0;36m2\u001b[0m\u001b[0;34m)\u001b[0m\u001b[0;34m)\u001b[0m\u001b[0;34m\u001b[0m\u001b[0m\n\u001b[1;32m     83\u001b[0m         \u001b[0mnp\u001b[0m\u001b[0;34m.\u001b[0m\u001b[0msave\u001b[0m\u001b[0;34m(\u001b[0m\u001b[0mos\u001b[0m\u001b[0;34m.\u001b[0m\u001b[0mpath\u001b[0m\u001b[0;34m.\u001b[0m\u001b[0mjoin\u001b[0m\u001b[0;34m(\u001b[0m\u001b[0mcorrsdir\u001b[0m\u001b[0;34m,\u001b[0m \u001b[0;34m'lev_3_'\u001b[0m\u001b[0;34m+\u001b[0m\u001b[0mc\u001b[0m\u001b[0;34m+\u001b[0m\u001b[0;34m'_'\u001b[0m\u001b[0;34m+\u001b[0m\u001b[0mstr\u001b[0m\u001b[0;34m(\u001b[0m\u001b[0mi\u001b[0m\u001b[0;34m+\u001b[0m\u001b[0;36m1\u001b[0m\u001b[0;34m)\u001b[0m\u001b[0;34m+\u001b[0m\u001b[0;34m'.npy'\u001b[0m\u001b[0;34m)\u001b[0m\u001b[0;34m,\u001b[0m \u001b[0mcorr\u001b[0m\u001b[0;34m)\u001b[0m\u001b[0;34m\u001b[0m\u001b[0m\n",
      "\u001b[0;32m~/repos/timecorr/timecorr/timecorr.py\u001b[0m in \u001b[0;36mtimecorr\u001b[0;34m(data, weights_function, weights_params, include_timepoints, exclude_timepoints, combine, cfun, rfun)\u001b[0m\n\u001b[1;32m    124\u001b[0m         \u001b[0mreturn_list\u001b[0m \u001b[0;34m=\u001b[0m \u001b[0;32mFalse\u001b[0m\u001b[0;34m\u001b[0m\u001b[0m\n\u001b[1;32m    125\u001b[0m \u001b[0;34m\u001b[0m\u001b[0m\n\u001b[0;32m--> 126\u001b[0;31m     \u001b[0mdata\u001b[0m \u001b[0;34m=\u001b[0m \u001b[0mformat_data\u001b[0m\u001b[0;34m(\u001b[0m\u001b[0mdata\u001b[0m\u001b[0;34m)\u001b[0m\u001b[0;34m\u001b[0m\u001b[0m\n\u001b[0m\u001b[1;32m    127\u001b[0m \u001b[0;34m\u001b[0m\u001b[0m\n\u001b[1;32m    128\u001b[0m     \u001b[0mweights\u001b[0m \u001b[0;34m=\u001b[0m \u001b[0mweights_function\u001b[0m\u001b[0;34m(\u001b[0m\u001b[0mT\u001b[0m\u001b[0;34m,\u001b[0m \u001b[0mweights_params\u001b[0m\u001b[0;34m)\u001b[0m\u001b[0;34m\u001b[0m\u001b[0m\n",
      "\u001b[0;32m~/repos/timecorr/timecorr/helpers.py\u001b[0m in \u001b[0;36mformat_data\u001b[0;34m(data)\u001b[0m\n\u001b[1;32m     88\u001b[0m         \u001b[0;32mreturn\u001b[0m \u001b[0mx\u001b[0m\u001b[0;34m\u001b[0m\u001b[0m\n\u001b[1;32m     89\u001b[0m \u001b[0;34m\u001b[0m\u001b[0m\n\u001b[0;32m---> 90\u001b[0;31m     \u001b[0mx\u001b[0m \u001b[0;34m=\u001b[0m \u001b[0mhyp\u001b[0m\u001b[0;34m.\u001b[0m\u001b[0mtools\u001b[0m\u001b[0;34m.\u001b[0m\u001b[0mformat_data\u001b[0m\u001b[0;34m(\u001b[0m\u001b[0mdata\u001b[0m\u001b[0;34m,\u001b[0m \u001b[0mppca\u001b[0m\u001b[0;34m=\u001b[0m\u001b[0;32mFalse\u001b[0m\u001b[0;34m,\u001b[0m \u001b[0;34m)\u001b[0m\u001b[0;34m\u001b[0m\u001b[0m\n\u001b[0m\u001b[1;32m     91\u001b[0m     \u001b[0;32mreturn\u001b[0m \u001b[0mlist\u001b[0m\u001b[0;34m(\u001b[0m\u001b[0mmap\u001b[0m\u001b[0;34m(\u001b[0m\u001b[0mzero_nans\u001b[0m\u001b[0;34m,\u001b[0m \u001b[0mx\u001b[0m\u001b[0;34m)\u001b[0m\u001b[0;34m)\u001b[0m\u001b[0;34m\u001b[0m\u001b[0m\n\u001b[1;32m     92\u001b[0m \u001b[0;34m\u001b[0m\u001b[0m\n",
      "\u001b[0;32m/usr/local/lib/python3.6/site-packages/hypertools/tools/format_data.py\u001b[0m in \u001b[0;36mformat_data\u001b[0;34m(x, vectorizer, semantic, corpus, ppca, text_align)\u001b[0m\n\u001b[1;32m     84\u001b[0m \u001b[0;34m\u001b[0m\u001b[0m\n\u001b[1;32m     85\u001b[0m     \u001b[0;31m# check data type for each element in list\u001b[0m\u001b[0;34m\u001b[0m\u001b[0;34m\u001b[0m\u001b[0m\n\u001b[0;32m---> 86\u001b[0;31m     \u001b[0mdtypes\u001b[0m \u001b[0;34m=\u001b[0m \u001b[0mlist\u001b[0m\u001b[0;34m(\u001b[0m\u001b[0mmap\u001b[0m\u001b[0;34m(\u001b[0m\u001b[0mget_type\u001b[0m\u001b[0;34m,\u001b[0m \u001b[0mx\u001b[0m\u001b[0;34m)\u001b[0m\u001b[0;34m)\u001b[0m\u001b[0;34m\u001b[0m\u001b[0m\n\u001b[0m\u001b[1;32m     87\u001b[0m \u001b[0;34m\u001b[0m\u001b[0m\n\u001b[1;32m     88\u001b[0m     \u001b[0;31m# handle text data:\u001b[0m\u001b[0;34m\u001b[0m\u001b[0;34m\u001b[0m\u001b[0m\n",
      "\u001b[0;32m/usr/local/lib/python3.6/site-packages/hypertools/_shared/helpers.py\u001b[0m in \u001b[0;36mget_type\u001b[0;34m(data)\u001b[0m\n\u001b[1;32m    207\u001b[0m                             ', List of numbers')\n\u001b[1;32m    208\u001b[0m     \u001b[0;32melif\u001b[0m \u001b[0misinstance\u001b[0m\u001b[0;34m(\u001b[0m\u001b[0mdata\u001b[0m\u001b[0;34m,\u001b[0m \u001b[0mnp\u001b[0m\u001b[0;34m.\u001b[0m\u001b[0mndarray\u001b[0m\u001b[0;34m)\u001b[0m\u001b[0;34m:\u001b[0m\u001b[0;34m\u001b[0m\u001b[0m\n\u001b[0;32m--> 209\u001b[0;31m         \u001b[0;32mif\u001b[0m \u001b[0misinstance\u001b[0m\u001b[0;34m(\u001b[0m\u001b[0mdata\u001b[0m\u001b[0;34m[\u001b[0m\u001b[0;36m0\u001b[0m\u001b[0;34m]\u001b[0m\u001b[0;34m[\u001b[0m\u001b[0;36m0\u001b[0m\u001b[0;34m]\u001b[0m\u001b[0;34m,\u001b[0m \u001b[0;34m(\u001b[0m\u001b[0msix\u001b[0m\u001b[0;34m.\u001b[0m\u001b[0mstring_types\u001b[0m\u001b[0;34m,\u001b[0m \u001b[0msix\u001b[0m\u001b[0;34m.\u001b[0m\u001b[0mtext_type\u001b[0m\u001b[0;34m,\u001b[0m \u001b[0msix\u001b[0m\u001b[0;34m.\u001b[0m\u001b[0mbinary_type\u001b[0m\u001b[0;34m)\u001b[0m\u001b[0;34m)\u001b[0m\u001b[0;34m:\u001b[0m\u001b[0;34m\u001b[0m\u001b[0m\n\u001b[0m\u001b[1;32m    210\u001b[0m             \u001b[0;32mreturn\u001b[0m \u001b[0;34m'arr_str'\u001b[0m\u001b[0;34m\u001b[0m\u001b[0m\n\u001b[1;32m    211\u001b[0m         \u001b[0;32melse\u001b[0m\u001b[0;34m:\u001b[0m\u001b[0;34m\u001b[0m\u001b[0m\n",
      "\u001b[0;31mIndexError\u001b[0m: invalid index to scalar variable."
     ]
    }
   ],
   "source": [
    "import os\n",
    "import glob\n",
    "import numpy as np\n",
    "from scipy.io import loadmat\n",
    "import seaborn as sns\n",
    "import pandas as pd\n",
    "import matplotlib.pyplot as plt\n",
    "import timecorr as tc\n",
    "import math\n",
    "import scipy.spatial.distance as sd\n",
    "from timecorr.helpers import isfc, autofc, mean_combine, corrmean_combine, vec2mat, reduce\n",
    "\n",
    "corrsdir = '/dartfs/rc/lab/D/DBIC/CDL/f002s72/try_corrs'\n",
    "factors = 700\n",
    "if factors == 100:\n",
    "    pieman_name = '../../data/pieman_ica100.mat'\n",
    "else:\n",
    "    pieman_name = '../../data/pieman_data.mat'\n",
    "\n",
    "\n",
    "\n",
    "pieman_data = loadmat(pieman_name)  \n",
    "\n",
    "pieman_conds = ['rest']\n",
    "data = []\n",
    "conds = []\n",
    "for c in pieman_conds:\n",
    "    if c == 'paragraph':\n",
    "        if factors == 700:\n",
    "            next_data = list(map(lambda i: pieman_data[c][:, i][0], np.where(np.arange(pieman_data[c].shape[1]) != 3)[0]))\n",
    "        else:\n",
    "            next_data = list(map(lambda i: pieman_data[c][:, i][0], np.where(np.arange(pieman_data[c].shape[1]) != 0)[0]))\n",
    "    else:\n",
    "        next_data = list(map(lambda i: pieman_data[c][:, i][0], np.arange(pieman_data[c].shape[1])))\n",
    "    data.extend(next_data)\n",
    "    conds.extend([c]*len(next_data))\n",
    "\n",
    "    \n",
    "all_data = np.array(data)\n",
    "conds = np.array(conds)\n",
    "cfun = isfc\n",
    "rfun = 'eigenvector_centrality'\n",
    "width = 10\n",
    "wp = 'gaussian'\n",
    "cond = 'intact'\n",
    "level = 1\n",
    "\n",
    "gaussian = {'name': 'Gaussian', 'weights': tc.gaussian_weights, 'params': {'var': width}}\n",
    "\n",
    "weights_paramter = eval(wp)\n",
    "\n",
    "\n",
    "weights_fun=weights_paramter['weights']\n",
    "weights_params=weights_paramter['params']\n",
    "combine = corrmean_combine  \n",
    "group_chunks = 2\n",
    "\n",
    "\n",
    "#### RUN FOR 700 FACTORS ON CLUSTER\n",
    "for c in pieman_conds:\n",
    "    g_inds = np.array_split(list(range(np.shape(all_data[conds == c])[0])), group_chunks)\n",
    "    for i in range(2):\n",
    "        if os.path.exists(os.path.join(corrsdir, 'd_1_lev_3_'+c+'_'+str(i+1)+'.npy')):\n",
    "            data_1 = np.load(os.path.join(corrsdir, 'd_1_lev_3_'+c+'_'+str(i+1)+'.npy'))\n",
    "        else:\n",
    "            data_1 = np.asarray(tc.timecorr([x for x in all_data[conds == c][g_inds[i]]], cfun=isfc, rfun=None,\n",
    "                                                         weights_function=weights_fun, weights_params=weights_params))\n",
    "            np.save(os.path.join(corrsdir, 'd_1_lev_3_'+c+'_'+str(i+1)+'.npy'), data_1)\n",
    "        if os.path.exists(os.path.join(corrsdir, 'd_1_r_lev_3_'+c+'_'+str(i+1)+'.npy')):\n",
    "            data_1_r = np.load(os.path.join(corrsdir, 'd_1_r_lev_3_'+c+'_'+str(i+1)+'.npy'))\n",
    "        else:\n",
    "            data_1_r = np.asarray(reduce([x for x in data_1], rfun=rfun))\n",
    "            np.save(os.path.join(corrsdir, 'd_1_r_lev_3_'+c+'_'+str(i+1)+'.npy'), data_1_r)\n",
    "        if os.path.exists(os.path.join(corrsdir, 'd_2_lev_3_'+c+'_'+str(i+1)+'.npy')):\n",
    "            data_2 = np.load(os.path.join(corrsdir, 'd_2_lev_3_'+c+'_'+str(i+1)+'.npy'))\n",
    "        else:\n",
    "            data_2 = np.asarray(tc.timecorr([x for x in data_1_r], cfun=isfc, rfun=None,\n",
    "                                                         weights_function=weights_fun, weights_params=weights_params))\n",
    "            np.save(os.path.join(corrsdir, 'd_2_lev_3_'+c+'_'+str(i+1)+'.npy'), data_2)\n",
    "        if os.path.exists(os.path.join(corrsdir, 'd_2_r_lev_3_'+c+'_'+str(i+1)+'.npy')):\n",
    "            data_2_r = np.load(os.path.join(corrsdir, 'd_2_r_lev_3_'+c+'_'+str(i+1)+'.npy'))\n",
    "        else:\n",
    "            data_2_r = np.asarray(reduce([x for x in data_2], rfun=rfun))\n",
    "            np.save(os.path.join(corrsdir, 'd_2_r_lev_3_'+c+'_'+str(i+1)+'.npy'), data_2_r)\n",
    "        lev = np.asarray(tc.timecorr([x for x in data_2_r], cfun=isfc, rfun=None,\n",
    "                                                     weights_function=weights_fun, weights_params=weights_params))\n",
    "        corr = tc.helpers.z2r(np.mean(tc.helpers.r2z(np.stack(lev, axis=2)), axis=2))\n",
    "        np.save(os.path.join(corrsdir, 'lev_3_'+c+'_'+str(i+1)+'.npy'), corr)\n",
    "\n",
    "\n"
   ]
  },
  {
   "cell_type": "code",
   "execution_count": 39,
   "metadata": {},
   "outputs": [
    {
     "ename": "AttributeError",
     "evalue": "'list' object has no attribute 'shape'",
     "output_type": "error",
     "traceback": [
      "\u001b[0;31m---------------------------------------------------------------------------\u001b[0m",
      "\u001b[0;31mAttributeError\u001b[0m                            Traceback (most recent call last)",
      "\u001b[0;32m<ipython-input-39-a54197d033b1>\u001b[0m in \u001b[0;36m<module>\u001b[0;34m()\u001b[0m\n\u001b[0;32m----> 1\u001b[0;31m \u001b[0mdata_1_r\u001b[0m\u001b[0;34m.\u001b[0m\u001b[0mshape\u001b[0m\u001b[0;34m\u001b[0m\u001b[0m\n\u001b[0m",
      "\u001b[0;31mAttributeError\u001b[0m: 'list' object has no attribute 'shape'"
     ]
    }
   ],
   "source": [
    "data_1_r.shape"
   ]
  },
  {
   "cell_type": "code",
   "execution_count": 40,
   "metadata": {},
   "outputs": [],
   "source": [
    "import os\n",
    "import glob\n",
    "import numpy as np\n",
    "from scipy.io import loadmat\n",
    "import seaborn as sns\n",
    "import pandas as pd\n",
    "import matplotlib.pyplot as plt\n",
    "import timecorr as tc\n",
    "import math\n",
    "import scipy.spatial.distance as sd\n",
    "from timecorr.helpers import isfc, autofc, mean_combine, corrmean_combine, vec2mat, reduce\n",
    "corrsdir = '/Users/lucyowen/Desktop/corrs_for_j'\n",
    "#corrsdir = '/dartfs-hpc/rc/home/2/f002s72/Discovery_home/try_corrs'\n",
    "factors = 100\n",
    "if factors == 100:\n",
    "    pieman_name = '../../data/pieman_ica100.mat'\n",
    "else:\n",
    "    pieman_name = '../../data/pieman_data.mat'\n",
    "\n",
    "\n",
    "\n",
    "pieman_data = loadmat(pieman_name)  \n",
    "\n",
    "pieman_conds = ['rest']\n",
    "data = []\n",
    "conds = []\n",
    "for c in pieman_conds:\n",
    "    if c == 'paragraph':\n",
    "        if factors == 700:\n",
    "            next_data = list(map(lambda i: pieman_data[c][:, i][0], np.where(np.arange(pieman_data[c].shape[1]) != 3)[0]))\n",
    "        else:\n",
    "            next_data = list(map(lambda i: pieman_data[c][:, i][0], np.where(np.arange(pieman_data[c].shape[1]) != 0)[0]))\n",
    "    else:\n",
    "        next_data = list(map(lambda i: pieman_data[c][:, i][0], np.arange(pieman_data[c].shape[1])))\n",
    "    data.extend(next_data)\n",
    "    conds.extend([c]*len(next_data))\n",
    "\n",
    "    \n",
    "all_data = np.array(data)\n",
    "conds = np.array(conds)\n",
    "cfun = isfc\n",
    "rfun = 'eigenvector_centrality'\n",
    "width = 10\n",
    "wp = 'gaussian'\n",
    "cond = 'intact'\n",
    "level = 1\n",
    "\n",
    "gaussian = {'name': 'Gaussian', 'weights': tc.gaussian_weights, 'params': {'var': width}}\n",
    "\n",
    "weights_paramter = eval(wp)\n",
    "\n",
    "\n",
    "weights_fun=weights_paramter['weights']\n",
    "weights_params=weights_paramter['params']\n",
    "combine = corrmean_combine  \n",
    "group_chunks = 2\n",
    "\n",
    "c = 'rest'\n",
    "i = 1\n",
    "\n",
    "if os.path.exists(os.path.join(corrsdir, 'd_1_lev_3_'+c+'_'+str(i+1)+'.npy')):\n",
    "    data_1 = np.load(os.path.join(corrsdir, 'd_1_lev_3_'+c+'_'+str(i+1)+'.npy'))\n",
    "else:\n",
    "    data_1 = np.asarray(tc.timecorr([x for x in all_data[conds == c][g_inds[i]]], cfun=isfc, rfun=None,\n",
    "                                                 weights_function=weights_fun, weights_params=weights_params))\n",
    "    np.save(os.path.join(corrsdir, 'd_1_lev_3_'+c+'_'+str(i+1)+'.npy'), data_1)\n",
    "    \n",
    "\n",
    "if os.path.exists(os.path.join(corrsdir, 'd_1_r_lev_3_'+c+'_'+str(i+1)+'.npy')):\n",
    "    data_1_r = np.load(os.path.join(corrsdir, 'd_1_r_lev_3_'+c+'_'+str(i+1)+'.npy'))\n",
    "else:\n",
    "    data_1_r = np.asarray(reduce([x for x in data_1], rfun=rfun))\n",
    "    np.save(os.path.join(corrsdir, 'd_1_lev_3_'+c+'_'+str(i+1)+'.npy'), data_1_r)\n",
    "            \n",
    "        \n",
    "if os.path.exists(os.path.join(corrsdir, 'd_2_lev_3_'+c+'_'+str(i+1)+'.npy')):\n",
    "    data_2 = np.load(os.path.join(corrsdir, 'd_2_lev_3_'+c+'_'+str(i+1)+'.npy'))\n",
    "else:\n",
    "    data_2 = np.asarray(tc.timecorr([x for x in data_1_r], cfun=isfc, rfun=None,\n",
    "                                                 weights_function=weights_fun, weights_params=weights_params))\n",
    "    np.save(os.path.join(corrsdir, 'd_2_lev_3_'+c+'_'+str(i+1)+'.npy'), data_2)\n",
    "    \n",
    "\n",
    "if os.path.exists(os.path.join(corrsdir, 'd_2_r_lev_3_'+c+'_'+str(i+1)+'.npy')):\n",
    "    data_2_r = np.load(os.path.join(corrsdir, 'd_2_r_lev_3_'+c+'_'+str(i+1)+'.npy'))\n",
    "else:\n",
    "    data_2_r = np.asarray(reduce([x for x in data_2], rfun=rfun))\n",
    "    np.save(os.path.join(corrsdir, 'd_2_lev_3_'+c+'_'+str(i+1)+'.npy'), data_2_r)\n",
    "\n",
    "lev = np.asarray(tc.timecorr([x for x in data_2_r], cfun=isfc, rfun=None,\n",
    "                                             weights_function=weights_fun, weights_params=weights_params))\n",
    "\n",
    "corr = tc.helpers.z2r(np.mean(tc.helpers.r2z(np.stack(lev, axis=2)), axis=2))\n",
    "\n",
    "np.save(os.path.join(corrsdir, 'lev_3_'+c+'_'+str(i+1)+'.npy'), corr)\n"
   ]
  },
  {
   "cell_type": "code",
   "execution_count": 41,
   "metadata": {},
   "outputs": [
    {
     "data": {
      "text/plain": [
       "array([[ 0.24064515,  0.23470211,  0.1107802 , ...,  0.46521172,\n",
       "         0.55884385,  0.37192899],\n",
       "       [-0.0340098 , -0.00594736,  0.07045171, ...,  0.37214514,\n",
       "         0.4468934 ,  0.23341018],\n",
       "       [ 0.06192946,  0.09105865,  0.25211309, ...,  0.29723035,\n",
       "         0.29228299,  0.10791072],\n",
       "       ...,\n",
       "       [ 0.34823788,  0.0882306 ,  0.13136054, ...,  0.0843342 ,\n",
       "        -0.15418132, -0.1071372 ],\n",
       "       [ 0.48898461,  0.26760594,  0.31656765, ...,  0.21862599,\n",
       "         0.03337871,  0.00205412],\n",
       "       [ 0.61217215,  0.46424704,  0.50432289, ...,  0.37100603,\n",
       "         0.27533959,  0.21146957]])"
      ]
     },
     "execution_count": 41,
     "metadata": {},
     "output_type": "execute_result"
    }
   ],
   "source": [
    "corr"
   ]
  },
  {
   "cell_type": "code",
   "execution_count": 33,
   "metadata": {},
   "outputs": [
    {
     "name": "stdout",
     "output_type": "stream",
     "text": [
      "0\n",
      "rest\n",
      "1\n",
      "rest\n"
     ]
    }
   ],
   "source": [
    "for c in pieman_conds:\n",
    "    g_inds = np.array_split(list(range(np.shape(all_data[conds == c])[0])), group_chunks)\n",
    "    for i in range(2):\n",
    "        print(i)\n",
    "        print(c)"
   ]
  },
  {
   "cell_type": "code",
   "execution_count": 35,
   "metadata": {},
   "outputs": [
    {
     "data": {
      "text/plain": [
       "1"
      ]
     },
     "execution_count": 35,
     "metadata": {},
     "output_type": "execute_result"
    }
   ],
   "source": [
    "i"
   ]
  },
  {
   "cell_type": "code",
   "execution_count": 6,
   "metadata": {},
   "outputs": [],
   "source": [
    "if os.path.exists(os.path.join(corrsdir, 'd_1_lev_3_'+c+'_'+str(i+1)+'.npy')):\n",
    "    data_1 = np.load(os.path.join(corrsdir, 'd_1_lev_3_'+c+'_'+str(i+1)+'.npy'))\n",
    "else:\n",
    "    data_1 = np.asarray(tc.timecorr([x for x in all_data[conds == c][g_inds[i]]], cfun=isfc, rfun=rfun,\n",
    "                                                 weights_function=weights_fun, weights_params=weights_params))\n",
    "    np.save(os.path.join(corrsdir, 'd_1_lev_3_'+c+'_'+str(i+1)+'.npy'), data_1)"
   ]
  },
  {
   "cell_type": "code",
   "execution_count": 7,
   "metadata": {},
   "outputs": [
    {
     "data": {
      "text/plain": [
       "(18, 400, 100)"
      ]
     },
     "execution_count": 7,
     "metadata": {},
     "output_type": "execute_result"
    }
   ],
   "source": [
    "data_1.shape"
   ]
  },
  {
   "cell_type": "code",
   "execution_count": 8,
   "metadata": {},
   "outputs": [],
   "source": [
    "data_1_try = np.asarray(tc.timecorr([x for x in all_data[conds == c][g_inds[i]]], cfun=isfc, rfun=None,\n",
    "                                                 weights_function=weights_fun, weights_params=weights_params))"
   ]
  },
  {
   "cell_type": "code",
   "execution_count": 25,
   "metadata": {},
   "outputs": [],
   "source": [
    "try_reduce = reduce([x for x in data_1_try], rfun=rfun)"
   ]
  },
  {
   "cell_type": "code",
   "execution_count": 27,
   "metadata": {},
   "outputs": [],
   "source": [
    "try_reduce = np.asarray(try_reduce)"
   ]
  },
  {
   "cell_type": "code",
   "execution_count": 2,
   "metadata": {},
   "outputs": [
    {
     "ename": "KeyboardInterrupt",
     "evalue": "",
     "output_type": "error",
     "traceback": [
      "\u001b[0;31m---------------------------------------------------------------------------\u001b[0m",
      "\u001b[0;31mKeyboardInterrupt\u001b[0m                         Traceback (most recent call last)",
      "\u001b[0;32m<ipython-input-2-7572729dde91>\u001b[0m in \u001b[0;36m<module>\u001b[0;34m()\u001b[0m\n\u001b[1;32m     66\u001b[0m         \u001b[0;32melse\u001b[0m\u001b[0;34m:\u001b[0m\u001b[0;34m\u001b[0m\u001b[0m\n\u001b[1;32m     67\u001b[0m             data_1 = np.asarray(tc.timecorr([x for x in all_data[conds == c][g_inds[i]]], cfun=isfc, rfun=rfun,\n\u001b[0;32m---> 68\u001b[0;31m                                                          weights_function=weights_fun, weights_params=weights_params))\n\u001b[0m\u001b[1;32m     69\u001b[0m             \u001b[0mnp\u001b[0m\u001b[0;34m.\u001b[0m\u001b[0msave\u001b[0m\u001b[0;34m(\u001b[0m\u001b[0mos\u001b[0m\u001b[0;34m.\u001b[0m\u001b[0mpath\u001b[0m\u001b[0;34m.\u001b[0m\u001b[0mjoin\u001b[0m\u001b[0;34m(\u001b[0m\u001b[0mcorrsdir\u001b[0m\u001b[0;34m,\u001b[0m \u001b[0;34m'd_1_lev_3_'\u001b[0m\u001b[0;34m+\u001b[0m\u001b[0mc\u001b[0m\u001b[0;34m+\u001b[0m\u001b[0;34m'_'\u001b[0m\u001b[0;34m+\u001b[0m\u001b[0mstr\u001b[0m\u001b[0;34m(\u001b[0m\u001b[0mi\u001b[0m\u001b[0;34m+\u001b[0m\u001b[0;36m1\u001b[0m\u001b[0;34m)\u001b[0m\u001b[0;34m+\u001b[0m\u001b[0;34m'.npy'\u001b[0m\u001b[0;34m)\u001b[0m\u001b[0;34m,\u001b[0m \u001b[0mdata_1\u001b[0m\u001b[0;34m)\u001b[0m\u001b[0;34m\u001b[0m\u001b[0m\n\u001b[1;32m     70\u001b[0m \u001b[0;34m\u001b[0m\u001b[0m\n",
      "\u001b[0;32m~/repos/timecorr/timecorr/timecorr.py\u001b[0m in \u001b[0;36mtimecorr\u001b[0;34m(data, weights_function, weights_params, include_timepoints, exclude_timepoints, combine, cfun, rfun)\u001b[0m\n\u001b[1;32m    142\u001b[0m \u001b[0;34m\u001b[0m\u001b[0m\n\u001b[1;32m    143\u001b[0m     \u001b[0;32mif\u001b[0m \u001b[0mcfun\u001b[0m\u001b[0;34m:\u001b[0m\u001b[0;34m\u001b[0m\u001b[0m\n\u001b[0;32m--> 144\u001b[0;31m         \u001b[0mcorrs\u001b[0m \u001b[0;34m=\u001b[0m \u001b[0mreduce\u001b[0m\u001b[0;34m(\u001b[0m\u001b[0mcombine\u001b[0m\u001b[0;34m(\u001b[0m\u001b[0mcfun\u001b[0m\u001b[0;34m(\u001b[0m\u001b[0mdata\u001b[0m\u001b[0;34m,\u001b[0m \u001b[0mweights\u001b[0m\u001b[0;34m)\u001b[0m\u001b[0;34m)\u001b[0m\u001b[0;34m,\u001b[0m \u001b[0mrfun\u001b[0m\u001b[0;34m=\u001b[0m\u001b[0mrfun\u001b[0m\u001b[0;34m)\u001b[0m\u001b[0;34m\u001b[0m\u001b[0m\n\u001b[0m\u001b[1;32m    145\u001b[0m \u001b[0;34m\u001b[0m\u001b[0m\n\u001b[1;32m    146\u001b[0m         \u001b[0;32mif\u001b[0m \u001b[0;32mnot\u001b[0m \u001b[0;34m(\u001b[0m\u001b[0mcfun\u001b[0m \u001b[0;32mis\u001b[0m \u001b[0;32mNone\u001b[0m\u001b[0;34m)\u001b[0m\u001b[0;34m:\u001b[0m\u001b[0;34m\u001b[0m\u001b[0m\n",
      "\u001b[0;32m~/repos/timecorr/timecorr/helpers.py\u001b[0m in \u001b[0;36misfc\u001b[0;34m(data, timepoint_weights)\u001b[0m\n\u001b[1;32m    183\u001b[0m         \u001b[0;32mreturn\u001b[0m \u001b[0misfc\u001b[0m\u001b[0;34m(\u001b[0m\u001b[0;34m[\u001b[0m\u001b[0mdata\u001b[0m\u001b[0;34m]\u001b[0m\u001b[0;34m,\u001b[0m \u001b[0mtimepoint_weights\u001b[0m\u001b[0;34m)\u001b[0m\u001b[0;34m[\u001b[0m\u001b[0;36m0\u001b[0m\u001b[0;34m]\u001b[0m\u001b[0;34m\u001b[0m\u001b[0m\n\u001b[1;32m    184\u001b[0m \u001b[0;34m\u001b[0m\u001b[0m\n\u001b[0;32m--> 185\u001b[0;31m     \u001b[0;32mreturn\u001b[0m \u001b[0mwisfc\u001b[0m\u001b[0;34m(\u001b[0m\u001b[0mdata\u001b[0m\u001b[0;34m,\u001b[0m \u001b[0mtimepoint_weights\u001b[0m\u001b[0;34m,\u001b[0m \u001b[0msubject_weights\u001b[0m\u001b[0;34m=\u001b[0m\u001b[0;36m1\u001b[0m \u001b[0;34m-\u001b[0m \u001b[0mnp\u001b[0m\u001b[0;34m.\u001b[0m\u001b[0meye\u001b[0m\u001b[0;34m(\u001b[0m\u001b[0mlen\u001b[0m\u001b[0;34m(\u001b[0m\u001b[0mdata\u001b[0m\u001b[0;34m)\u001b[0m\u001b[0;34m)\u001b[0m\u001b[0;34m)\u001b[0m\u001b[0;34m\u001b[0m\u001b[0m\n\u001b[0m\u001b[1;32m    186\u001b[0m \u001b[0;34m\u001b[0m\u001b[0m\n\u001b[1;32m    187\u001b[0m \u001b[0;32mdef\u001b[0m \u001b[0mautofc\u001b[0m\u001b[0;34m(\u001b[0m\u001b[0mdata\u001b[0m\u001b[0;34m,\u001b[0m \u001b[0mtimepoint_weights\u001b[0m\u001b[0;34m)\u001b[0m\u001b[0;34m:\u001b[0m\u001b[0;34m\u001b[0m\u001b[0m\n",
      "\u001b[0;32m~/repos/timecorr/timecorr/helpers.py\u001b[0m in \u001b[0;36mwisfc\u001b[0;34m(data, timepoint_weights, subject_weights)\u001b[0m\n\u001b[1;32m    168\u001b[0m     \u001b[0;32mfor\u001b[0m \u001b[0ms\u001b[0m\u001b[0;34m,\u001b[0m \u001b[0ma\u001b[0m \u001b[0;32min\u001b[0m \u001b[0menumerate\u001b[0m\u001b[0;34m(\u001b[0m\u001b[0mdata\u001b[0m\u001b[0;34m)\u001b[0m\u001b[0;34m:\u001b[0m\u001b[0;34m\u001b[0m\u001b[0m\n\u001b[1;32m    169\u001b[0m         \u001b[0mb\u001b[0m \u001b[0;34m=\u001b[0m \u001b[0mweighted_mean\u001b[0m\u001b[0;34m(\u001b[0m\u001b[0mnp\u001b[0m\u001b[0;34m.\u001b[0m\u001b[0mstack\u001b[0m\u001b[0;34m(\u001b[0m\u001b[0mdata\u001b[0m\u001b[0;34m,\u001b[0m \u001b[0maxis\u001b[0m\u001b[0;34m=\u001b[0m\u001b[0;36m2\u001b[0m\u001b[0;34m)\u001b[0m\u001b[0;34m,\u001b[0m \u001b[0maxis\u001b[0m\u001b[0;34m=\u001b[0m\u001b[0;36m2\u001b[0m\u001b[0;34m,\u001b[0m \u001b[0mweights\u001b[0m\u001b[0;34m=\u001b[0m\u001b[0msubject_weights\u001b[0m\u001b[0;34m[\u001b[0m\u001b[0ms\u001b[0m\u001b[0;34m,\u001b[0m \u001b[0;34m:\u001b[0m\u001b[0;34m]\u001b[0m\u001b[0;34m)\u001b[0m\u001b[0;34m\u001b[0m\u001b[0m\n\u001b[0;32m--> 170\u001b[0;31m         \u001b[0mwc\u001b[0m \u001b[0;34m=\u001b[0m \u001b[0mwcorr\u001b[0m\u001b[0;34m(\u001b[0m\u001b[0ma\u001b[0m\u001b[0;34m,\u001b[0m \u001b[0mb\u001b[0m\u001b[0;34m,\u001b[0m \u001b[0mtimepoint_weights\u001b[0m\u001b[0;34m)\u001b[0m\u001b[0;34m\u001b[0m\u001b[0m\n\u001b[0m\u001b[1;32m    171\u001b[0m         \u001b[0mwc\u001b[0m\u001b[0;34m[\u001b[0m\u001b[0mnp\u001b[0m\u001b[0;34m.\u001b[0m\u001b[0misnan\u001b[0m\u001b[0;34m(\u001b[0m\u001b[0mwc\u001b[0m\u001b[0;34m)\u001b[0m\u001b[0;34m]\u001b[0m \u001b[0;34m=\u001b[0m \u001b[0;36m0\u001b[0m\u001b[0;34m\u001b[0m\u001b[0m\n\u001b[1;32m    172\u001b[0m         \u001b[0mwc\u001b[0m\u001b[0;34m[\u001b[0m\u001b[0mnp\u001b[0m\u001b[0;34m.\u001b[0m\u001b[0misinf\u001b[0m\u001b[0;34m(\u001b[0m\u001b[0mwc\u001b[0m\u001b[0;34m)\u001b[0m\u001b[0;34m]\u001b[0m \u001b[0;34m=\u001b[0m \u001b[0;36m1\u001b[0m\u001b[0;34m\u001b[0m\u001b[0m\n",
      "\u001b[0;32m~/repos/timecorr/timecorr/helpers.py\u001b[0m in \u001b[0;36mwcorr\u001b[0;34m(a, b, weights)\u001b[0m\n\u001b[1;32m    137\u001b[0m         \u001b[0malpha\u001b[0m \u001b[0;34m=\u001b[0m \u001b[0mnp\u001b[0m\u001b[0;34m.\u001b[0m\u001b[0mdot\u001b[0m\u001b[0;34m(\u001b[0m\u001b[0mdiffs_a\u001b[0m\u001b[0;34m.\u001b[0m\u001b[0mT\u001b[0m\u001b[0;34m,\u001b[0m \u001b[0mdiffs_b\u001b[0m\u001b[0;34m)\u001b[0m\u001b[0;34m\u001b[0m\u001b[0m\n\u001b[1;32m    138\u001b[0m         \u001b[0mbeta\u001b[0m \u001b[0;34m=\u001b[0m \u001b[0mnp\u001b[0m\u001b[0;34m.\u001b[0m\u001b[0msqrt\u001b[0m\u001b[0;34m(\u001b[0m\u001b[0mnp\u001b[0m\u001b[0;34m.\u001b[0m\u001b[0mdot\u001b[0m\u001b[0;34m(\u001b[0m\u001b[0mvara\u001b[0m\u001b[0;34m.\u001b[0m\u001b[0mT\u001b[0m\u001b[0;34m,\u001b[0m \u001b[0mvarb\u001b[0m\u001b[0;34m)\u001b[0m\u001b[0;34m)\u001b[0m\u001b[0;34m\u001b[0m\u001b[0m\n\u001b[0;32m--> 139\u001b[0;31m         \u001b[0mcorrs\u001b[0m\u001b[0;34m[\u001b[0m\u001b[0;34m:\u001b[0m\u001b[0;34m,\u001b[0m \u001b[0;34m:\u001b[0m\u001b[0;34m,\u001b[0m \u001b[0mt\u001b[0m\u001b[0;34m]\u001b[0m \u001b[0;34m=\u001b[0m \u001b[0mnp\u001b[0m\u001b[0;34m.\u001b[0m\u001b[0mdivide\u001b[0m\u001b[0;34m(\u001b[0m\u001b[0malpha\u001b[0m\u001b[0;34m,\u001b[0m \u001b[0mbeta\u001b[0m\u001b[0;34m)\u001b[0m\u001b[0;34m\u001b[0m\u001b[0m\n\u001b[0m\u001b[1;32m    140\u001b[0m \u001b[0;34m\u001b[0m\u001b[0m\n\u001b[1;32m    141\u001b[0m     \u001b[0;32mreturn\u001b[0m \u001b[0mcorrs\u001b[0m\u001b[0;34m\u001b[0m\u001b[0m\n",
      "\u001b[0;31mKeyboardInterrupt\u001b[0m: "
     ]
    }
   ],
   "source": [
    "import os\n",
    "import glob\n",
    "import numpy as np\n",
    "from scipy.io import loadmat\n",
    "import seaborn as sns\n",
    "import pandas as pd\n",
    "import matplotlib.pyplot as plt\n",
    "import timecorr as tc\n",
    "import math\n",
    "import scipy.spatial.distance as sd\n",
    "from timecorr.helpers import isfc, autofc, mean_combine, corrmean_combine, vec2mat, reduce\n",
    "corrsdir = '/Users/lucyowen/Desktop/corrs_for_j'\n",
    "#corrsdir = '/dartfs-hpc/rc/home/2/f002s72/Discovery_home/try_corrs'\n",
    "factors = 100\n",
    "if factors == 100:\n",
    "    pieman_name = '../../data/pieman_ica100.mat'\n",
    "else:\n",
    "    pieman_name = '../../data/pieman_data.mat'\n",
    "\n",
    "\n",
    "\n",
    "pieman_data = loadmat(pieman_name)  \n",
    "\n",
    "pieman_conds = ['rest']\n",
    "data = []\n",
    "conds = []\n",
    "for c in pieman_conds:\n",
    "    if c == 'paragraph':\n",
    "        if factors == 700:\n",
    "            next_data = list(map(lambda i: pieman_data[c][:, i][0], np.where(np.arange(pieman_data[c].shape[1]) != 3)[0]))\n",
    "        else:\n",
    "            next_data = list(map(lambda i: pieman_data[c][:, i][0], np.where(np.arange(pieman_data[c].shape[1]) != 0)[0]))\n",
    "    else:\n",
    "        next_data = list(map(lambda i: pieman_data[c][:, i][0], np.arange(pieman_data[c].shape[1])))\n",
    "    data.extend(next_data)\n",
    "    conds.extend([c]*len(next_data))\n",
    "\n",
    "    \n",
    "all_data = np.array(data)\n",
    "conds = np.array(conds)\n",
    "cfun = isfc\n",
    "rfun = 'eigenvector_centrality'\n",
    "width = 10\n",
    "wp = 'gaussian'\n",
    "cond = 'intact'\n",
    "level = 1\n",
    "\n",
    "gaussian = {'name': 'Gaussian', 'weights': tc.gaussian_weights, 'params': {'var': width}}\n",
    "\n",
    "weights_paramter = eval(wp)\n",
    "\n",
    "\n",
    "weights_fun=weights_paramter['weights']\n",
    "weights_params=weights_paramter['params']\n",
    "combine = corrmean_combine  \n",
    "group_chunks = 2\n",
    "\n",
    "\n",
    "#### RUN FOR 700 FACTORS ON CLUSTER\n",
    "for c in pieman_conds:\n",
    "    g_inds = np.array_split(list(range(np.shape(all_data[conds == c])[0])), group_chunks)\n",
    "    for i in range(2):\n",
    "        \n",
    "        if os.path.exists(os.path.join(corrsdir, 'd_1_lev_3_'+c+'_'+str(i+1)+'.npy')):\n",
    "            data_1 = np.load(os.path.join(corrsdir, 'd_1_lev_3_'+c+'_'+str(i+1)+'.npy'))\n",
    "        else:\n",
    "            data_1 = np.asarray(tc.timecorr([x for x in all_data[conds == c][g_inds[i]]], cfun=isfc, rfun=rfun,\n",
    "                                                         weights_function=weights_fun, weights_params=weights_params))\n",
    "            np.save(os.path.join(corrsdir, 'd_1_lev_3_'+c+'_'+str(i+1)+'.npy'), data_1)\n",
    "            \n",
    "#         if os.path.exists(os.path.join(corrsdir, 'd_1_r_lev_3_'+c+'_'+str(i+1)+'.npy')):\n",
    "#             data_1_r = np.load(os.path.join(corrsdir, 'd_1_r_lev_3_'+c+'_'+str(i+1)+'.npy'))\n",
    "#         else:\n",
    "#             data_1_r = np.asarray(tc.timecorr([x for x in all_data[conds == c][g_inds[i]]], cfun=isfc, rfun=rfun,\n",
    "#                                                          weights_function=weights_fun, weights_params=weights_params))\n",
    "#             np.save(os.path.join(corrsdir, 'd_1_lev_3_'+c+'_'+str(i+1)+'.npy'), data_1)\n",
    "            \n",
    "#         if os.path.exists(os.path.join(corrsdir, 'd_2_lev_3_'+c+'_'+str(i+1)+'.npy')):\n",
    "#             data_2 = np.load(os.path.join(corrsdir, 'd_2_lev_3_'+c+'_'+str(i+1)+'.npy'))\n",
    "#         else:  \n",
    "#             data_2 = np.asarray(tc.timecorr([x for x in data_1], cfun=isfc, rfun=rfun,\n",
    "#                                                      weights_function=weights_fun, weights_params=weights_params))\n",
    "#             np.save(os.path.join(corrsdir, 'd_2_lev_3_'+c+'_'+str(i+1)+'.npy'))\n",
    "        \n",
    "#         lev = np.asarray(tc.timecorr([x for x in data_2], cfun=isfc, rfun=None,\n",
    "#                                                      weights_function=weights_fun, weights_params=weights_params))\n",
    "#         corr = tc.helpers.z2r(np.mean(tc.helpers.r2z(np.stack(lev, axis=2)), axis=2))\n",
    "#         np.save(os.path.join(corrsdir, 'lev_3_'+c+'_'+str(i+1)+'.npy'), corr)\n",
    "    \n",
    "\n"
   ]
  },
  {
   "cell_type": "code",
   "execution_count": null,
   "metadata": {},
   "outputs": [],
   "source": [
    "data_2 = np.load(os.path.join(os.path.join(corrsdir, 'lev_2_'+c+'_'+str(i+1)+'.npy')))"
   ]
  },
  {
   "cell_type": "code",
   "execution_count": 13,
   "metadata": {},
   "outputs": [
    {
     "ename": "ValueError",
     "evalue": "operands could not be broadcast together with shapes (300,5050) (300,300) ",
     "output_type": "error",
     "traceback": [
      "\u001b[0;31m---------------------------------------------------------------------------\u001b[0m",
      "\u001b[0;31mValueError\u001b[0m                                Traceback (most recent call last)",
      "\u001b[0;32m<ipython-input-13-168395743b2f>\u001b[0m in \u001b[0;36m<module>\u001b[0;34m()\u001b[0m\n\u001b[0;32m----> 1\u001b[0;31m \u001b[0mtc\u001b[0m\u001b[0;34m.\u001b[0m\u001b[0mhelpers\u001b[0m\u001b[0;34m.\u001b[0m\u001b[0mmat2vec\u001b[0m\u001b[0;34m(\u001b[0m\u001b[0mdata_2\u001b[0m\u001b[0;34m)\u001b[0m\u001b[0;34m.\u001b[0m\u001b[0mshape\u001b[0m\u001b[0;34m\u001b[0m\u001b[0m\n\u001b[0m",
      "\u001b[0;32m~/repos/timecorr/timecorr/helpers.py\u001b[0m in \u001b[0;36mmat2vec\u001b[0;34m(m)\u001b[0m\n\u001b[1;32m    923\u001b[0m \u001b[0;34m\u001b[0m\u001b[0m\n\u001b[1;32m    924\u001b[0m         \u001b[0;31m#force m to by symmetric\u001b[0m\u001b[0;34m\u001b[0m\u001b[0;34m\u001b[0m\u001b[0m\n\u001b[0;32m--> 925\u001b[0;31m         \u001b[0mm\u001b[0m \u001b[0;34m=\u001b[0m \u001b[0mnp\u001b[0m\u001b[0;34m.\u001b[0m\u001b[0mtriu\u001b[0m\u001b[0;34m(\u001b[0m\u001b[0mrmdiag\u001b[0m\u001b[0;34m(\u001b[0m\u001b[0mm\u001b[0m\u001b[0;34m)\u001b[0m\u001b[0;34m)\u001b[0m\u001b[0;34m\u001b[0m\u001b[0m\n\u001b[0m\u001b[1;32m    926\u001b[0m         \u001b[0mm\u001b[0m\u001b[0;34m[\u001b[0m\u001b[0mnp\u001b[0m\u001b[0;34m.\u001b[0m\u001b[0misnan\u001b[0m\u001b[0;34m(\u001b[0m\u001b[0mm\u001b[0m\u001b[0;34m)\u001b[0m\u001b[0;34m]\u001b[0m \u001b[0;34m=\u001b[0m \u001b[0;36m0\u001b[0m\u001b[0;34m\u001b[0m\u001b[0m\n\u001b[1;32m    927\u001b[0m         \u001b[0mm\u001b[0m \u001b[0;34m+=\u001b[0m \u001b[0mm\u001b[0m\u001b[0;34m.\u001b[0m\u001b[0mT\u001b[0m\u001b[0;34m\u001b[0m\u001b[0m\n",
      "\u001b[0;32m~/repos/timecorr/timecorr/helpers.py\u001b[0m in \u001b[0;36mrmdiag\u001b[0;34m(m)\u001b[0m\n\u001b[1;32m    854\u001b[0m \u001b[0;34m\u001b[0m\u001b[0m\n\u001b[1;32m    855\u001b[0m \u001b[0;32mdef\u001b[0m \u001b[0mrmdiag\u001b[0m\u001b[0;34m(\u001b[0m\u001b[0mm\u001b[0m\u001b[0;34m)\u001b[0m\u001b[0;34m:\u001b[0m\u001b[0;34m\u001b[0m\u001b[0m\n\u001b[0;32m--> 856\u001b[0;31m     \u001b[0;32mreturn\u001b[0m \u001b[0mm\u001b[0m \u001b[0;34m-\u001b[0m \u001b[0mnp\u001b[0m\u001b[0;34m.\u001b[0m\u001b[0mdiag\u001b[0m\u001b[0;34m(\u001b[0m\u001b[0mnp\u001b[0m\u001b[0;34m.\u001b[0m\u001b[0mdiag\u001b[0m\u001b[0;34m(\u001b[0m\u001b[0mm\u001b[0m\u001b[0;34m)\u001b[0m\u001b[0;34m)\u001b[0m\u001b[0;34m\u001b[0m\u001b[0m\n\u001b[0m\u001b[1;32m    857\u001b[0m \u001b[0;34m\u001b[0m\u001b[0m\n\u001b[1;32m    858\u001b[0m \u001b[0;32mdef\u001b[0m \u001b[0mr2z\u001b[0m\u001b[0;34m(\u001b[0m\u001b[0mr\u001b[0m\u001b[0;34m)\u001b[0m\u001b[0;34m:\u001b[0m\u001b[0;34m\u001b[0m\u001b[0m\n",
      "\u001b[0;31mValueError\u001b[0m: operands could not be broadcast together with shapes (300,5050) (300,300) "
     ]
    }
   ],
   "source": [
    "tc.helpers.mat2vec(data_2).shape"
   ]
  },
  {
   "cell_type": "code",
   "execution_count": 14,
   "metadata": {},
   "outputs": [],
   "source": [
    "data_2 = reduce(data_2, rfun=rfun)"
   ]
  },
  {
   "cell_type": "code",
   "execution_count": 16,
   "metadata": {},
   "outputs": [
    {
     "data": {
      "text/plain": [
       "(300, 100)"
      ]
     },
     "execution_count": 16,
     "metadata": {},
     "output_type": "execute_result"
    }
   ],
   "source": [
    "data_2.shape"
   ]
  },
  {
   "cell_type": "code",
   "execution_count": 1,
   "metadata": {},
   "outputs": [],
   "source": [
    "\n",
    "import os\n",
    "import glob\n",
    "import numpy as np\n",
    "from scipy.io import loadmat\n",
    "import seaborn as sns\n",
    "import pandas as pd\n",
    "import matplotlib.pyplot as plt\n",
    "import timecorr as tc\n",
    "import math\n",
    "import scipy.spatial.distance as sd\n",
    "from timecorr.helpers import isfc, autofc, mean_combine, corrmean_combine, vec2mat, reduce\n",
    "%matplotlib inline\n",
    "chunk_size=6"
   ]
  },
  {
   "cell_type": "code",
   "execution_count": 2,
   "metadata": {},
   "outputs": [],
   "source": [
    "\n",
    "def _plot_borderless_clustered(x, factor_bounds=None, factor_colors=None, savefile=None, vmin=-1, vmax=1, cbar=False, width=1000, dpi=100, cmap='Spectral_r'):\n",
    "    _close_all()\n",
    "    width *= (1000.0 / 775.0)  # account for border\n",
    "    height = (775.0 / 755.0) * float(width) * float(x.shape[0]) / float(x.shape[1])  # correct height/width distortion\n",
    "\n",
    "    fig = plt.figure(figsize=(width / float(dpi), height / float(dpi)), dpi=dpi)\n",
    "\n",
    "    if len(x.shape) == 2:\n",
    "        im = plt.pcolormesh(x, vmin=float(vmin), vmax=float(vmax), cmap=cmap)\n",
    "    else:\n",
    "        plt.imshow(x)\n",
    "    ax = plt.gca()\n",
    "    \n",
    "    ax.set_xticks([])\n",
    "    ax.set_yticks([])\n",
    "    ax.set_frame_on(False)\n",
    "\n",
    "    for _, spine in ax.spines.items():\n",
    "        spine.set_visible(True)\n",
    "\n",
    "    if factor_bounds:\n",
    "\n",
    "        ax.hlines(factor_bounds, *ax.get_xlim(), linewidth=2, colors='w')\n",
    "        ax.vlines(factor_bounds, *ax.get_ylim(), linewidth=2, colors='w')\n",
    "\n",
    "    if factor_colors:\n",
    "        for i, f in enumerate(factor_bounds[:-1]):\n",
    "            rect = patches.Rectangle((f,f), factor_bounds[i+1]-f-1, factor_bounds[i+1]-f-1, linewidth=6, edgecolor=factor_colors[i],facecolor='none', zorder=2)\n",
    "            ax.add_patch(rect)\n",
    "\n",
    "\n",
    "    fig.set_frameon(False)\n",
    "    if cbar:\n",
    "        cbar = fig.colorbar(im, ax=ax)\n",
    "        cbar.ax.tick_params(labelsize=30)\n",
    "    \n",
    "    if not savefile == None:\n",
    "        fig.savefig(savefile, figsize=(width / float(dpi), height / float(dpi)), bbox_inches='tight', pad_inches=0,\n",
    "                    dpi=dpi)\n",
    "    return fig\n"
   ]
  },
  {
   "cell_type": "code",
   "execution_count": 3,
   "metadata": {},
   "outputs": [
    {
     "data": {
      "text/plain": [
       "'/Users/lucyowen/repos/timecorr-paper/code/notebooks'"
      ]
     },
     "execution_count": 3,
     "metadata": {},
     "output_type": "execute_result"
    }
   ],
   "source": [
    "pwd"
   ]
  },
  {
   "cell_type": "code",
   "execution_count": 3,
   "metadata": {},
   "outputs": [],
   "source": [
    "def _close_all():\n",
    "    figs = plt.get_fignums()\n",
    "    for f in figs:\n",
    "        plt.close(f)"
   ]
  },
  {
   "cell_type": "code",
   "execution_count": 4,
   "metadata": {},
   "outputs": [],
   "source": [
    "\n",
    "def timepoints_corr(data, order=0):\n",
    "    if not order == 0:\n",
    "        for o in range(order):\n",
    "            data = np.asarray(tc.timecorr([x for x in data], cfun=autofc, rfun=rfun, combine=corrmean_combine,\n",
    "                                                 weights_function=weights_fun, weights_params=weights_params))\n",
    "    \n",
    "    return data"
   ]
  },
  {
   "cell_type": "code",
   "execution_count": 5,
   "metadata": {},
   "outputs": [],
   "source": [
    "figdir = '../figs'\n",
    "if not os.path.exists(figdir):\n",
    "    os.mkdir(figdir)"
   ]
  },
  {
   "cell_type": "code",
   "execution_count": 18,
   "metadata": {},
   "outputs": [],
   "source": [
    "#corrsdir = '/Users/lucyowen/Desktop/corrs_for_j'\n",
    "\n",
    "corrsdir = '/dartfs-hpc/rc/home/2/f002s72/Discovery_home/try_corrs'"
   ]
  },
  {
   "cell_type": "code",
   "execution_count": 85,
   "metadata": {},
   "outputs": [],
   "source": [
    "centers_name = '../../data/pieman_posterior_K700.mat'"
   ]
  },
  {
   "cell_type": "code",
   "execution_count": 86,
   "metadata": {},
   "outputs": [],
   "source": [
    "centers_data = loadmat(centers_name)"
   ]
  },
  {
   "cell_type": "code",
   "execution_count": 87,
   "metadata": {},
   "outputs": [],
   "source": [
    "centers = posterior['posterior']['centers'][0][0][0][0][0]\n",
    "widths = np.array(list(posterior['posterior']['widths'][0][0][0][0][0][:, 0].T))"
   ]
  },
  {
   "cell_type": "code",
   "execution_count": null,
   "metadata": {},
   "outputs": [],
   "source": [
    "nl.plotting.plot_connectome(np.eye(centers.shape[0]), centers, node_color='k', node_size=(widths ** 2) / 250)"
   ]
  },
  {
   "cell_type": "code",
   "execution_count": 89,
   "metadata": {},
   "outputs": [
    {
     "data": {
      "text/plain": [
       "(700, 6)"
      ]
     },
     "execution_count": 89,
     "metadata": {},
     "output_type": "execute_result"
    }
   ],
   "source": [
    "widths.shape"
   ]
  },
  {
   "cell_type": "code",
   "execution_count": 10,
   "metadata": {},
   "outputs": [],
   "source": [
    "np.save(os.path.join(corrsdir, 'centers.npy'), centers)\n",
    "np.save(os.path.join(corrsdir, 'widths.npy'), widths)"
   ]
  },
  {
   "cell_type": "code",
   "execution_count": 91,
   "metadata": {},
   "outputs": [],
   "source": [
    "factors = 700"
   ]
  },
  {
   "cell_type": "code",
   "execution_count": 92,
   "metadata": {},
   "outputs": [],
   "source": [
    "if factors == 100:\n",
    "    pieman_name = '../../data/pieman_ica100.mat'\n",
    "else:\n",
    "    pieman_name = '../../data/pieman_data.mat'\n"
   ]
  },
  {
   "cell_type": "code",
   "execution_count": 93,
   "metadata": {},
   "outputs": [],
   "source": [
    "pieman_data = loadmat(pieman_name)"
   ]
  },
  {
   "cell_type": "code",
   "execution_count": 94,
   "metadata": {},
   "outputs": [],
   "source": [
    "#pieman_conds = ['intact', 'paragraph', 'word', 'rest']\n",
    "pieman_conds = ['word']"
   ]
  },
  {
   "cell_type": "code",
   "execution_count": 95,
   "metadata": {},
   "outputs": [],
   "source": [
    "debug = False"
   ]
  },
  {
   "cell_type": "code",
   "execution_count": 96,
   "metadata": {},
   "outputs": [],
   "source": [
    "if debug:\n",
    "    data = []\n",
    "    conds = []\n",
    "    for c in pieman_conds:\n",
    "        next_data = list(map(lambda i: pieman_data[c][:, i][0][:2000,:100], np.arange(4)))\n",
    "        data.extend(next_data)\n",
    "        conds.extend([c]*len(next_data))\n",
    "    del pieman_data\n",
    "\n",
    "else:\n",
    "\n",
    "data = []\n",
    "conds = []\n",
    "for c in pieman_conds:\n",
    "    if c == 'paragraph':\n",
    "        if factors == 700:\n",
    "            next_data = list(map(lambda i: pieman_data[c][:, i][0], np.where(np.arange(pieman_data[c].shape[1]) != 3)[0]))\n",
    "        else:\n",
    "            next_data = list(map(lambda i: pieman_data[c][:, i][0], np.where(np.arange(pieman_data[c].shape[1]) != 0)[0]))\n",
    "    else:\n",
    "        next_data = list(map(lambda i: pieman_data[c][:, i][0], np.arange(pieman_data[c].shape[1])))\n",
    "    data.extend(next_data)\n",
    "    conds.extend([c]*len(next_data))\n",
    "    del pieman_data"
   ]
  },
  {
   "cell_type": "code",
   "execution_count": 97,
   "metadata": {},
   "outputs": [],
   "source": [
    "all_data = np.array(data)\n",
    "conds = np.array(conds)\n"
   ]
  },
  {
   "cell_type": "code",
   "execution_count": 98,
   "metadata": {},
   "outputs": [],
   "source": [
    "cfun = isfc\n",
    "rfun = 'eigenvector_centrality'\n",
    "width = 10\n",
    "wp = 'gaussian'\n",
    "cond = 'intact'\n",
    "level = 1\n",
    "\n",
    "gaussian = {'name': 'Gaussian', 'weights': tc.gaussian_weights, 'params': {'var': width}}\n",
    "\n",
    "weights_paramter = eval(wp)\n",
    "\n",
    "\n",
    "weights_fun=weights_paramter['weights']\n",
    "weights_params=weights_paramter['params']\n",
    "combine = corrmean_combine"
   ]
  },
  {
   "cell_type": "markdown",
   "metadata": {},
   "source": [
    "## for level 1"
   ]
  },
  {
   "cell_type": "code",
   "execution_count": 99,
   "metadata": {},
   "outputs": [],
   "source": [
    "group_chunks = 2"
   ]
  },
  {
   "cell_type": "code",
   "execution_count": 12,
   "metadata": {},
   "outputs": [],
   "source": [
    "# #### RUN FOR 700 FACTORS ON CLUSTER\n",
    "# for c in pieman_conds:\n",
    "#     g_inds = np.array_split(list(range(np.shape(all_data[conds == c])[0])), group_chunks)\n",
    "#     for i in range(2):\n",
    "#         data = np.asarray(tc.timecorr([x for x in all_data[conds == c][g_inds[i]]], cfun=isfc, rfun=None,\n",
    "#                                                  weights_function=weights_fun, weights_params=weights_params))\n",
    "#         corrs = tc.helpers.z2r(np.mean(tc.helpers.r2z(np.stack(data, axis=2)), axis=2))\n",
    "#         np.save(os.path.join(corrsdir, 'lev_1_'+c+'_'+str(i+1)+'.npy'), corrs)\n",
    "    "
   ]
  },
  {
   "cell_type": "markdown",
   "metadata": {},
   "source": [
    "## for level 2"
   ]
  },
  {
   "cell_type": "code",
   "execution_count": 100,
   "metadata": {},
   "outputs": [],
   "source": [
    "#### RUN FOR 700 FACTORS ON CLUSTER\n",
    "for c in pieman_conds:\n",
    "    g_inds = np.array_split(list(range(np.shape(all_data[conds == c])[0])), group_chunks)\n",
    "    for i in range(2):\n",
    "        data_1 = np.asarray(tc.timecorr([x for x in all_data[conds == c][g_inds[i]]], cfun=isfc, rfun=rfun,\n",
    "                                                     weights_function=weights_fun, weights_params=weights_params))\n",
    "        lev = np.asarray(tc.timecorr([x for x in data_1], cfun=isfc, rfun=None,\n",
    "                                                     weights_function=weights_fun, weights_params=weights_params))\n",
    "        corr = tc.helpers.z2r(np.mean(tc.helpers.r2z(np.stack(lev, axis=2)), axis=2))\n",
    "        np.save(os.path.join(corrsdir, 'lev_2_'+c+'_'+str(i+1)+'.npy'), corr)\n",
    "    "
   ]
  },
  {
   "cell_type": "code",
   "execution_count": null,
   "metadata": {},
   "outputs": [],
   "source": [
    "## just for word group 2\n",
    "#### RUN FOR 700 FACTORS ON CLUSTER\n",
    "for c in pieman_conds:\n",
    "    g_inds = np.array_split(list(range(np.shape(all_data[conds == c])[0])), group_chunks)\n",
    "    i = 1 \n",
    "    data_1 = np.asarray(tc.timecorr([x for x in all_data[conds == c][g_inds[i]]], cfun=isfc, rfun=rfun,\n",
    "                                                 weights_function=weights_fun, weights_params=weights_params))\n",
    "    lev = np.asarray(tc.timecorr([x for x in data_1], cfun=isfc, rfun=None,\n",
    "                                                 weights_function=weights_fun, weights_params=weights_params))\n",
    "    corr = tc.helpers.z2r(np.mean(tc.helpers.r2z(np.stack(lev, axis=2)), axis=2))\n",
    "    np.save(os.path.join(corrsdir, 'lev_2_'+c+'_'+str(i+1)+'.npy'), corr)\n",
    "    "
   ]
  },
  {
   "cell_type": "markdown",
   "metadata": {},
   "source": [
    "## for level 3"
   ]
  },
  {
   "cell_type": "code",
   "execution_count": 13,
   "metadata": {},
   "outputs": [],
   "source": [
    "#### RUN FOR 700 FACTORS ON CLUSTER\n",
    "for c in pieman_conds:\n",
    "    g_inds = np.array_split(list(range(np.shape(all_data[conds == c])[0])), group_chunks)\n",
    "    for i in range(2):\n",
    "        data_1 = np.asarray(tc.timecorr([x for x in all_data[conds == c][g_inds[i]]], cfun=isfc, rfun=rfun,\n",
    "                                                     weights_function=weights_fun, weights_params=weights_params))\n",
    "        data_2 = np.asarray(tc.timecorr([x for x in data_1], cfun=isfc, rfun=rfun,\n",
    "                                                     weights_function=weights_fun, weights_params=weights_params))\n",
    "        lev = np.asarray(tc.timecorr([x for x in data_2], cfun=isfc, rfun=None,\n",
    "                                                     weights_function=weights_fun, weights_params=weights_params))\n",
    "        corr = tc.helpers.z2r(np.mean(tc.helpers.r2z(np.stack(lev, axis=2)), axis=2))\n",
    "        np.save(os.path.join(corrsdir, 'lev_3_'+c+'_'+str(i+1)+'.npy'), corr)\n",
    "    "
   ]
  },
  {
   "cell_type": "code",
   "execution_count": 42,
   "metadata": {},
   "outputs": [],
   "source": [
    "corr_breakdown = corr\n",
    "\n",
    "data_1 = np.asarray(tc.timecorr([x for x in all_data[conds == c][g_inds[i]]], cfun=isfc, rfun=rfun,\n",
    "                                             weights_function=weights_fun, weights_params=weights_params))\n",
    "data_2 = np.asarray(tc.timecorr([x for x in data_1], cfun=isfc, rfun=rfun,\n",
    "                                             weights_function=weights_fun, weights_params=weights_params))\n",
    "lev = np.asarray(tc.timecorr([x for x in data_2], cfun=isfc, rfun=None,\n",
    "                                             weights_function=weights_fun, weights_params=weights_params))\n",
    "corr = tc.helpers.z2r(np.mean(tc.helpers.r2z(np.stack(lev, axis=2)), axis=2))\n",
    "np.save(os.path.join(corrsdir, 'lev_3_'+c+'_'+str(i+1)+'.npy'), corr)\n"
   ]
  },
  {
   "cell_type": "markdown",
   "metadata": {},
   "source": [
    "## For sliced correlations:"
   ]
  },
  {
   "cell_type": "code",
   "execution_count": 81,
   "metadata": {
    "scrolled": false
   },
   "outputs": [],
   "source": [
    "percentages = np.arange(.1, 1.1, .1)\n",
    "for c in pieman_conds:\n",
    "    for g in glob.glob(os.path.join(corrsdir, 'lev_2_'+c+'*.npy')):\n",
    "        corrs = np.load(g)\n",
    "        mat_corrs = tc.helpers.vec2mat(corrs)\n",
    "        \n",
    "        sliced_corrs = np.array([])\n",
    "        \n",
    "        for p in percentages:\n",
    "            s = int(p*np.shape(mat_corrs)[-1])\n",
    "            slice_corr = mat_corrs[:, :, s-1]\n",
    "            if sliced_corrs.shape[0] == 0:\n",
    "                sliced_corrs = slice_corr\n",
    "            else:\n",
    "                sliced_corrs = np.dstack((sliced_corrs, slice_corr))\n",
    "            np.save(os.path.splitext(g)[0] + '_tenths.npy', sliced_corrs)\n"
   ]
  },
  {
   "cell_type": "code",
   "execution_count": 83,
   "metadata": {},
   "outputs": [
    {
     "data": {
      "text/plain": [
       "(700, 700, 10)"
      ]
     },
     "execution_count": 83,
     "metadata": {},
     "output_type": "execute_result"
    }
   ],
   "source": [
    "sliced_corrs.shape\n"
   ]
  },
  {
   "cell_type": "markdown",
   "metadata": {},
   "source": [
    "## For averaged correlations:"
   ]
  },
  {
   "cell_type": "code",
   "execution_count": null,
   "metadata": {},
   "outputs": [],
   "source": [
    "percentages = np.arange(.1, 1.1, .1)\n",
    "for c in pieman_conds:\n",
    "    for g in glob.glob(os.path.join(corrsdir, 'lev_2_'+c+'*.npy')):\n",
    "        corrs = np.load(g)\n",
    "        mat_corrs = tc.helpers.vec2mat(corrs)\n",
    "        \n",
    "        sliced_corrs = np.array([])\n",
    "        \n",
    "        for p in percentages:\n",
    "            s = int(p*np.shape(mat_corrs)[-1])\n",
    "            slice_corr = mat_corrs[:, :, s-1]\n",
    "            if sliced_corrs.shape[0] == 0:\n",
    "                sliced_corrs = slice_corr\n",
    "            else:\n",
    "                sliced_corrs = np.dstack((sliced_corrs, slice_corr))\n",
    "            np.save(os.path.splitext(g)[0] + '_tenths.npy', sliced_corrs)"
   ]
  }
 ],
 "metadata": {
  "kernelspec": {
   "display_name": "Python 3",
   "language": "python",
   "name": "python3"
  },
  "language_info": {
   "codemirror_mode": {
    "name": "ipython",
    "version": 3
   },
   "file_extension": ".py",
   "mimetype": "text/x-python",
   "name": "python",
   "nbconvert_exporter": "python",
   "pygments_lexer": "ipython3",
   "version": "3.6.5"
  }
 },
 "nbformat": 4,
 "nbformat_minor": 2
}
