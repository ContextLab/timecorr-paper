{
 "cells": [
  {
   "cell_type": "code",
   "execution_count": 1,
   "metadata": {},
   "outputs": [],
   "source": [
    "import warnings\n",
    "\n",
    "import numpy as np\n",
    "import timecorr as tc\n",
    "import seaborn as sns\n",
    "import os\n",
    "from matplotlib import pyplot as plt\n",
    "from matplotlib import gridspec\n",
    "from scipy.stats import wishart\n",
    "import hypertools as hyp\n",
    "from scipy.spatial.distance import cdist\n",
    "\n",
    "%matplotlib inline\n",
    "\n",
    "LEGEND_SIZE = 12\n",
    "SMALL_SIZE = 14\n",
    "MEDIUM_SIZE = 16\n",
    "BIGGER_SIZE = 18\n",
    "\n",
    "plt.rc('font', size=SMALL_SIZE)          # controls default text sizes\n",
    "plt.rc('axes', titlesize=SMALL_SIZE)     # fontsize of the axes title\n",
    "plt.rc('axes', labelsize=MEDIUM_SIZE)    # fontsize of the x and y labels\n",
    "plt.rc('xtick', labelsize=SMALL_SIZE)    # fontsize of the tick labels\n",
    "plt.rc('ytick', labelsize=SMALL_SIZE)    # fontsize of the tick labels\n",
    "plt.rc('legend', fontsize=LEGEND_SIZE)    # legend fontsize\n",
    "plt.rc('figure', titlesize=BIGGER_SIZE)  # fontsize of the figure title"
   ]
  },
  {
   "cell_type": "code",
   "execution_count": 2,
   "metadata": {},
   "outputs": [
    {
     "data": {
      "text/plain": [
       "'/usr/local/opt/python/bin/python3.6'"
      ]
     },
     "execution_count": 2,
     "metadata": {},
     "output_type": "execute_result"
    }
   ],
   "source": [
    "import sys\n",
    "sys.executable"
   ]
  },
  {
   "cell_type": "code",
   "execution_count": 3,
   "metadata": {},
   "outputs": [],
   "source": [
    "figdir = '../figs'\n",
    "if not os.path.isdir(figdir):\n",
    "    os.mkdir(figdir)"
   ]
  },
  {
   "cell_type": "code",
   "execution_count": 4,
   "metadata": {},
   "outputs": [],
   "source": [
    "def random_corrmat(K):\n",
    "    x = np.random.randn(K, K)\n",
    "    x = x * x.T\n",
    "    x /= np.max(np.abs(x))\n",
    "    np.fill_diagonal(x, 1.)\n",
    "    return x"
   ]
  },
  {
   "cell_type": "code",
   "execution_count": null,
   "metadata": {
    "pixiedust": {
     "displayParams": {}
    }
   },
   "outputs": [],
   "source": [
    "def ramping_dataset(K, T):\n",
    "    warnings.simplefilter('ignore')\n",
    "    def dist(a, b):\n",
    "        return cdist(np.atleast_2d(a), np.atleast_2d(b), 'correlation')\n",
    "    \n",
    "    a = tc.mat2vec(random_corrmat(K))\n",
    "    b = tc.mat2vec(random_corrmat(K))\n",
    "    max_dist = dist(a, b)\n",
    "    max_iter = 100\n",
    "    for i in np.arange(max_iter):\n",
    "        next_b = tc.mat2vec(random_corrmat(K))\n",
    "        next_dist = dist(a, next_b)\n",
    "        if next_dist > max_dist:\n",
    "            b = next_b\n",
    "            max_dist = next_dist\n",
    "    \n",
    "    mu = np.linspace(1, 0, T)\n",
    "    \n",
    "    corrs = np.zeros([T, int((K**2 - K)/2 + K)])\n",
    "    Y = np.zeros([T, K])\n",
    "    \n",
    "    for t in np.arange(T):\n",
    "        corrs[t, :] = mu[t]*a + (1 - mu[t])*b\n",
    "        Y[t, :] = np.random.multivariate_normal(mean=np.zeros([K]), cov=tc.vec2mat(corrs[t, :]))\n",
    "    \n",
    "    return Y, corrs"
   ]
  },
  {
   "cell_type": "code",
   "execution_count": null,
   "metadata": {},
   "outputs": [],
   "source": [
    "def random_dataset(K, T):\n",
    "    warnings.simplefilter('ignore')\n",
    "        \n",
    "    corrs = np.zeros([T, int((K**2 - K)/2 + K)])\n",
    "    Y = np.zeros([T, K])\n",
    "    \n",
    "    for t in np.arange(T):\n",
    "        corrs[t, :] = tc.mat2vec(random_corrmat(K))\n",
    "        Y[t, :] = np.random.multivariate_normal(mean=np.zeros([K]), cov=tc.vec2mat(corrs[t, :]))\n",
    "    \n",
    "    return Y, corrs"
   ]
  },
  {
   "cell_type": "code",
   "execution_count": null,
   "metadata": {},
   "outputs": [],
   "source": [
    "def constant_dataset(K, T):\n",
    "    warnings.simplefilter('ignore')\n",
    "    \n",
    "    C = random_corrmat(K)\n",
    "    corrs = np.tile(tc.mat2vec(C), [T, 1])\n",
    "    \n",
    "    Y = np.random.multivariate_normal(mean=np.zeros([K]), cov=C, size=T)\n",
    "    \n",
    "    return Y, corrs"
   ]
  },
  {
   "cell_type": "code",
   "execution_count": null,
   "metadata": {},
   "outputs": [],
   "source": [
    "B = 5 #number of blocks\n",
    "def block_dataset(K, T):\n",
    "    warnings.simplefilter('ignore')\n",
    "    block_len = np.ceil(T / B)\n",
    "    \n",
    "    corrs = np.zeros([B, int((K**2 - K)/2 + K)])\n",
    "    Y = np.zeros([T, K])\n",
    "    \n",
    "    for b in np.arange(B):\n",
    "        corrs[b, :] = tc.mat2vec(random_corrmat(K))\n",
    "    corrs = np.repeat(corrs, block_len, axis=0)\n",
    "    corrs = corrs[:T, :]\n",
    "    \n",
    "    for t in np.arange(T):\n",
    "        Y[t, :] = np.random.multivariate_normal(mean=np.zeros([K]), cov=tc.vec2mat(corrs[t, :]))\n",
    "    \n",
    "    return Y, corrs"
   ]
  },
  {
   "cell_type": "code",
   "execution_count": null,
   "metadata": {},
   "outputs": [],
   "source": [
    "def identity_compare(obs_corrs=None):\n",
    "    if obs_corrs is None:\n",
    "        return 1\n",
    "    \n",
    "    return [obs_corrs]\n",
    "\n",
    "def first_compare(obs_corrs=None):\n",
    "    if obs_corrs is None:\n",
    "        return 1\n",
    "    \n",
    "    T = obs_corrs.shape[0]\n",
    "    return [np.tile(obs_corrs[0, :], [T, 1])]\n",
    "\n",
    "def last_compare(obs_corrs=None):\n",
    "    if obs_corrs is None:\n",
    "        return 1\n",
    "    \n",
    "    T = obs_corrs.shape[0]\n",
    "    return [np.tile(obs_corrs[-1, :], [T, 1])]\n",
    "\n",
    "def ramping_compare(obs_corrs=None):\n",
    "    if obs_corrs is None:\n",
    "        return 2\n",
    "    \n",
    "    T = obs_corrs.shape[0]\n",
    "    return [np.tile(obs_corrs[0, :], [T, 1]), np.tile(obs_corrs[-1, :], [T, 1])]\n",
    "\n",
    "def block_compare(obs_corrs=None):\n",
    "    if obs_corrs is None:\n",
    "        return B\n",
    "    \n",
    "    T = obs_corrs.shape[0]\n",
    "    block_len = np.ceil(T / B)\n",
    "    \n",
    "    bs = np.repeat(np.atleast_2d(np.arange(B)).T, block_len, axis=0)\n",
    "    bs = bs[:T, :]\n",
    "    \n",
    "    obs_parsed = []\n",
    "    for b in np.arange(B):\n",
    "        i = np.where(bs == b)[0][0]\n",
    "        obs_parsed.append(np.tile(obs_corrs[i, :], [T, 1]))\n",
    "    return obs_parsed\n"
   ]
  },
  {
   "cell_type": "code",
   "execution_count": null,
   "metadata": {},
   "outputs": [],
   "source": [
    "def plot_ribbon(ts, xs, color='k', ribbon_alpha=0.2, ax=None, xlab=None, ylab=None):\n",
    "    mean = np.mean(xs, axis=0)\n",
    "    ci = 1.96 * np.divide(np.std(xs, axis=0), np.sqrt(xs.shape[0]))\n",
    "    \n",
    "    if ax == None:\n",
    "        ax = plt.gca()\n",
    "    plt.sca(ax)\n",
    "    \n",
    "    h1 = ax.fill_between(ts, mean - ci, mean + ci, color=color, alpha=ribbon_alpha)\n",
    "    h2 = ax.plot(ts, mean, color=color)\n",
    "    \n",
    "    if not (xlab == None):\n",
    "        plt.xlabel(xlab)\n",
    "    \n",
    "    if not (ylab == None):\n",
    "        plt.ylabel(ylab)\n",
    "    \n",
    "    return h1, h2"
   ]
  },
  {
   "cell_type": "code",
   "execution_count": null,
   "metadata": {},
   "outputs": [],
   "source": [
    "#look into this: https://matplotlib.org/users/gridspec.html\n",
    "def make_subplots(N, K, legend, corrmap):\n",
    "    C = 3\n",
    "    width = C*(N + int(legend)) + int(corrmap)\n",
    "    height = C\n",
    "    \n",
    "    fig = plt.gcf()\n",
    "    fig.set_size_inches(w=C*(N+int(legend)+int(corrmap)), h=height)\n",
    "    gs = gridspec.GridSpec(nrows=height, ncols=width, wspace=0.0)\n",
    "    gs.update(left=0, right=1, wspace=0.1)\n",
    "    \n",
    "    #fig.tight_layout(pad=0, h_pad=None, w_pad=None, rect=None)\n",
    "    \n",
    "    axes = []\n",
    "    for n in np.arange(N + int(legend)):\n",
    "        a = ()\n",
    "        axes.append(plt.subplot(gs[:, (C * n):((C * (n + 1) -1))]))\n",
    "    \n",
    "    if corrmap:\n",
    "        n = N + int(legend)\n",
    "        sub_gs = gridspec.GridSpecFromSubplotSpec(K, 1, subplot_spec=gs[:, (C * n):((C * (n + 1) -1))], hspace=0.1)\n",
    "        for k in np.arange(K):\n",
    "            axes.append(plt.subplot(sub_gs[k, :]))\n",
    "    return fig, axes"
   ]
  },
  {
   "cell_type": "code",
   "execution_count": null,
   "metadata": {},
   "outputs": [],
   "source": [
    "def format_subplots(ax, N):\n",
    "    #timeseries plots\n",
    "    xlim = [np.inf, -np.inf]\n",
    "    ylim = [np.inf, -np.inf]\n",
    "    \n",
    "    for n in np.arange(N):\n",
    "        next_xlim = ax[n].get_xlim()\n",
    "        next_ylim = ax[n].get_ylim()\n",
    "        \n",
    "        if next_xlim[0] < xlim[0]:\n",
    "            xlim[0] = next_xlim[0]\n",
    "        \n",
    "        if next_ylim[0] < ylim[0]:\n",
    "            ylim[0] = next_ylim[0]\n",
    "        \n",
    "        if next_xlim[1] > xlim[1]:\n",
    "            xlim[1] = next_xlim[1]\n",
    "        \n",
    "        if next_ylim[1] > ylim[1]:\n",
    "            ylim[1] = next_ylim[1]\n",
    "    \n",
    "    for n in np.arange(N):\n",
    "        ax[n].set_xlim(xlim)\n",
    "        ax[n].set_ylim(ylim)\n",
    "        if n > 0:\n",
    "            ax[n].set_yticklabels([])\n",
    "    \n",
    "    return xlim, ylim"
   ]
  },
  {
   "cell_type": "code",
   "execution_count": null,
   "metadata": {},
   "outputs": [
    {
     "data": {
      "image/png": "[encoded data removed]",
      "text/plain": [
       "<Figure size 864x216 with 7 Axes>"
      ]
     },
     "metadata": {
      "needs_background": "light"
     },
     "output_type": "display_data"
    }
   ],
   "source": [
    "N = 2\n",
    "K = 4\n",
    "fig, ax = make_subplots(N, K, True, True);\n",
    "for i, a in enumerate(ax):\n",
    "    a.plot(np.arange(10), i*np.arange(10), 'k')\n",
    "format_subplots(ax, N);"
   ]
  },
  {
   "cell_type": "code",
   "execution_count": null,
   "metadata": {},
   "outputs": [],
   "source": [
    "def recovery_test_multi(K, T, N, kernels, datagen=ramping_dataset, testfuns=[identity_compare], legend=True, corrmap=False, titles=None, xlab='Time', ylab='Correlation'):\n",
    "    def add_to_axis(ts, corrs, colors, ax):        \n",
    "        for i in np.arange(len(kernels)):\n",
    "            plot_ribbon(ts, corrs[i], color=colors[i], ax=ax)\n",
    "        ax.set(xlim=[0, T-1])\n",
    "        if not (xlab == None):\n",
    "            ax.set(xlabel=xlab)\n",
    "    \n",
    "    def recovery_corrs(truth, guess):\n",
    "        if type(truth) is list:\n",
    "            c_sum = np.zeros()\n",
    "        return np.diag(1 - cdist(truth[:, K:], guess[:, K:], 'correlation'))\n",
    "    \n",
    "    J = 0\n",
    "    for t in testfuns:\n",
    "        J += t()\n",
    "    \n",
    "    corr_tests = []\n",
    "    for i in np.arange(J):\n",
    "        x = []\n",
    "        for j in np.arange(len(kernels)):\n",
    "            x.append(np.zeros([N, T]))\n",
    "        corr_tests.append(x)\n",
    "    \n",
    "    if corrmap:\n",
    "        recovered_tcorr_mat = []\n",
    "        for k in kernels:\n",
    "            recovered_tcorr_mat.append(np.zeros([T, T]))\n",
    "    \n",
    "    for n in np.arange(N):\n",
    "        next_Y, next_corrs = datagen(K, T)\n",
    "        for i, k in enumerate(kernels):\n",
    "            recovered_corrs = tc.timecorr(next_Y, weights_function=k['weights'], weights_params=k['params'])\n",
    "            j = 0\n",
    "            for t in np.arange(len(testfuns)):\n",
    "                obs_parsed = testfuns[j](next_corrs)\n",
    "                for next_obs in obs_parsed:\n",
    "                    corr_tests[j][i][n, :] = recovery_corrs(next_obs, recovered_corrs)\n",
    "                    j += 1\n",
    "            if corrmap:\n",
    "                recovered_tcorr_mat[i] = recovered_tcorr_mat[i] + tc.helpers.r2z(1 - cdist(next_corrs, recovered_corrs, 'correlation'))\n",
    "    if corrmap:\n",
    "        for i in np.arange(len(kernels)):\n",
    "            recovered_tcorr_mat[i] = tc.helpers.z2r(np.divide(recovered_tcorr_mat[i], N))\n",
    "    \n",
    "    n = 0\n",
    "    if legend:\n",
    "        n += 1\n",
    "    if corrmap:\n",
    "        n += len(kernels)\n",
    "    \n",
    "    colors = sns.cubehelix_palette(n_colors=len(kernels))\n",
    "    #fig, ax = plt.subplots(nrows=1, ncols=len(testfuns)+n, sharey=True, sharex=False)\n",
    "    fig, ax = make_subplots(J, len(kernels), legend, corrmap)\n",
    "    \n",
    "    #fig.set_size_inches(10, 2)\n",
    "    \n",
    "    ts = np.arange(T)\n",
    "    for i in np.arange(J):\n",
    "        add_to_axis(ts, corr_tests[i], colors, ax[i])\n",
    "\n",
    "    if not (ylab == None):\n",
    "        ax[0].set(ylabel=ylab)    \n",
    "    \n",
    "    if legend:\n",
    "        hs = []\n",
    "        for i in np.arange(len(kernels)):\n",
    "            hs.append(ax[-n].plot(ts, np.ones_like(ts), color=colors[i]))\n",
    "        ax[-n].legend(list(map(lambda x: x['name'], kernels)), loc='center', frameon=False)\n",
    "        ax[-n].axis('off')\n",
    "        for h in hs:\n",
    "            h[0].set_visible(False)\n",
    "    \n",
    "    xlim, ylim = format_subplots(ax, J)\n",
    "    \n",
    "    if corrmap:                    \n",
    "        for i in np.arange(len(kernels)):\n",
    "            sns.heatmap(recovered_tcorr_mat[i], ax=ax[-n+i+1], vmin=ylim[0], vmax=ylim[1], cbar=False)\n",
    "            ax[-n+i+1].set_xticks([])\n",
    "            ax[-n+i+1].set_yticks([])\n",
    "    \n",
    "    if not (titles == None):\n",
    "        if not (type(titles) == list):\n",
    "            titles = [titles]*(len(ax)-n)\n",
    "        for i, a in enumerate(ax):\n",
    "            if i > len(ax) - (n + 1):\n",
    "                break\n",
    "            a.set_title(titles[i])\n",
    "    \n",
    "    "
   ]
  },
  {
   "cell_type": "code",
   "execution_count": null,
   "metadata": {},
   "outputs": [],
   "source": [
    "width = 50\n",
    "delta = {'name': '$\\delta$', 'weights': tc.eye_weights, 'params': tc.eye_params}\n",
    "gaussian = {'name': 'Gaussian', 'weights': tc.gaussian_weights, 'params': {'var': width}}\n",
    "laplace = {'name': 'Laplace', 'weights': tc.laplace_weights, 'params': {'scale': width}}\n",
    "mexican_hat = {'name': 'Mexican hat', 'weights': tc.mexican_hat_weights, 'params': {'sigma': width}}\n",
    "kernels = [delta, gaussian, laplace, mexican_hat]\n",
    "\n",
    "K = 200\n",
    "T = 1000\n",
    "N = 10"
   ]
  },
  {
   "cell_type": "code",
   "execution_count": null,
   "metadata": {
    "pixiedust": {
     "displayParams": {}
    }
   },
   "outputs": [],
   "source": [
    "recovery_test_multi(K, T, N, kernels, datagen=ramping_dataset, testfuns=[identity_compare, ramping_compare], titles=['All', 'First', 'Last'])\n",
    "plt.gcf().savefig(os.path.join(figdir, f'ramping_recovery_{width}.pdf'), bbox_inches='tight')"
   ]
  },
  {
   "cell_type": "code",
   "execution_count": null,
   "metadata": {},
   "outputs": [],
   "source": [
    "recovery_test_multi(K, T, N, kernels, datagen=random_dataset, testfuns=[identity_compare], titles=['All'], legend=False)\n",
    "plt.gcf().savefig(os.path.join(figdir, f'random_recovery_{width}.pdf'), bbox_inches='tight')"
   ]
  },
  {
   "cell_type": "code",
   "execution_count": null,
   "metadata": {},
   "outputs": [],
   "source": [
    "titles = ['All']\n",
    "titles.extend(list(map(lambda b: f'Block {b+1}', np.arange(B))))\n",
    "recovery_test_multi(K, T, N, kernels, datagen=block_dataset, testfuns=[identity_compare, block_compare], titles=titles, legend=False)\n",
    "plt.gcf().savefig(os.path.join(figdir, f'block_recovery_{width}.pdf'), bbox_inches='tight')"
   ]
  },
  {
   "cell_type": "code",
   "execution_count": null,
   "metadata": {},
   "outputs": [],
   "source": [
    "recovery_test_multi(K, T, N, kernels, datagen=constant_dataset, testfuns=[identity_compare], titles=['All'], legend=False)\n",
    "plt.gcf().savefig(os.path.join(figdir, f'constant_recovery_{width}.pdf'), bbox_inches='tight')"
   ]
  },
  {
   "cell_type": "code",
   "execution_count": null,
   "metadata": {},
   "outputs": [],
   "source": []
  },
  {
   "cell_type": "code",
   "execution_count": null,
   "metadata": {},
   "outputs": [],
   "source": []
  }
 ],
 "metadata": {
  "kernelspec": {
   "display_name": "Python 3",
   "language": "python",
   "name": "python3"
  },
  "language_info": {
   "codemirror_mode": {
    "name": "ipython",
    "version": 3
   },
   "file_extension": ".py",
   "mimetype": "text/x-python",
   "name": "python",
   "nbconvert_exporter": "python",
   "pygments_lexer": "ipython3",
   "version": "3.6.5"
  }
 },
 "nbformat": 4,
 "nbformat_minor": 2
}
